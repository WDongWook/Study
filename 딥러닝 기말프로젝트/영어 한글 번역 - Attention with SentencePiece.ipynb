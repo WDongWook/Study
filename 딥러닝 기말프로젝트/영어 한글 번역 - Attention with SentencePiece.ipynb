{
 "cells": [
  {
   "cell_type": "code",
   "execution_count": 1,
   "metadata": {},
   "outputs": [],
   "source": [
    "import time\n",
    "import pandas as pd\n",
    "import numpy as np\n",
    "import matplotlib.pyplot as plt\n",
    "import seaborn as sns\n",
    "import matplotlib.pyplot as plt\n",
    "import matplotlib.ticker as ticker\n",
    "%matplotlib inline\n",
    "plt.rc('font',family = 'Malgun Gothic')\n",
    "plt.rc('axes',unicode_minus = False)\n",
    "\n",
    "import tensorflow as tf\n",
    "\n",
    "\n",
    "from sklearn.model_selection import train_test_split\n",
    "from tensorflow.keras.preprocessing.text import Tokenizer\n",
    "from tensorflow.keras.preprocessing.sequence import pad_sequences\n",
    "import sentencepiece as spm\n",
    "import unicodedata\n",
    "import re\n",
    "import warnings\n",
    "warnings.filterwarnings('ignore')"
   ]
  },
  {
   "cell_type": "code",
   "execution_count": 2,
   "metadata": {},
   "outputs": [
    {
     "name": "stderr",
     "output_type": "stream",
     "text": [
      "b'Skipping line 38: expected 3 fields, saw 4\\nSkipping line 40: expected 3 fields, saw 5\\nSkipping line 41: expected 3 fields, saw 5\\nSkipping line 58: expected 3 fields, saw 4\\nSkipping line 63: expected 3 fields, saw 4\\nSkipping line 64: expected 3 fields, saw 4\\nSkipping line 65: expected 3 fields, saw 5\\nSkipping line 66: expected 3 fields, saw 5\\nSkipping line 71: expected 3 fields, saw 5\\nSkipping line 75: expected 3 fields, saw 5\\nSkipping line 80: expected 3 fields, saw 5\\nSkipping line 81: expected 3 fields, saw 5\\nSkipping line 83: expected 3 fields, saw 5\\nSkipping line 86: expected 3 fields, saw 4\\nSkipping line 89: expected 3 fields, saw 5\\nSkipping line 158: expected 3 fields, saw 5\\nSkipping line 203: expected 3 fields, saw 5\\nSkipping line 208: expected 3 fields, saw 4\\nSkipping line 232: expected 3 fields, saw 5\\nSkipping line 233: expected 3 fields, saw 5\\nSkipping line 244: expected 3 fields, saw 4\\nSkipping line 335: expected 3 fields, saw 5\\nSkipping line 336: expected 3 fields, saw 5\\n'\n"
     ]
    }
   ],
   "source": [
    "df = pd.read_csv(\"en-ko.txt\",error_bad_lines=False,encoding = 'cp949',header= 0)"
   ]
  },
  {
   "cell_type": "code",
   "execution_count": 3,
   "metadata": {},
   "outputs": [],
   "source": [
    "import urllib3\n",
    "import zipfile\n",
    "import shutil\n",
    "import os\n",
    "import unicodedata"
   ]
  },
  {
   "cell_type": "markdown",
   "metadata": {},
   "source": [
    "### 전처리"
   ]
  },
  {
   "cell_type": "code",
   "execution_count": 4,
   "metadata": {},
   "outputs": [],
   "source": [
    "def unicode_to_ascii(s):\n",
    "    return ''.join(c for c in unicodedata.normalize('NFD', s)\n",
    "       if unicodedata.category(c) != 'Mn')"
   ]
  },
  {
   "cell_type": "code",
   "execution_count": 5,
   "metadata": {},
   "outputs": [],
   "source": [
    "def preprocess_sentence(w):\n",
    "    w = unicode_to_ascii(w.lower().strip())\n",
    "\n",
    "    w = re.sub(r\"([?.!,])\", r\" \\1 \", w)\n",
    "    w = re.sub(r'[\" \"]+', \" \", w)\n",
    "\n",
    "    w = re.sub(r\"[^a-zA-Z[가-힣]?.!]+\", \" \", w)\n",
    "    w = re.sub('[-=+,#/\\:^$@*\\\"※~&%ㆍ』\\\\‘|\\(\\)\\[\\]\\<\\>`\\'…》]', '', w)\n",
    "\n",
    "    w = w.strip()\n",
    "\n",
    "    w = '<s> ' + w + ' </s>'\n",
    "    return w"
   ]
  },
  {
   "cell_type": "code",
   "execution_count": 6,
   "metadata": {
    "scrolled": true
   },
   "outputs": [],
   "source": [
    "encoder_input, decoder_input = [], []\n",
    "\n",
    "with open('kor.txt','r',encoding = 'utf-8') as lines:\n",
    "    for i, line in enumerate(lines):\n",
    "\n",
    "            # source 데이터와 target 데이터 분리\n",
    "            src_line, tar_line, _ = line.strip().split('\\t')\n",
    "\n",
    "            # source 데이터 전처리\n",
    "            src_line_input = [w for w in preprocess_sentence(src_line).split()]\n",
    "\n",
    "            # target 데이터 전처리\n",
    "            tar_line_input = [w for w in preprocess_sentence(tar_line).split()]\n",
    "\n",
    "            encoder_input.append(src_line_input)\n",
    "            decoder_input.append(tar_line_input)"
   ]
  },
  {
   "cell_type": "code",
   "execution_count": 7,
   "metadata": {},
   "outputs": [],
   "source": [
    "d  = [' '.join(decoder_input[i]) for i in range(len(decoder_input))]\n",
    "e = [' '.join(encoder_input[i]) for i in range(len(encoder_input))]"
   ]
  },
  {
   "cell_type": "code",
   "execution_count": 8,
   "metadata": {},
   "outputs": [],
   "source": [
    "def data_modify(data) :\n",
    "    df = data.reset_index()\n",
    "    \n",
    "    del df['sentences = [']\n",
    "    \n",
    "    df = df.iloc[:len(df)-1]\n",
    "    df.rename(columns = {'level_0' : 'eng','level_1' :'kor'},inplace = True)\n",
    "    return df"
   ]
  },
  {
   "cell_type": "code",
   "execution_count": 9,
   "metadata": {},
   "outputs": [],
   "source": [
    "df = data_modify(df)"
   ]
  },
  {
   "cell_type": "code",
   "execution_count": 10,
   "metadata": {},
   "outputs": [],
   "source": [
    "df['eng'] = [preprocess_sentence(d) for d in df['eng']]\n",
    "df['kor'] = [preprocess_sentence(d) for d in df['kor']]"
   ]
  },
  {
   "cell_type": "code",
   "execution_count": 11,
   "metadata": {},
   "outputs": [],
   "source": [
    "d = d[:1500 - len(df)]\n",
    "e = e[:1500 - len(df)]"
   ]
  },
  {
   "cell_type": "code",
   "execution_count": 12,
   "metadata": {},
   "outputs": [],
   "source": [
    "new = pd.DataFrame(d,e).reset_index().rename(columns = {'index' : 'eng',0 : 'kor'})"
   ]
  },
  {
   "cell_type": "code",
   "execution_count": 13,
   "metadata": {},
   "outputs": [],
   "source": [
    "df = pd.concat([df,new]).reset_index()"
   ]
  },
  {
   "cell_type": "code",
   "execution_count": 14,
   "metadata": {},
   "outputs": [],
   "source": [
    "del df['index']"
   ]
  },
  {
   "cell_type": "code",
   "execution_count": 15,
   "metadata": {},
   "outputs": [
    {
     "data": {
      "text/html": [
       "<div>\n",
       "<style scoped>\n",
       "    .dataframe tbody tr th:only-of-type {\n",
       "        vertical-align: middle;\n",
       "    }\n",
       "\n",
       "    .dataframe tbody tr th {\n",
       "        vertical-align: top;\n",
       "    }\n",
       "\n",
       "    .dataframe thead th {\n",
       "        text-align: right;\n",
       "    }\n",
       "</style>\n",
       "<table border=\"1\" class=\"dataframe\">\n",
       "  <thead>\n",
       "    <tr style=\"text-align: right;\">\n",
       "      <th></th>\n",
       "      <th>eng</th>\n",
       "      <th>kor</th>\n",
       "    </tr>\n",
       "  </thead>\n",
       "  <tbody>\n",
       "    <tr>\n",
       "      <th>0</th>\n",
       "      <td>&lt;s&gt; he came to london by way of siberia . &lt;/s&gt;</td>\n",
       "      <td>&lt;s&gt; 그 사람은 시베리아를 거쳐서 런던에 와...</td>\n",
       "    </tr>\n",
       "    <tr>\n",
       "      <th>1</th>\n",
       "      <td>&lt;s&gt; is there bus service to the airport ? &lt;/s&gt;</td>\n",
       "      <td>&lt;s&gt; 공항까지 가는 버스가 있나요 ? &lt;/s&gt;</td>\n",
       "    </tr>\n",
       "    <tr>\n",
       "      <th>2</th>\n",
       "      <td>&lt;s&gt; japan and south korea are neighbors . &lt;/s&gt;</td>\n",
       "      <td>&lt;s&gt; 일본과 남한은 이웃 국가다 . &lt;/s&gt;</td>\n",
       "    </tr>\n",
       "    <tr>\n",
       "      <th>3</th>\n",
       "      <td>&lt;s&gt; my favorite singer is kylie minogue . &lt;/s&gt;</td>\n",
       "      <td>&lt;s&gt; 내가 좋아하는 가수는 카일리 미노그야 ....</td>\n",
       "    </tr>\n",
       "    <tr>\n",
       "      <th>4</th>\n",
       "      <td>&lt;s&gt; my favorite singer is kylie minogue . &lt;/s&gt;</td>\n",
       "      <td>&lt;s&gt; 내가 좋아하는 가수는 카일리 미노그입ᄂ...</td>\n",
       "    </tr>\n",
       "  </tbody>\n",
       "</table>\n",
       "</div>"
      ],
      "text/plain": [
       "                                              eng  \\\n",
       "0  <s> he came to london by way of siberia . </s>   \n",
       "1  <s> is there bus service to the airport ? </s>   \n",
       "2  <s> japan and south korea are neighbors . </s>   \n",
       "3  <s> my favorite singer is kylie minogue . </s>   \n",
       "4  <s> my favorite singer is kylie minogue . </s>   \n",
       "\n",
       "                                                 kor  \n",
       "0  <s> 그 사람은 시베리아를 거쳐서 런던에 와...  \n",
       "1         <s> 공항까지 가는 버스가 있나요 ? </s>  \n",
       "2        <s> 일본과 남한은 이웃 국가다 . </s>  \n",
       "3  <s> 내가 좋아하는 가수는 카일리 미노그야 ....  \n",
       "4  <s> 내가 좋아하는 가수는 카일리 미노그입ᄂ...  "
      ]
     },
     "execution_count": 15,
     "metadata": {},
     "output_type": "execute_result"
    }
   ],
   "source": [
    "df.head()"
   ]
  },
  {
   "cell_type": "code",
   "execution_count": 16,
   "metadata": {},
   "outputs": [],
   "source": [
    "eng_vocab = max(len(l) for l in df['eng']) + 1\n",
    "kor_vocab = max(len(l) for l in df['kor']) + 1"
   ]
  },
  {
   "cell_type": "markdown",
   "metadata": {},
   "source": [
    "## SentencePiece"
   ]
  },
  {
   "cell_type": "markdown",
   "metadata": {},
   "source": [
    "### English"
   ]
  },
  {
   "cell_type": "code",
   "execution_count": 17,
   "metadata": {},
   "outputs": [],
   "source": [
    "with open('eng_translation.txt','w') as f:\n",
    "    f.write('\\n'.join(df['eng']))"
   ]
  },
  {
   "cell_type": "code",
   "execution_count": 18,
   "metadata": {},
   "outputs": [
    {
     "data": {
      "text/plain": [
       "True"
      ]
     },
     "execution_count": 18,
     "metadata": {},
     "output_type": "execute_result"
    }
   ],
   "source": [
    "spm.SentencePieceTrainer.Train('--input=eng_translation.txt --model_prefix=english --vocab_size=900 --user_defined_symbols=<s>,</s>')"
   ]
  },
  {
   "cell_type": "code",
   "execution_count": 19,
   "metadata": {},
   "outputs": [
    {
     "data": {
      "text/plain": [
       "True"
      ]
     },
     "execution_count": 19,
     "metadata": {},
     "output_type": "execute_result"
    }
   ],
   "source": [
    "sp_eng = spm.SentencePieceProcessor()\n",
    "vocab_file = \"english.model\"\n",
    "sp_eng.load(vocab_file)"
   ]
  },
  {
   "cell_type": "code",
   "execution_count": 20,
   "metadata": {},
   "outputs": [
    {
     "name": "stdout",
     "output_type": "stream",
     "text": [
      "<s> he came to london by way of siberia . </s>\n",
      "['▁', '<s>', '▁he', '▁came', '▁to', '▁lon', 'don', '▁', 'by', '▁', 'way', '▁of', '▁si', 'ber', 'i', 'a', '▁', '.', '▁', '</s>']\n",
      "[3, 1, 47, 219, 21, 812, 701, 3, 205, 3, 105, 77, 316, 189, 51, 44, 3, 4, 3, 2]\n"
     ]
    }
   ],
   "source": [
    "print(df['eng'][0])\n",
    "print(sp_eng.encode_as_pieces(df['eng'][0]))\n",
    "print(sp_eng.encode_as_ids(df['eng'][0]))"
   ]
  },
  {
   "cell_type": "code",
   "execution_count": 21,
   "metadata": {},
   "outputs": [],
   "source": [
    "eng_tokenizer = [sp_eng.encode_as_ids(line) for line in df['eng']]"
   ]
  },
  {
   "cell_type": "code",
   "execution_count": 22,
   "metadata": {},
   "outputs": [],
   "source": [
    "eng_vocab = pd.read_csv('english.vocab',sep= '\\t',header = None)"
   ]
  },
  {
   "cell_type": "markdown",
   "metadata": {},
   "source": [
    "### Kor"
   ]
  },
  {
   "cell_type": "code",
   "execution_count": 23,
   "metadata": {},
   "outputs": [],
   "source": [
    "with open('kor_translation.txt','w',encoding = 'utf-8') as f:\n",
    "    f.write('\\n'.join(df['kor']))"
   ]
  },
  {
   "cell_type": "code",
   "execution_count": 24,
   "metadata": {},
   "outputs": [
    {
     "data": {
      "text/plain": [
       "0       <s> 그 사람은 시베리아를 거쳐서 런던에 와...\n",
       "1              <s> 공항까지 가는 버스가 있나요 ? </s>\n",
       "2             <s> 일본과 남한은 이웃 국가다 . </s>\n",
       "3       <s> 내가 좋아하는 가수는 카일리 미노그야 ....\n",
       "4       <s> 내가 좋아하는 가수는 카일리 미노그입ᄂ...\n",
       "                              ...                        \n",
       "1495              <s> 톰에게 말을 걸어도 될까 ? </s>\n",
       "1496                        <s> 고양이 사료 샀어 ? </s>\n",
       "1497                             <s> 거미 무서워해 ? </s>\n",
       "1498                <s> 돌고래는 호기심이 많다 . </s>\n",
       "1499     <s> 거짓말 하지 마세요 . 솔직해지세요 . </s>\n",
       "Name: kor, Length: 1500, dtype: object"
      ]
     },
     "execution_count": 24,
     "metadata": {},
     "output_type": "execute_result"
    }
   ],
   "source": [
    "df['kor']"
   ]
  },
  {
   "cell_type": "code",
   "execution_count": 25,
   "metadata": {
    "scrolled": true
   },
   "outputs": [
    {
     "data": {
      "text/plain": [
       "True"
      ]
     },
     "execution_count": 25,
     "metadata": {},
     "output_type": "execute_result"
    }
   ],
   "source": [
    "spm.SentencePieceTrainer.Train('--input=kor_translation.txt --model_prefix=kor2 --user_defined_symbols=<s>,</s> --vocab_size=2800 --model_type=bpe')"
   ]
  },
  {
   "cell_type": "code",
   "execution_count": 26,
   "metadata": {},
   "outputs": [
    {
     "data": {
      "text/plain": [
       "True"
      ]
     },
     "execution_count": 26,
     "metadata": {},
     "output_type": "execute_result"
    }
   ],
   "source": [
    "sp_kor = spm.SentencePieceProcessor()\n",
    "vocab_file = \"kor2.model\"\n",
    "sp_kor.load(vocab_file)"
   ]
  },
  {
   "cell_type": "code",
   "execution_count": 27,
   "metadata": {},
   "outputs": [
    {
     "name": "stdout",
     "output_type": "stream",
     "text": [
      "<s> 우리가 사과할게 . </s>\n",
      "['▁', '<s>', '▁우리가', '▁사과', '할게', '▁.', '▁', '</s>']\n",
      "[2147, 1, 257, 290, 993, 3, 2147, 2]\n"
     ]
    }
   ],
   "source": [
    "print(df['kor'][900])\n",
    "print(sp_kor.encode_as_pieces(df['kor'][900]))\n",
    "print(sp_kor.encode_as_ids(df['kor'][900]))"
   ]
  },
  {
   "cell_type": "code",
   "execution_count": 28,
   "metadata": {},
   "outputs": [],
   "source": [
    "kor_tokenizer = [sp_kor.encode_as_ids(line) for line in df['kor']]"
   ]
  },
  {
   "cell_type": "markdown",
   "metadata": {},
   "source": [
    "### padding"
   ]
  },
  {
   "cell_type": "code",
   "execution_count": 29,
   "metadata": {},
   "outputs": [],
   "source": [
    "eng_tokenizer = pad_sequences(eng_tokenizer,padding = 'post')\n",
    "kor_tokenizer = pad_sequences(kor_tokenizer,padding = 'post')"
   ]
  },
  {
   "cell_type": "code",
   "execution_count": 30,
   "metadata": {},
   "outputs": [
    {
     "name": "stdout",
     "output_type": "stream",
     "text": [
      "eng_tokenizer의 크기 : (1500, 28)\n",
      "kor_tokenizer의 크기 : (1500, 21)\n"
     ]
    }
   ],
   "source": [
    "print('eng_tokenizer의 크기 : {}'.format(eng_tokenizer.shape))\n",
    "print('kor_tokenizer의 크기 : {}'.format(kor_tokenizer.shape))"
   ]
  },
  {
   "cell_type": "code",
   "execution_count": 31,
   "metadata": {},
   "outputs": [],
   "source": [
    "indices = np.arange(eng_tokenizer.shape[0])\n",
    "np.random.shuffle(indices)"
   ]
  },
  {
   "cell_type": "code",
   "execution_count": 32,
   "metadata": {},
   "outputs": [],
   "source": [
    "encoder_input = eng_tokenizer[indices]\n",
    "decoder_input = kor_tokenizer[indices]"
   ]
  },
  {
   "cell_type": "code",
   "execution_count": 33,
   "metadata": {},
   "outputs": [],
   "source": [
    "encoder_train,encoder_test,decoder_train,decoder_test = train_test_split(encoder_input,decoder_input,test_size = 0.2)"
   ]
  },
  {
   "cell_type": "code",
   "execution_count": 34,
   "metadata": {},
   "outputs": [
    {
     "name": "stdout",
     "output_type": "stream",
     "text": [
      "(1200, 21)\n",
      "(1200, 28)\n",
      "(300, 21)\n",
      "(300, 28)\n"
     ]
    }
   ],
   "source": [
    "print(decoder_train.shape)\n",
    "print(encoder_train.shape)\n",
    "print(decoder_test.shape)\n",
    "print(encoder_test.shape)"
   ]
  },
  {
   "cell_type": "markdown",
   "metadata": {},
   "source": [
    "## Machine Translation"
   ]
  },
  {
   "cell_type": "code",
   "execution_count": 35,
   "metadata": {},
   "outputs": [],
   "source": [
    "BUFFER_SIZE = len(encoder_train)\n",
    "BATCH_SIZE = 64\n",
    "steps_per_epoch = len(encoder_train)//BATCH_SIZE\n",
    "embedding_dim = 256\n",
    "units = 1024\n",
    "vocab_inp_size = max([max(l) for l in encoder_input])+1\n",
    "vocab_tar_size = max([max(l) for l in decoder_input])+1\n",
    "\n",
    "dataset = tf.data.Dataset.from_tensor_slices((encoder_train, decoder_train)).shuffle(BUFFER_SIZE)\n",
    "dataset = dataset.batch(BATCH_SIZE, drop_remainder=True)"
   ]
  },
  {
   "cell_type": "code",
   "execution_count": 36,
   "metadata": {},
   "outputs": [
    {
     "data": {
      "text/plain": [
       "(TensorShape([64, 28]), TensorShape([64, 21]))"
      ]
     },
     "execution_count": 36,
     "metadata": {},
     "output_type": "execute_result"
    }
   ],
   "source": [
    "example_input_batch, example_target_batch = next(iter(dataset))\n",
    "example_input_batch.shape, example_target_batch.shape"
   ]
  },
  {
   "cell_type": "code",
   "execution_count": 37,
   "metadata": {},
   "outputs": [],
   "source": [
    "class Encoder(tf.keras.Model):\n",
    "      def __init__(self, vocab_size, embedding_dim, enc_units, batch_sz):\n",
    "        super(Encoder, self).__init__()\n",
    "        self.batch_sz = batch_sz\n",
    "        self.enc_units = enc_units\n",
    "        self.embedding = tf.keras.layers.Embedding(vocab_size, embedding_dim)\n",
    "        self.gru = tf.keras.layers.GRU(self.enc_units,\n",
    "                                       return_sequences=True,\n",
    "                                       return_state=True,\n",
    "                                       recurrent_initializer='glorot_uniform')\n",
    "    \n",
    "      def call(self, x, hidden):\n",
    "        x = self.embedding(x)\n",
    "        output, state = self.gru(x, initial_state = hidden)\n",
    "        return output, state\n",
    "    \n",
    "      def initialize_hidden_state(self):\n",
    "        return tf.zeros((self.batch_sz, self.enc_units))"
   ]
  },
  {
   "cell_type": "code",
   "execution_count": 38,
   "metadata": {},
   "outputs": [
    {
     "name": "stdout",
     "output_type": "stream",
     "text": [
      "Encoder output shape: (batch size, sequence length, units) (64, 28, 1024)\n",
      "Encoder Hidden state shape: (batch size, units) (64, 1024)\n"
     ]
    }
   ],
   "source": [
    "encoder = Encoder(vocab_inp_size, embedding_dim, units, BATCH_SIZE)\n",
    "\n",
    "# sample input\n",
    "sample_hidden = encoder.initialize_hidden_state()\n",
    "sample_output, sample_hidden = encoder(example_input_batch, sample_hidden)\n",
    "print ('Encoder output shape: (batch size, sequence length, units) {}'.format(sample_output.shape))\n",
    "print ('Encoder Hidden state shape: (batch size, units) {}'.format(sample_hidden.shape))"
   ]
  },
  {
   "cell_type": "code",
   "execution_count": 39,
   "metadata": {},
   "outputs": [],
   "source": [
    "class BahdanauAttention(tf.keras.layers.Layer):\n",
    "    def __init__(self, units):\n",
    "        super(BahdanauAttention, self).__init__()\n",
    "        self.W1 = tf.keras.layers.Dense(units)\n",
    "        self.W2 = tf.keras.layers.Dense(units)\n",
    "        self.V = tf.keras.layers.Dense(1)\n",
    "\n",
    "    def call(self, query, values):\n",
    "        query_with_time_axis = tf.expand_dims(query, 1)\n",
    "        \n",
    "        score = self.V(tf.nn.tanh(self.W1(query_with_time_axis) + self.W2(values)))\n",
    "        \n",
    "        attention_weights = tf.nn.softmax(score, axis=1)\n",
    "\n",
    "        context_vector = attention_weights * values\n",
    "        context_vector = tf.reduce_sum(context_vector, axis=1)\n",
    "\n",
    "        return context_vector, attention_weights"
   ]
  },
  {
   "cell_type": "code",
   "execution_count": 40,
   "metadata": {},
   "outputs": [
    {
     "name": "stdout",
     "output_type": "stream",
     "text": [
      "Attention result shape: (batch size, units) (64, 1024)\n",
      "Attention weights shape: (batch_size, sequence_length, 1) (64, 28, 1)\n"
     ]
    }
   ],
   "source": [
    "attention_layer = BahdanauAttention(10)\n",
    "attention_result, attention_weights = attention_layer(sample_hidden, sample_output)\n",
    "\n",
    "print(\"Attention result shape: (batch size, units) {}\".format(attention_result.shape))\n",
    "print(\"Attention weights shape: (batch_size, sequence_length, 1) {}\".format(attention_weights.shape))"
   ]
  },
  {
   "cell_type": "code",
   "execution_count": 41,
   "metadata": {},
   "outputs": [],
   "source": [
    "class Decoder(tf.keras.Model):\n",
    "    def __init__(self, vocab_size, embedding_dim, dec_units, batch_sz):\n",
    "        super(Decoder, self).__init__()\n",
    "        self.batch_sz = batch_sz\n",
    "        self.dec_units = dec_units\n",
    "        self.embedding = tf.keras.layers.Embedding(vocab_size, embedding_dim)\n",
    "        self.gru = tf.keras.layers.GRU(self.dec_units,\n",
    "                                   return_sequences=True,\n",
    "                                   return_state=True,\n",
    "                                   recurrent_initializer='glorot_uniform')\n",
    "        \n",
    "        self.fc = tf.keras.layers.Dense(vocab_size)\n",
    "\n",
    "\n",
    "        self.attention = BahdanauAttention(self.dec_units)\n",
    "\n",
    "    def call(self, x, hidden, enc_output):\n",
    "   \n",
    "        context_vector, attention_weights = self.attention(hidden, enc_output)\n",
    "    \n",
    "        x = self.embedding(x)\n",
    "\n",
    "        x = tf.concat([tf.expand_dims(context_vector, 1), x], axis=-1)\n",
    "\n",
    "        output, state = self.gru(x)\n",
    "\n",
    "        output = tf.reshape(output, (-1, output.shape[2]))\n",
    "\n",
    "        x = self.fc(output)\n",
    "\n",
    "        return x, state, attention_weights"
   ]
  },
  {
   "cell_type": "code",
   "execution_count": 42,
   "metadata": {},
   "outputs": [
    {
     "name": "stdout",
     "output_type": "stream",
     "text": [
      "Decoder output shape: (batch_size, vocab size) (64, 2799)\n"
     ]
    }
   ],
   "source": [
    "decoder = Decoder(vocab_tar_size, embedding_dim, units, BATCH_SIZE)\n",
    "\n",
    "sample_decoder_output, _, _ = decoder(tf.random.uniform((BATCH_SIZE, 1)),\n",
    "                                      sample_hidden, sample_output)\n",
    "\n",
    "print ('Decoder output shape: (batch_size, vocab size) {}'.format(sample_decoder_output.shape))"
   ]
  },
  {
   "cell_type": "code",
   "execution_count": 43,
   "metadata": {},
   "outputs": [],
   "source": [
    "optimizer = tf.keras.optimizers.Adam()\n",
    "loss_object = tf.keras.losses.SparseCategoricalCrossentropy(\n",
    "    from_logits=True, reduction='none')\n",
    "\n",
    "def loss_function(real, pred):\n",
    "    mask = tf.math.logical_not(tf.math.equal(real, 0))\n",
    "    loss_ = loss_object(real, pred)\n",
    "\n",
    "    mask = tf.cast(mask, dtype=loss_.dtype)\n",
    "    loss_ *= mask\n",
    "\n",
    "    return tf.reduce_mean(loss_)"
   ]
  },
  {
   "cell_type": "code",
   "execution_count": 44,
   "metadata": {},
   "outputs": [],
   "source": [
    "@tf.function\n",
    "def train_step(inp, targ, enc_hidden):\n",
    "    \n",
    "    loss = 0\n",
    "    \n",
    "    with tf.GradientTape() as tape:\n",
    "        enc_output, enc_hidden = encoder(inp, enc_hidden)\n",
    "\n",
    "        dec_hidden = enc_hidden\n",
    "\n",
    "        dec_input = tf.expand_dims([sp_kor.piece_to_id('</s>')] * BATCH_SIZE, 1)\n",
    "\n",
    "        for t in range(1, targ.shape[1]):\n",
    "            predictions, dec_hidden, _ = decoder(dec_input, dec_hidden, enc_output)\n",
    "\n",
    "            loss += loss_function(targ[:, t], predictions)\n",
    "\n",
    "      # using teacher forcing\n",
    "            dec_input = tf.expand_dims(targ[:, t], 1)\n",
    "\n",
    "    batch_loss = (loss / int(targ.shape[1]))\n",
    "\n",
    "    variables = encoder.trainable_variables + decoder.trainable_variables\n",
    "\n",
    "    gradients = tape.gradient(loss, variables)\n",
    "\n",
    "    optimizer.apply_gradients(zip(gradients, variables))\n",
    "\n",
    "    return batch_loss"
   ]
  },
  {
   "cell_type": "code",
   "execution_count": 45,
   "metadata": {
    "scrolled": true
   },
   "outputs": [
    {
     "name": "stdout",
     "output_type": "stream",
     "text": [
      "Epoch 1 Batch 0 Loss 2.8936\n",
      "Epoch 1 Loss 2.1038\n",
      "Time taken for 1 epoch 50.80738544464111 sec\n",
      "\n",
      "Epoch 2 Batch 0 Loss 1.5313\n",
      "Epoch 2 Loss 1.5724\n",
      "Time taken for 1 epoch 34.44798946380615 sec\n",
      "\n",
      "Epoch 3 Batch 0 Loss 1.3141\n",
      "Epoch 3 Loss 1.3909\n",
      "Time taken for 1 epoch 32.98348355293274 sec\n",
      "\n",
      "Epoch 4 Batch 0 Loss 1.4212\n",
      "Epoch 4 Loss 1.3077\n",
      "Time taken for 1 epoch 32.918662309646606 sec\n",
      "\n",
      "Epoch 5 Batch 0 Loss 1.3069\n",
      "Epoch 5 Loss 1.2392\n",
      "Time taken for 1 epoch 32.975563526153564 sec\n",
      "\n",
      "Epoch 6 Batch 0 Loss 1.2007\n",
      "Epoch 6 Loss 1.1863\n",
      "Time taken for 1 epoch 33.33319854736328 sec\n",
      "\n",
      "Epoch 7 Batch 0 Loss 1.2698\n",
      "Epoch 7 Loss 1.1406\n",
      "Time taken for 1 epoch 33.08723568916321 sec\n",
      "\n",
      "Epoch 8 Batch 0 Loss 1.0089\n",
      "Epoch 8 Loss 1.0912\n",
      "Time taken for 1 epoch 32.88547706604004 sec\n",
      "\n",
      "Epoch 9 Batch 0 Loss 0.9897\n",
      "Epoch 9 Loss 1.0427\n",
      "Time taken for 1 epoch 33.304656744003296 sec\n",
      "\n",
      "Epoch 10 Batch 0 Loss 0.9508\n",
      "Epoch 10 Loss 0.9919\n",
      "Time taken for 1 epoch 33.08133363723755 sec\n",
      "\n",
      "Epoch 11 Batch 0 Loss 0.9349\n",
      "Epoch 11 Loss 0.9518\n",
      "Time taken for 1 epoch 32.19115233421326 sec\n",
      "\n",
      "Epoch 12 Batch 0 Loss 0.8608\n",
      "Epoch 12 Loss 0.8873\n",
      "Time taken for 1 epoch 32.561264991760254 sec\n",
      "\n",
      "Epoch 13 Batch 0 Loss 0.8353\n",
      "Epoch 13 Loss 0.8346\n",
      "Time taken for 1 epoch 34.099438428878784 sec\n",
      "\n",
      "Epoch 14 Batch 0 Loss 0.7324\n",
      "Epoch 14 Loss 0.7828\n",
      "Time taken for 1 epoch 33.6277129650116 sec\n",
      "\n",
      "Epoch 15 Batch 0 Loss 0.6992\n",
      "Epoch 15 Loss 0.7324\n",
      "Time taken for 1 epoch 33.472153186798096 sec\n",
      "\n",
      "Epoch 16 Batch 0 Loss 0.6944\n",
      "Epoch 16 Loss 0.6830\n",
      "Time taken for 1 epoch 32.37985277175903 sec\n",
      "\n",
      "Epoch 17 Batch 0 Loss 0.5579\n",
      "Epoch 17 Loss 0.6391\n",
      "Time taken for 1 epoch 32.32135725021362 sec\n",
      "\n",
      "Epoch 18 Batch 0 Loss 0.5545\n",
      "Epoch 18 Loss 0.5962\n",
      "Time taken for 1 epoch 32.36105132102966 sec\n",
      "\n",
      "Epoch 19 Batch 0 Loss 0.5325\n",
      "Epoch 19 Loss 0.5488\n",
      "Time taken for 1 epoch 33.41576170921326 sec\n",
      "\n",
      "Epoch 20 Batch 0 Loss 0.4022\n",
      "Epoch 20 Loss 0.5014\n",
      "Time taken for 1 epoch 33.07843208312988 sec\n",
      "\n",
      "Epoch 21 Batch 0 Loss 0.3819\n",
      "Epoch 21 Loss 0.4607\n",
      "Time taken for 1 epoch 33.23277187347412 sec\n",
      "\n",
      "Epoch 22 Batch 0 Loss 0.3831\n",
      "Epoch 22 Loss 0.4159\n",
      "Time taken for 1 epoch 33.604767084121704 sec\n",
      "\n",
      "Epoch 23 Batch 0 Loss 0.3299\n",
      "Epoch 23 Loss 0.3704\n",
      "Time taken for 1 epoch 33.03152346611023 sec\n",
      "\n",
      "Epoch 24 Batch 0 Loss 0.2730\n",
      "Epoch 24 Loss 0.3307\n",
      "Time taken for 1 epoch 32.98600792884827 sec\n",
      "\n",
      "Epoch 25 Batch 0 Loss 0.2421\n",
      "Epoch 25 Loss 0.2971\n",
      "Time taken for 1 epoch 33.32976984977722 sec\n",
      "\n",
      "Epoch 26 Batch 0 Loss 0.2275\n",
      "Epoch 26 Loss 0.2680\n",
      "Time taken for 1 epoch 34.42240238189697 sec\n",
      "\n",
      "Epoch 27 Batch 0 Loss 0.2186\n",
      "Epoch 27 Loss 0.2409\n",
      "Time taken for 1 epoch 33.21371388435364 sec\n",
      "\n",
      "Epoch 28 Batch 0 Loss 0.1939\n",
      "Epoch 28 Loss 0.2219\n",
      "Time taken for 1 epoch 33.31073355674744 sec\n",
      "\n",
      "Epoch 29 Batch 0 Loss 0.1661\n",
      "Epoch 29 Loss 0.2015\n",
      "Time taken for 1 epoch 35.29002571105957 sec\n",
      "\n",
      "Epoch 30 Batch 0 Loss 0.1520\n",
      "Epoch 30 Loss 0.1772\n",
      "Time taken for 1 epoch 34.412379026412964 sec\n",
      "\n"
     ]
    }
   ],
   "source": [
    "EPOCHS = 30\n",
    "\n",
    "for epoch in range(EPOCHS):\n",
    "    start = time.time()\n",
    "\n",
    "    enc_hidden = encoder.initialize_hidden_state()\n",
    "    total_loss = 0\n",
    "    \n",
    "    for (batch, (inp, targ)) in enumerate(dataset.take(steps_per_epoch)):\n",
    "        batch_loss = train_step(inp, targ, enc_hidden)\n",
    "        total_loss += batch_loss\n",
    "\n",
    "        if batch % 100 == 0:\n",
    "            print('Epoch {} Batch {} Loss {:.4f}'.format(epoch + 1,\n",
    "                                                   batch,\n",
    "                                                   batch_loss.numpy()))\n",
    "  \n",
    "    \n",
    "    print('Epoch {} Loss {:.4f}'.format(epoch + 1,total_loss / steps_per_epoch))\n",
    "    \n",
    "    print('Time taken for 1 epoch {} sec\\n'.format(time.time() - start))"
   ]
  },
  {
   "cell_type": "code",
   "execution_count": 46,
   "metadata": {},
   "outputs": [],
   "source": [
    "def evaluate(sentence):\n",
    "    \n",
    "    max_length_targ = decoder_input.shape[1]\n",
    "    max_length_inp = encoder_input.shape[1]\n",
    "    \n",
    "    attention_plot = np.zeros((max_length_targ, max_length_inp))\n",
    "\n",
    "    sentence = preprocess_sentence(sentence)\n",
    "\n",
    "    inputs = sp_eng.encode_as_ids(sentence)\n",
    "    inputs = tf.keras.preprocessing.sequence.pad_sequences([inputs],\n",
    "                                                         maxlen=max_length_inp,\n",
    "                                                         padding='post')\n",
    "    inputs = tf.convert_to_tensor(inputs)\n",
    "\n",
    "    result = ''\n",
    "\n",
    "    hidden = [tf.zeros((1, units))]\n",
    "    enc_out, enc_hidden = encoder(inputs, hidden)\n",
    "\n",
    "    dec_hidden = enc_hidden\n",
    "    dec_input = tf.expand_dims([sp_kor.piece_to_id('<s>')], 0)\n",
    "\n",
    "    for t in range(max_length_targ):\n",
    "        predictions, dec_hidden, attention_weights = decoder(dec_input,\n",
    "                                                         dec_hidden,\n",
    "                                                         enc_out)\n",
    "\n",
    "    # storing the attention weights to plot later on\n",
    "        attention_weights = tf.reshape(attention_weights, (-1, ))\n",
    "        attention_plot[t] = attention_weights.numpy()\n",
    "\n",
    "        predicted_id = tf.argmax(predictions[0]).numpy()\n",
    "\n",
    "        result += sp_kor.decode_ids([int(predicted_id)]) + ' '\n",
    "\n",
    "        if sp_kor.decode_ids([int(predicted_id)]) == '</s>':\n",
    "            return result, sentence, attention_plot\n",
    "\n",
    "    # the predicted ID is fed back into the model\n",
    "        dec_input = tf.expand_dims([predicted_id], 0)\n",
    "\n",
    "    return result, sentence, attention_plot"
   ]
  },
  {
   "cell_type": "code",
   "execution_count": 47,
   "metadata": {},
   "outputs": [],
   "source": [
    "def plot_attention(attention, sentence, predicted_sentence):\n",
    "    fig = plt.figure(figsize=(10,10))\n",
    "    ax = fig.add_subplot(1, 1, 1)\n",
    "    ax.matshow(attention, cmap='viridis')\n",
    "\n",
    "    fontdict = {'fontsize': 14}\n",
    "\n",
    "    ax.set_xticklabels([''] + sentence, fontdict=fontdict, rotation=90)\n",
    "    ax.set_yticklabels([''] + predicted_sentence, fontdict=fontdict)\n",
    "\n",
    "    ax.xaxis.set_major_locator(ticker.MultipleLocator(1))\n",
    "    ax.yaxis.set_major_locator(ticker.MultipleLocator(1))\n",
    "\n",
    "    plt.show()"
   ]
  },
  {
   "cell_type": "code",
   "execution_count": 48,
   "metadata": {},
   "outputs": [],
   "source": [
    "def translate(sentence):\n",
    "    result, sentence, attention_plot = evaluate(sentence)\n",
    "\n",
    "    print('Input: %s' % (sentence))\n",
    "    print('Predicted translation: {}'.format(result))\n",
    "\n",
    "    attention_plot = attention_plot[:len(result.split(' ')), :len(sentence.split(' '))]\n",
    "    plot_attention(attention_plot, sentence.split(' '), result.split(' '))"
   ]
  },
  {
   "cell_type": "code",
   "execution_count": 55,
   "metadata": {},
   "outputs": [
    {
     "data": {
      "text/html": [
       "<div>\n",
       "<style scoped>\n",
       "    .dataframe tbody tr th:only-of-type {\n",
       "        vertical-align: middle;\n",
       "    }\n",
       "\n",
       "    .dataframe tbody tr th {\n",
       "        vertical-align: top;\n",
       "    }\n",
       "\n",
       "    .dataframe thead th {\n",
       "        text-align: right;\n",
       "    }\n",
       "</style>\n",
       "<table border=\"1\" class=\"dataframe\">\n",
       "  <thead>\n",
       "    <tr style=\"text-align: right;\">\n",
       "      <th></th>\n",
       "      <th>eng</th>\n",
       "      <th>kor</th>\n",
       "    </tr>\n",
       "  </thead>\n",
       "  <tbody>\n",
       "    <tr>\n",
       "      <th>0</th>\n",
       "      <td>&lt;s&gt; he came to london by way of siberia . &lt;/s&gt;</td>\n",
       "      <td>&lt;s&gt; 그 사람은 시베리아를 거쳐서 런던에 와...</td>\n",
       "    </tr>\n",
       "    <tr>\n",
       "      <th>1</th>\n",
       "      <td>&lt;s&gt; is there bus service to the airport ? &lt;/s&gt;</td>\n",
       "      <td>&lt;s&gt; 공항까지 가는 버스가 있나요 ? &lt;/s&gt;</td>\n",
       "    </tr>\n",
       "    <tr>\n",
       "      <th>2</th>\n",
       "      <td>&lt;s&gt; japan and south korea are neighbors . &lt;/s&gt;</td>\n",
       "      <td>&lt;s&gt; 일본과 남한은 이웃 국가다 . &lt;/s&gt;</td>\n",
       "    </tr>\n",
       "    <tr>\n",
       "      <th>3</th>\n",
       "      <td>&lt;s&gt; my favorite singer is kylie minogue . &lt;/s&gt;</td>\n",
       "      <td>&lt;s&gt; 내가 좋아하는 가수는 카일리 미노그야 ....</td>\n",
       "    </tr>\n",
       "    <tr>\n",
       "      <th>4</th>\n",
       "      <td>&lt;s&gt; my favorite singer is kylie minogue . &lt;/s&gt;</td>\n",
       "      <td>&lt;s&gt; 내가 좋아하는 가수는 카일리 미노그입ᄂ...</td>\n",
       "    </tr>\n",
       "    <tr>\n",
       "      <th>...</th>\n",
       "      <td>...</td>\n",
       "      <td>...</td>\n",
       "    </tr>\n",
       "    <tr>\n",
       "      <th>1495</th>\n",
       "      <td>&lt;s&gt; could i speak to tom ? &lt;/s&gt;</td>\n",
       "      <td>&lt;s&gt; 톰에게 말을 걸어도 될까 ? &lt;/s&gt;</td>\n",
       "    </tr>\n",
       "    <tr>\n",
       "      <th>1496</th>\n",
       "      <td>&lt;s&gt; did you buy cat food ? &lt;/s&gt;</td>\n",
       "      <td>&lt;s&gt; 고양이 사료 샀어 ? &lt;/s&gt;</td>\n",
       "    </tr>\n",
       "    <tr>\n",
       "      <th>1497</th>\n",
       "      <td>&lt;s&gt; do spiders scare you ? &lt;/s&gt;</td>\n",
       "      <td>&lt;s&gt; 거미 무서워해 ? &lt;/s&gt;</td>\n",
       "    </tr>\n",
       "    <tr>\n",
       "      <th>1498</th>\n",
       "      <td>&lt;s&gt; dolphins are curious . &lt;/s&gt;</td>\n",
       "      <td>&lt;s&gt; 돌고래는 호기심이 많다 . &lt;/s&gt;</td>\n",
       "    </tr>\n",
       "    <tr>\n",
       "      <th>1499</th>\n",
       "      <td>&lt;s&gt; dont lie . be honest . &lt;/s&gt;</td>\n",
       "      <td>&lt;s&gt; 거짓말 하지 마세요 . 솔직해지세요 . &lt;/s&gt;</td>\n",
       "    </tr>\n",
       "  </tbody>\n",
       "</table>\n",
       "<p>1500 rows × 2 columns</p>\n",
       "</div>"
      ],
      "text/plain": [
       "                                                 eng  \\\n",
       "0     <s> he came to london by way of siberia . </s>   \n",
       "1     <s> is there bus service to the airport ? </s>   \n",
       "2     <s> japan and south korea are neighbors . </s>   \n",
       "3     <s> my favorite singer is kylie minogue . </s>   \n",
       "4     <s> my favorite singer is kylie minogue . </s>   \n",
       "...                                              ...   \n",
       "1495                 <s> could i speak to tom ? </s>   \n",
       "1496                 <s> did you buy cat food ? </s>   \n",
       "1497                 <s> do spiders scare you ? </s>   \n",
       "1498                 <s> dolphins are curious . </s>   \n",
       "1499                 <s> dont lie . be honest . </s>   \n",
       "\n",
       "                                                    kor  \n",
       "0     <s> 그 사람은 시베리아를 거쳐서 런던에 와...  \n",
       "1            <s> 공항까지 가는 버스가 있나요 ? </s>  \n",
       "2           <s> 일본과 남한은 이웃 국가다 . </s>  \n",
       "3     <s> 내가 좋아하는 가수는 카일리 미노그야 ....  \n",
       "4     <s> 내가 좋아하는 가수는 카일리 미노그입ᄂ...  \n",
       "...                                                 ...  \n",
       "1495            <s> 톰에게 말을 걸어도 될까 ? </s>  \n",
       "1496                      <s> 고양이 사료 샀어 ? </s>  \n",
       "1497                           <s> 거미 무서워해 ? </s>  \n",
       "1498              <s> 돌고래는 호기심이 많다 . </s>  \n",
       "1499   <s> 거짓말 하지 마세요 . 솔직해지세요 . </s>  \n",
       "\n",
       "[1500 rows x 2 columns]"
      ]
     },
     "execution_count": 55,
     "metadata": {},
     "output_type": "execute_result"
    }
   ],
   "source": [
    "df"
   ]
  },
  {
   "cell_type": "code",
   "execution_count": 59,
   "metadata": {},
   "outputs": [
    {
     "name": "stdout",
     "output_type": "stream",
     "text": [
      "Input: <s> do spiders scare you ? </s>\n",
      "Predicted translation: <s> 노래하는 거 좋아해 ?  </s> \n"
     ]
    },
    {
     "data": {
      "image/png": "[encoded data removed]",
      "text/plain": [
       "<Figure size 720x720 with 1 Axes>"
      ]
     },
     "metadata": {
      "needs_background": "light"
     },
     "output_type": "display_data"
    }
   ],
   "source": [
    "translate(u' do spiders scare you ? ')"
   ]
  }
 ],
 "metadata": {
  "kernelspec": {
   "display_name": "Python 3",
   "language": "python",
   "name": "python3"
  },
  "language_info": {
   "codemirror_mode": {
    "name": "ipython",
    "version": 3
   },
   "file_extension": ".py",
   "mimetype": "text/x-python",
   "name": "python",
   "nbconvert_exporter": "python",
   "pygments_lexer": "ipython3",
   "version": "3.7.7"
  }
 },
 "nbformat": 4,
 "nbformat_minor": 4
}
