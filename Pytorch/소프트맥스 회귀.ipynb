{
 "cells": [
  {
   "cell_type": "markdown",
   "id": "3f6178f3",
   "metadata": {},
   "source": [
    "# 3. 소프트맥스 회귀의 비용 함수 구현하기"
   ]
  },
  {
   "cell_type": "code",
   "execution_count": 1,
   "id": "011ebf0e",
   "metadata": {},
   "outputs": [],
   "source": [
    "import torch\n",
    "import torch.nn.functional as F"
   ]
  },
  {
   "cell_type": "code",
   "execution_count": 37,
   "id": "194a912c",
   "metadata": {},
   "outputs": [
    {
     "data": {
      "text/plain": [
       "<torch._C.Generator at 0x7fdb4a5239b0>"
      ]
     },
     "execution_count": 37,
     "metadata": {},
     "output_type": "execute_result"
    }
   ],
   "source": [
    "torch.manual_seed(1)"
   ]
  },
  {
   "cell_type": "markdown",
   "id": "b689e79c",
   "metadata": {},
   "source": [
    "## 3-1. 파이토치로 소프트맥스의 비용 함수 구현하기( Low - Level)"
   ]
  },
  {
   "cell_type": "code",
   "execution_count": 38,
   "id": "4bd57fae",
   "metadata": {},
   "outputs": [],
   "source": [
    "z = torch.FloatTensor([1,2,3])"
   ]
  },
  {
   "cell_type": "code",
   "execution_count": 39,
   "id": "bf3dfcbe",
   "metadata": {},
   "outputs": [],
   "source": [
    "hypothesis = F.softmax(z,dim = 0)"
   ]
  },
  {
   "cell_type": "code",
   "execution_count": 40,
   "id": "5e179c57",
   "metadata": {},
   "outputs": [
    {
     "name": "stdout",
     "output_type": "stream",
     "text": [
      "tensor([0.0900, 0.2447, 0.6652])\n",
      "tensor(1.)\n"
     ]
    }
   ],
   "source": [
    "print(hypothesis)\n",
    "print(hypothesis.sum())"
   ]
  },
  {
   "cell_type": "markdown",
   "id": "a59a2c12",
   "metadata": {},
   "source": [
    "### 비용함수 직접 구현하기"
   ]
  },
  {
   "cell_type": "code",
   "execution_count": 41,
   "id": "c28c4a62",
   "metadata": {},
   "outputs": [],
   "source": [
    "z = torch.rand(3,5, requires_grad = True)"
   ]
  },
  {
   "cell_type": "code",
   "execution_count": 42,
   "id": "5f130c0d",
   "metadata": {},
   "outputs": [
    {
     "name": "stdout",
     "output_type": "stream",
     "text": [
      "tensor([[0.2645, 0.1639, 0.1855, 0.2585, 0.1277],\n",
      "        [0.2430, 0.1624, 0.2322, 0.1930, 0.1694],\n",
      "        [0.2226, 0.1986, 0.2326, 0.1594, 0.1868]], grad_fn=<SoftmaxBackward0>)\n"
     ]
    }
   ],
   "source": [
    "hypothesis = F.softmax(z,dim=1)\n",
    "print(hypothesis)"
   ]
  },
  {
   "cell_type": "code",
   "execution_count": 43,
   "id": "16cdcfe5",
   "metadata": {},
   "outputs": [],
   "source": [
    "y = torch.randint(5,(3,)).long()"
   ]
  },
  {
   "cell_type": "code",
   "execution_count": 44,
   "id": "d26a0474",
   "metadata": {},
   "outputs": [
    {
     "name": "stdout",
     "output_type": "stream",
     "text": [
      "tensor([0, 2, 1])\n"
     ]
    }
   ],
   "source": [
    "print(y)"
   ]
  },
  {
   "cell_type": "code",
   "execution_count": 45,
   "id": "7af1fb0e",
   "metadata": {},
   "outputs": [],
   "source": [
    "y_ohe = torch.zeros_like(hypothesis) ### 모든 원소가 0인 3*5 텐서 생성x"
   ]
  },
  {
   "cell_type": "code",
   "execution_count": 46,
   "id": "dd6b5ede",
   "metadata": {},
   "outputs": [
    {
     "data": {
      "text/plain": [
       "tensor([[1., 0., 0., 0., 0.],\n",
       "        [0., 0., 1., 0., 0.],\n",
       "        [0., 1., 0., 0., 0.]])"
      ]
     },
     "execution_count": 46,
     "metadata": {},
     "output_type": "execute_result"
    }
   ],
   "source": [
    "y_ohe.scatter_(1,y.unsqueeze(1),1)"
   ]
  },
  {
   "cell_type": "markdown",
   "id": "72fb4265",
   "metadata": {},
   "source": [
    "- y.unsqueeze(1)을 하면 (3,) 크기를 가졌던 y텐서는 3*1 텐서가 된다.\n",
    "- scatter의 첫번째 인자로 dim = 1에 대해서 수행\n",
    "- 세번째 인자 1은 두번째 인자인 y.unsqueeze(1)이 알려주는 위치에 숫자 1을 넣는다.\n",
    "- 연산 뒤에 _를 붙이면 덮어쓰기 연산이다."
   ]
  },
  {
   "cell_type": "code",
   "execution_count": 47,
   "id": "4b36d4b0",
   "metadata": {},
   "outputs": [
    {
     "name": "stdout",
     "output_type": "stream",
     "text": [
      "tensor([[0],\n",
      "        [2],\n",
      "        [1]])\n"
     ]
    }
   ],
   "source": [
    "print(y.unsqueeze(1))"
   ]
  },
  {
   "cell_type": "code",
   "execution_count": 48,
   "id": "d5e842bf",
   "metadata": {},
   "outputs": [
    {
     "name": "stdout",
     "output_type": "stream",
     "text": [
      "tensor([[1., 0., 0., 0., 0.],\n",
      "        [0., 0., 1., 0., 0.],\n",
      "        [0., 1., 0., 0., 0.]])\n"
     ]
    }
   ],
   "source": [
    "print(y_ohe)"
   ]
  },
  {
   "cell_type": "code",
   "execution_count": 49,
   "id": "f90ba070",
   "metadata": {
    "scrolled": true
   },
   "outputs": [
    {
     "name": "stdout",
     "output_type": "stream",
     "text": [
      "tensor(1.4689, grad_fn=<MeanBackward0>)\n"
     ]
    }
   ],
   "source": [
    "cost = (y_ohe * - torch.log(hypothesis)).sum(dim = 1).mean()\n",
    "print(cost)"
   ]
  },
  {
   "cell_type": "markdown",
   "id": "c78eb086",
   "metadata": {},
   "source": [
    "## 3-2. F.log_softmax() + F.nll_loss() = F.cross_entropy()"
   ]
  },
  {
   "cell_type": "code",
   "execution_count": 51,
   "id": "9dd06f42",
   "metadata": {},
   "outputs": [
    {
     "data": {
      "text/plain": [
       "tensor(1.4689, grad_fn=<MeanBackward0>)"
      ]
     },
     "execution_count": 51,
     "metadata": {},
     "output_type": "execute_result"
    }
   ],
   "source": [
    "(y_ohe * - F.log_softmax(z,dim=1)).sum(dim=1).mean()"
   ]
  },
  {
   "cell_type": "code",
   "execution_count": 52,
   "id": "18ef084b",
   "metadata": {},
   "outputs": [
    {
     "data": {
      "text/plain": [
       "tensor(1.4689, grad_fn=<NllLossBackward0>)"
      ]
     },
     "execution_count": 52,
     "metadata": {},
     "output_type": "execute_result"
    }
   ],
   "source": [
    "F.nll_loss(F.log_softmax(z,dim=1),y)"
   ]
  },
  {
   "cell_type": "markdown",
   "id": "44407fbf",
   "metadata": {},
   "source": [
    "- nll : Negative Log Likelihood"
   ]
  },
  {
   "cell_type": "code",
   "execution_count": 53,
   "id": "7c784c85",
   "metadata": {},
   "outputs": [
    {
     "data": {
      "text/plain": [
       "tensor(1.4689, grad_fn=<NllLossBackward0>)"
      ]
     },
     "execution_count": 53,
     "metadata": {},
     "output_type": "execute_result"
    }
   ],
   "source": [
    "F.cross_entropy(z,y)"
   ]
  },
  {
   "cell_type": "markdown",
   "id": "748b7d26",
   "metadata": {},
   "source": [
    "# 5. 소프트맥스 회귀로 MNIST 데이터 분류하기"
   ]
  },
  {
   "cell_type": "code",
   "execution_count": 1,
   "id": "80039cbf",
   "metadata": {},
   "outputs": [],
   "source": [
    "import torch\n",
    "import torchvision.datasets as dsets\n",
    "import torchvision.transforms as transforms\n",
    "from torch.utils.data import DataLoader\n",
    "import torch.nn as nn\n",
    "import matplotlib.pyplot as plt\n",
    "import random"
   ]
  },
  {
   "cell_type": "code",
   "execution_count": 2,
   "id": "8c7c2c92",
   "metadata": {},
   "outputs": [
    {
     "data": {
      "text/plain": [
       "<torch._C.Generator at 0x7fea68469f30>"
      ]
     },
     "execution_count": 2,
     "metadata": {},
     "output_type": "execute_result"
    }
   ],
   "source": [
    "random.seed(777)\n",
    "torch.manual_seed(777)"
   ]
  },
  {
   "cell_type": "code",
   "execution_count": 3,
   "id": "7c443786",
   "metadata": {},
   "outputs": [],
   "source": [
    "training_epochs = 15\n",
    "batch_size = 100"
   ]
  },
  {
   "cell_type": "code",
   "execution_count": 4,
   "id": "6751bc29",
   "metadata": {},
   "outputs": [
    {
     "name": "stdout",
     "output_type": "stream",
     "text": [
      "Downloading http://yann.lecun.com/exdb/mnist/train-images-idx3-ubyte.gz\n",
      "Downloading http://yann.lecun.com/exdb/mnist/train-images-idx3-ubyte.gz to MNIST_data/MNIST/raw/train-images-idx3-ubyte.gz\n"
     ]
    },
    {
     "data": {
      "application/vnd.jupyter.widget-view+json": {
       "model_id": "41619744967c4866af4cc4fe6dabcfdb",
       "version_major": 2,
       "version_minor": 0
      },
      "text/plain": [
       "  0%|          | 0/9912422 [00:00<?, ?it/s]"
      ]
     },
     "metadata": {},
     "output_type": "display_data"
    },
    {
     "name": "stdout",
     "output_type": "stream",
     "text": [
      "Extracting MNIST_data/MNIST/raw/train-images-idx3-ubyte.gz to MNIST_data/MNIST/raw\n",
      "\n",
      "Downloading http://yann.lecun.com/exdb/mnist/train-labels-idx1-ubyte.gz\n",
      "Downloading http://yann.lecun.com/exdb/mnist/train-labels-idx1-ubyte.gz to MNIST_data/MNIST/raw/train-labels-idx1-ubyte.gz\n"
     ]
    },
    {
     "data": {
      "application/vnd.jupyter.widget-view+json": {
       "model_id": "48462f2000184ad0a4211c7acab4ec00",
       "version_major": 2,
       "version_minor": 0
      },
      "text/plain": [
       "  0%|          | 0/28881 [00:00<?, ?it/s]"
      ]
     },
     "metadata": {},
     "output_type": "display_data"
    },
    {
     "name": "stdout",
     "output_type": "stream",
     "text": [
      "Extracting MNIST_data/MNIST/raw/train-labels-idx1-ubyte.gz to MNIST_data/MNIST/raw\n",
      "\n",
      "Downloading http://yann.lecun.com/exdb/mnist/t10k-images-idx3-ubyte.gz\n",
      "Downloading http://yann.lecun.com/exdb/mnist/t10k-images-idx3-ubyte.gz to MNIST_data/MNIST/raw/t10k-images-idx3-ubyte.gz\n"
     ]
    },
    {
     "data": {
      "application/vnd.jupyter.widget-view+json": {
       "model_id": "d4e09b481c2b40f081e02f8bc9671a54",
       "version_major": 2,
       "version_minor": 0
      },
      "text/plain": [
       "  0%|          | 0/1648877 [00:00<?, ?it/s]"
      ]
     },
     "metadata": {},
     "output_type": "display_data"
    },
    {
     "name": "stdout",
     "output_type": "stream",
     "text": [
      "Extracting MNIST_data/MNIST/raw/t10k-images-idx3-ubyte.gz to MNIST_data/MNIST/raw\n",
      "\n",
      "Downloading http://yann.lecun.com/exdb/mnist/t10k-labels-idx1-ubyte.gz\n",
      "Downloading http://yann.lecun.com/exdb/mnist/t10k-labels-idx1-ubyte.gz to MNIST_data/MNIST/raw/t10k-labels-idx1-ubyte.gz\n"
     ]
    },
    {
     "data": {
      "application/vnd.jupyter.widget-view+json": {
       "model_id": "ddedddc5d2c24deabce219489c083fc0",
       "version_major": 2,
       "version_minor": 0
      },
      "text/plain": [
       "  0%|          | 0/4542 [00:00<?, ?it/s]"
      ]
     },
     "metadata": {},
     "output_type": "display_data"
    },
    {
     "name": "stdout",
     "output_type": "stream",
     "text": [
      "Extracting MNIST_data/MNIST/raw/t10k-labels-idx1-ubyte.gz to MNIST_data/MNIST/raw\n",
      "\n"
     ]
    }
   ],
   "source": [
    "mnist_train = dsets.MNIST(root='MNIST_data/',\n",
    "                          train = True,\n",
    "                          transform=transforms.ToTensor(),\n",
    "                          download=True)\n",
    "\n",
    "mnist_test = dsets.MNIST(root = 'MNIST_data/',\n",
    "                        train=False,\n",
    "                        transform=transforms.ToTensor(),\n",
    "                        download=True)"
   ]
  },
  {
   "cell_type": "markdown",
   "id": "bb07e65b",
   "metadata": {},
   "source": [
    "- root : MNIST 데이터 다운로드 받을 경로\n",
    "- train : True로 하면 MNIST 훈련 데이터 리턴\n",
    "- transform : 현재 데이터를 파이토치 텐서로 변환\n",
    "- download : 해당경로에 MNIST없다면 다운로드 받겠다는 의미"
   ]
  },
  {
   "cell_type": "code",
   "execution_count": 5,
   "id": "1e51b911",
   "metadata": {},
   "outputs": [],
   "source": [
    "data_loader = DataLoader(dataset=mnist_train,\n",
    "                        batch_size=batch_size,\n",
    "                        shuffle=True,\n",
    "                        drop_last=True)"
   ]
  },
  {
   "cell_type": "markdown",
   "id": "c60ea8c8",
   "metadata": {},
   "source": [
    "- drop_last : 마지막 배치를 버릴 것인지를 의미\n",
    "- 마지막 배치가 batch_size보다 작을 경우 마지막 배치를 경사 하강법에 사용하여 마지막 배치가 상대적으로 과대 평가되는 현상을 막아준다."
   ]
  },
  {
   "cell_type": "code",
   "execution_count": 6,
   "id": "68f656b0",
   "metadata": {},
   "outputs": [],
   "source": [
    "linear = nn.Linear(784,10,bias=True)"
   ]
  },
  {
   "cell_type": "markdown",
   "id": "21b61a13",
   "metadata": {},
   "source": [
    "- mnist 사이즈가 28*28 = 784이기때문에 784로 했고 0~9까지 값을 맞추는 것이기에 output_dim은 10으로 했다.\n",
    "- bias는 편향 사용할 것인지"
   ]
  },
  {
   "cell_type": "code",
   "execution_count": 7,
   "id": "a11a7899",
   "metadata": {},
   "outputs": [],
   "source": [
    "criterion = nn.CrossEntropyLoss()\n",
    "optimizer = torch.optim.SGD(linear.parameters(),lr = 0.1)"
   ]
  },
  {
   "cell_type": "markdown",
   "id": "3ad35555",
   "metadata": {},
   "source": [
    "- nn.functional.cross_entropy()나 위의 것이나 둘 다 소프트맥스 함수 포함"
   ]
  },
  {
   "cell_type": "code",
   "execution_count": 17,
   "id": "9df4e95c",
   "metadata": {},
   "outputs": [
    {
     "name": "stdout",
     "output_type": "stream",
     "text": [
      "Epoch : 1, cost = 0.53570157289505\n",
      "Epoch : 2, cost = 0.35940316319465637\n",
      "Epoch : 3, cost = 0.33112993836402893\n",
      "Epoch : 4, cost = 0.31661084294319153\n",
      "Epoch : 5, cost = 0.3072877526283264\n",
      "Epoch : 6, cost = 0.30015116930007935\n",
      "Epoch : 7, cost = 0.29512885212898254\n",
      "Epoch : 8, cost = 0.2905261516571045\n",
      "Epoch : 9, cost = 0.28743141889572144\n",
      "Epoch : 10, cost = 0.28442883491516113\n",
      "Epoch : 11, cost = 0.28172606229782104\n",
      "Epoch : 12, cost = 0.279582142829895\n",
      "Epoch : 13, cost = 0.2776218354701996\n",
      "Epoch : 14, cost = 0.27599993348121643\n",
      "Epoch : 15, cost = 0.2743197977542877\n",
      "Learning Finished...\n"
     ]
    }
   ],
   "source": [
    "for epoch in range(training_epochs) :\n",
    "    avg_cost = 0\n",
    "    total_batch = len(data_loader) ## len(mnist_train) / len(batch_size)\n",
    "    \n",
    "    for X,y in data_loader :\n",
    "        X = X.view(-1,28*28)\n",
    "        y = y\n",
    "        \n",
    "        optimizer.zero_grad()\n",
    "        hypothesis = linear(X)\n",
    "        cost = criterion(hypothesis,y)\n",
    "        cost.backward()\n",
    "        optimizer.step()\n",
    "        \n",
    "        \n",
    "        avg_cost += cost / total_batch\n",
    "        \n",
    "    print(f\"Epoch : {epoch+1}, cost = {avg_cost}\")\n",
    "    \n",
    "print('Learning Finished...')"
   ]
  },
  {
   "cell_type": "code",
   "execution_count": 27,
   "id": "d4229637",
   "metadata": {
    "scrolled": false
   },
   "outputs": [
    {
     "name": "stdout",
     "output_type": "stream",
     "text": [
      "Accuracy :  0.8833000063896179\n",
      "Label : 9\n",
      "\n",
      "Prediction : 9\n",
      "\n"
     ]
    },
    {
     "data": {
      "image/png": "[encoded data removed]",
      "text/plain": [
       "<Figure size 432x288 with 1 Axes>"
      ]
     },
     "metadata": {
      "needs_background": "light"
     },
     "output_type": "display_data"
    }
   ],
   "source": [
    "with torch.no_grad() : # no_grad는 gradient 수행 x\n",
    "    X_test = mnist_test.test_data.view(-1,28*28).float()\n",
    "    y_test = mnist_test.test_labels\n",
    "    \n",
    "    prediction = linear(X_test)\n",
    "    correct_prediction = torch.argmax(prediction,1) == y_test\n",
    "    accuracy = correct_prediction.float().mean()\n",
    "    print('Accuracy : ',accuracy.item())\n",
    "    \n",
    "    r = random.randint(0, len(mnist_test)-1) ## mnist 테스트 데이터에서 무작위 하나 뽑아서 예측\n",
    "    X_single = mnist_test.test_data[r:r+1].view(-1, 28*28).float()\n",
    "    y_single = mnist_test.test_labels[r:r+1]\n",
    "    \n",
    "    print(f\"Label : {y_single.item()}\\n\")\n",
    "    single_prediction = linear(X_single)\n",
    "    \n",
    "    print(f\"Prediction : {torch.argmax(single_prediction,1).item()}\\n\")\n",
    "    plt.imshow(mnist_test.test_data[r:r+1].view(28,28),cmap='Greys',interpolation='nearest')\n",
    "    plt.show()"
   ]
  }
 ],
 "metadata": {
  "kernelspec": {
   "display_name": "Python 3 (ipykernel)",
   "language": "python",
   "name": "python3"
  },
  "language_info": {
   "codemirror_mode": {
    "name": "ipython",
    "version": 3
   },
   "file_extension": ".py",
   "mimetype": "text/x-python",
   "name": "python",
   "nbconvert_exporter": "python",
   "pygments_lexer": "ipython3",
   "version": "3.9.7"
  }
 },
 "nbformat": 4,
 "nbformat_minor": 5
}
