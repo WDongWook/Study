{
 "cells": [
  {
   "cell_type": "markdown",
   "id": "e6c47ec3",
   "metadata": {},
   "source": [
    "## 1. 미니 배치와 배치 크기"
   ]
  },
  {
   "cell_type": "code",
   "execution_count": 1,
   "id": "2b7f5c9f",
   "metadata": {},
   "outputs": [],
   "source": [
    "import torch"
   ]
  },
  {
   "cell_type": "code",
   "execution_count": 2,
   "id": "fe6e89e1",
   "metadata": {},
   "outputs": [],
   "source": [
    "X_train = torch.FloatTensor([[73, 80, 75],\n",
    "                             [93, 88, 93],\n",
    "                             [89, 91, 90],\n",
    "                             [96, 98, 100],\n",
    "                             [73, 66, 70]])\n",
    "\n",
    "y_train = torch.FloatTensor([[152], [185], [180], [196], [142]])"
   ]
  },
  {
   "cell_type": "code",
   "execution_count": 3,
   "id": "ec7e702d",
   "metadata": {},
   "outputs": [
    {
     "data": {
      "text/plain": [
       "torch.Size([5, 3])"
      ]
     },
     "execution_count": 3,
     "metadata": {},
     "output_type": "execute_result"
    }
   ],
   "source": [
    "X_train.shape"
   ]
  },
  {
   "cell_type": "markdown",
   "id": "db31fc7f",
   "metadata": {},
   "source": [
    "- 데이터의 샘플 수는 5개여서 전체 데이터에 대해서 경사 하강법을 수행하여 학습이 가능\n",
    "- 그러나 현업에서는 방대한 양의 데이터를 다루기에 전체 데이터에 대해 경사하강법을 수행하면 매우 느리고 많은 계산량이 필요 -> 더 작은 단위로 나누어 해당 단위로 학습 -> 이 것이 미니 배치(Mini Batch)"
   ]
  },
  {
   "cell_type": "markdown",
   "id": "0d66ff39",
   "metadata": {},
   "source": [
    "- 미니 배치 학습을 하게 된다면 미니 배치만큼 가져가서 미니 배치에 대한 비용을 계산한 후 경사 하강법 수행, 순서대로 경사 하강법 수행하고 반복.\n",
    "- 이렇게 전체 데이터에 대한 학습이 1회 끝나면 1 에포크(epoch) 끝\n",
    "- 미니 배치 크기 : batch size\n",
    "- 배치 크기는 보통 2의 제곱수를 활용 -> CPU&GPU의 메모리가 2의 배수이기에 2의 제곱수일 경우 데이터 송수신 효율 높일 수 있다."
   ]
  },
  {
   "cell_type": "markdown",
   "id": "c42cb7db",
   "metadata": {},
   "source": [
    "## 2. 이터레이션(Iteration)"
   ]
  },
  {
   "cell_type": "markdown",
   "id": "4e818c1c",
   "metadata": {},
   "source": [
    "#### 전체 데이터가 2,000개일 경우\n",
    "\n",
    "- 배치 크기를 200으로 하면 이터레이션 수는 10개\n",
    "- 이는 한 번의 에포크 당 매개변수(W,b) 업데이트를 10번 이루어진다"
   ]
  },
  {
   "cell_type": "markdown",
   "id": "c6461545",
   "metadata": {},
   "source": [
    "## 3. 데이터 로드(Data Load)"
   ]
  },
  {
   "cell_type": "code",
   "execution_count": 4,
   "id": "73834b5d",
   "metadata": {},
   "outputs": [],
   "source": [
    "import torch\n",
    "from torch import nn\n",
    "import torch.nn.functional as F"
   ]
  },
  {
   "cell_type": "code",
   "execution_count": 5,
   "id": "1aea2b21",
   "metadata": {},
   "outputs": [],
   "source": [
    "from torch.utils.data import TensorDataset # 텐서데이터셋\n",
    "from torch.utils.data import DataLoader"
   ]
  },
  {
   "cell_type": "code",
   "execution_count": 6,
   "id": "09afd762",
   "metadata": {},
   "outputs": [],
   "source": [
    "X_train  =  torch.FloatTensor([[73,  80,  75], \n",
    "                               [93,  88,  93], \n",
    "                               [89,  91,  90], \n",
    "                               [96,  98,  100],   \n",
    "                               [73,  66,  70]])  \n",
    "y_train  =  torch.FloatTensor([[152],  [185],  [180],  [196],  [142]])"
   ]
  },
  {
   "cell_type": "code",
   "execution_count": 8,
   "id": "0fc5fc56",
   "metadata": {},
   "outputs": [],
   "source": [
    "dataset = TensorDataset(X_train,y_train)"
   ]
  },
  {
   "cell_type": "code",
   "execution_count": 10,
   "id": "fc03742f",
   "metadata": {},
   "outputs": [
    {
     "data": {
      "text/plain": [
       "(tensor([[ 73.,  80.,  75.],\n",
       "         [ 93.,  88.,  93.],\n",
       "         [ 89.,  91.,  90.],\n",
       "         [ 96.,  98., 100.],\n",
       "         [ 73.,  66.,  70.]]),\n",
       " tensor([[152.],\n",
       "         [185.],\n",
       "         [180.],\n",
       "         [196.],\n",
       "         [142.]]))"
      ]
     },
     "execution_count": 10,
     "metadata": {},
     "output_type": "execute_result"
    }
   ],
   "source": [
    "dataset.tensors"
   ]
  },
  {
   "cell_type": "code",
   "execution_count": 11,
   "id": "688cb342",
   "metadata": {},
   "outputs": [],
   "source": [
    "dataloader = DataLoader(dataset,batch_size=2,shuffle=True)"
   ]
  },
  {
   "cell_type": "markdown",
   "id": "78015b34",
   "metadata": {},
   "source": [
    "- 데이터로더는 기본적으로 2개의 인자를 받는다.\n",
    "- 하나는 데이터셋, 하나는 미니 배치 크기(크기는 2의 배수(ex. 32,64,128....))\n",
    "- shuffle : epoch마다 데이터셋 섞는다."
   ]
  },
  {
   "cell_type": "code",
   "execution_count": 12,
   "id": "4090ef53",
   "metadata": {},
   "outputs": [],
   "source": [
    "model = nn.Linear(3,1)\n",
    "optimizer = torch.optim.SGD(model.parameters(),lr = 1e-5)"
   ]
  },
  {
   "cell_type": "code",
   "execution_count": 18,
   "id": "3c127025",
   "metadata": {},
   "outputs": [
    {
     "name": "stdout",
     "output_type": "stream",
     "text": [
      "Epoch 1/20 Batch 1/3 Cost : 18223.535\n",
      "Epoch 1/20 Batch 2/3 Cost : 12890.672\n",
      "Epoch 1/20 Batch 3/3 Cost : 3580.65\n",
      "Epoch 2/20 Batch 1/3 Cost : 543.271\n",
      "Epoch 2/20 Batch 2/3 Cost : 241.828\n",
      "Epoch 2/20 Batch 3/3 Cost : 26.857\n",
      "Epoch 3/20 Batch 1/3 Cost : 31.017\n",
      "Epoch 3/20 Batch 2/3 Cost : 9.153\n",
      "Epoch 3/20 Batch 3/3 Cost : 0.149\n",
      "Epoch 4/20 Batch 1/3 Cost : 7.243\n",
      "Epoch 4/20 Batch 2/3 Cost : 1.09\n",
      "Epoch 4/20 Batch 3/3 Cost : 5.725\n",
      "Epoch 5/20 Batch 1/3 Cost : 5.992\n",
      "Epoch 5/20 Batch 2/3 Cost : 1.258\n",
      "Epoch 5/20 Batch 3/3 Cost : 1.009\n",
      "Epoch 6/20 Batch 1/3 Cost : 5.977\n",
      "Epoch 6/20 Batch 2/3 Cost : 1.43\n",
      "Epoch 6/20 Batch 3/3 Cost : 0.837\n",
      "Epoch 7/20 Batch 1/3 Cost : 1.673\n",
      "Epoch 7/20 Batch 2/3 Cost : 2.292\n",
      "Epoch 7/20 Batch 3/3 Cost : 11.351\n",
      "Epoch 8/20 Batch 1/3 Cost : 1.268\n",
      "Epoch 8/20 Batch 2/3 Cost : 6.096\n",
      "Epoch 8/20 Batch 3/3 Cost : 1.039\n",
      "Epoch 9/20 Batch 1/3 Cost : 4.515\n",
      "Epoch 9/20 Batch 2/3 Cost : 3.215\n",
      "Epoch 9/20 Batch 3/3 Cost : 0.561\n",
      "Epoch 10/20 Batch 1/3 Cost : 6.05\n",
      "Epoch 10/20 Batch 2/3 Cost : 1.498\n",
      "Epoch 10/20 Batch 3/3 Cost : 0.72\n",
      "Epoch 11/20 Batch 1/3 Cost : 4.731\n",
      "Epoch 11/20 Batch 2/3 Cost : 1.23\n",
      "Epoch 11/20 Batch 3/3 Cost : 5.227\n",
      "Epoch 12/20 Batch 1/3 Cost : 0.011\n",
      "Epoch 12/20 Batch 2/3 Cost : 8.859\n",
      "Epoch 12/20 Batch 3/3 Cost : 5.517\n",
      "Epoch 13/20 Batch 1/3 Cost : 0.503\n",
      "Epoch 13/20 Batch 2/3 Cost : 10.125\n",
      "Epoch 13/20 Batch 3/3 Cost : 0.915\n",
      "Epoch 14/20 Batch 1/3 Cost : 1.745\n",
      "Epoch 14/20 Batch 2/3 Cost : 8.335\n",
      "Epoch 14/20 Batch 3/3 Cost : 1.386\n",
      "Epoch 15/20 Batch 1/3 Cost : 0.391\n",
      "Epoch 15/20 Batch 2/3 Cost : 6.747\n",
      "Epoch 15/20 Batch 3/3 Cost : 6.95\n",
      "Epoch 16/20 Batch 1/3 Cost : 5.843\n",
      "Epoch 16/20 Batch 2/3 Cost : 1.782\n",
      "Epoch 16/20 Batch 3/3 Cost : 4.945\n",
      "Epoch 17/20 Batch 1/3 Cost : 5.958\n",
      "Epoch 17/20 Batch 2/3 Cost : 1.222\n",
      "Epoch 17/20 Batch 3/3 Cost : 0.997\n",
      "Epoch 18/20 Batch 1/3 Cost : 1.459\n",
      "Epoch 18/20 Batch 2/3 Cost : 2.546\n",
      "Epoch 18/20 Batch 3/3 Cost : 10.998\n",
      "Epoch 19/20 Batch 1/3 Cost : 3.1\n",
      "Epoch 19/20 Batch 2/3 Cost : 3.659\n",
      "Epoch 19/20 Batch 3/3 Cost : 5.64\n",
      "Epoch 20/20 Batch 1/3 Cost : 6.582\n",
      "Epoch 20/20 Batch 2/3 Cost : 0.102\n",
      "Epoch 20/20 Batch 3/3 Cost : 4.261\n"
     ]
    }
   ],
   "source": [
    "epochs = 20\n",
    "for epoch in range(1,epochs+1) :\n",
    "    for batch_idx, samples in enumerate(dataloader) :\n",
    "        X_train,y_train = samples\n",
    "        \n",
    "        prediction = model(X_train)\n",
    "        \n",
    "        cost = F.mse_loss(prediction,y_train)\n",
    "        \n",
    "        optimizer.zero_grad()\n",
    "        cost.backward()\n",
    "        optimizer.step()\n",
    "        \n",
    "        \n",
    "        print(f\"Epoch {epoch}/{epochs} Batch {batch_idx+1}/{len(dataloader)} Cost : {round(cost.item(),3)}\")"
   ]
  },
  {
   "cell_type": "code",
   "execution_count": 19,
   "id": "812c1da8",
   "metadata": {},
   "outputs": [],
   "source": [
    "new_var = torch.FloatTensor([[73,80,75]])"
   ]
  },
  {
   "cell_type": "code",
   "execution_count": 22,
   "id": "bce82f1d",
   "metadata": {},
   "outputs": [],
   "source": [
    "pred_y = model(new_var)"
   ]
  },
  {
   "cell_type": "code",
   "execution_count": 23,
   "id": "367f178c",
   "metadata": {},
   "outputs": [
    {
     "data": {
      "text/plain": [
       "tensor([[153.0993]], grad_fn=<AddmmBackward0>)"
      ]
     },
     "execution_count": 23,
     "metadata": {},
     "output_type": "execute_result"
    }
   ],
   "source": [
    "pred_y"
   ]
  }
 ],
 "metadata": {
  "kernelspec": {
   "display_name": "Python 3 (ipykernel)",
   "language": "python",
   "name": "python3"
  },
  "language_info": {
   "codemirror_mode": {
    "name": "ipython",
    "version": 3
   },
   "file_extension": ".py",
   "mimetype": "text/x-python",
   "name": "python",
   "nbconvert_exporter": "python",
   "pygments_lexer": "ipython3",
   "version": "3.9.7"
  }
 },
 "nbformat": 4,
 "nbformat_minor": 5
}
