{
 "cells": [
  {
   "cell_type": "markdown",
   "id": "7f3cb804",
   "metadata": {},
   "source": [
    "## 1. 데이터 로드하기"
   ]
  },
  {
   "cell_type": "code",
   "execution_count": 3,
   "id": "3188ced3",
   "metadata": {},
   "outputs": [],
   "source": [
    "import numpy as np\n",
    "import matplotlib.pyplot as plt\n",
    "%matplotlib inline\n",
    "\n",
    "from sklearn.datasets import fetch_openml"
   ]
  },
  {
   "cell_type": "code",
   "execution_count": 4,
   "id": "47c9fde8",
   "metadata": {},
   "outputs": [],
   "source": [
    "mnist = fetch_openml('mnist_784',version=1,cache=True)"
   ]
  },
  {
   "cell_type": "code",
   "execution_count": 20,
   "id": "f3799b6f",
   "metadata": {},
   "outputs": [
    {
     "data": {
      "text/plain": [
       "pixel1      0.0\n",
       "pixel2      0.0\n",
       "pixel3      0.0\n",
       "pixel4      0.0\n",
       "pixel5      0.0\n",
       "           ... \n",
       "pixel780    0.0\n",
       "pixel781    0.0\n",
       "pixel782    0.0\n",
       "pixel783    0.0\n",
       "pixel784    0.0\n",
       "Name: 0, Length: 784, dtype: float64"
      ]
     },
     "execution_count": 20,
     "metadata": {},
     "output_type": "execute_result"
    }
   ],
   "source": [
    "mnist.data.iloc[0,:]"
   ]
  },
  {
   "cell_type": "code",
   "execution_count": 16,
   "id": "f100f618",
   "metadata": {},
   "outputs": [
    {
     "data": {
      "text/plain": [
       "'5'"
      ]
     },
     "execution_count": 16,
     "metadata": {},
     "output_type": "execute_result"
    }
   ],
   "source": [
    "mnist.target[0]"
   ]
  },
  {
   "cell_type": "code",
   "execution_count": 21,
   "id": "df8fd119",
   "metadata": {},
   "outputs": [],
   "source": [
    "mnist.target = mnist.target.astype(np.int8)"
   ]
  },
  {
   "cell_type": "code",
   "execution_count": 23,
   "id": "82c0a4fc",
   "metadata": {},
   "outputs": [],
   "source": [
    "X = mnist.data / 255 # 0 ~ 255 값을 0과 1 구간으로 정규화\n",
    "y = mnist.target"
   ]
  },
  {
   "cell_type": "code",
   "execution_count": 31,
   "id": "068945f0",
   "metadata": {},
   "outputs": [],
   "source": [
    "X = np.array(X)"
   ]
  },
  {
   "cell_type": "code",
   "execution_count": 35,
   "id": "63f2ee29",
   "metadata": {},
   "outputs": [
    {
     "data": {
      "text/plain": [
       "array([0.        , 0.        , 0.        , 0.        , 0.        ,\n",
       "       0.        , 0.        , 0.        , 0.        , 0.        ,\n",
       "       0.        , 0.        , 0.        , 0.        , 0.        ,\n",
       "       0.        , 0.        , 0.        , 0.        , 0.        ,\n",
       "       0.        , 0.        , 0.        , 0.        , 0.        ,\n",
       "       0.        , 0.        , 0.        , 0.        , 0.        ,\n",
       "       0.        , 0.        , 0.        , 0.        , 0.        ,\n",
       "       0.        , 0.        , 0.        , 0.        , 0.        ,\n",
       "       0.        , 0.        , 0.        , 0.        , 0.        ,\n",
       "       0.        , 0.        , 0.        , 0.        , 0.        ,\n",
       "       0.        , 0.        , 0.        , 0.        , 0.        ,\n",
       "       0.        , 0.        , 0.        , 0.        , 0.        ,\n",
       "       0.        , 0.        , 0.        , 0.        , 0.        ,\n",
       "       0.        , 0.        , 0.        , 0.        , 0.        ,\n",
       "       0.        , 0.        , 0.        , 0.        , 0.        ,\n",
       "       0.        , 0.        , 0.        , 0.        , 0.        ,\n",
       "       0.        , 0.        , 0.        , 0.        , 0.        ,\n",
       "       0.        , 0.        , 0.        , 0.        , 0.        ,\n",
       "       0.        , 0.        , 0.        , 0.        , 0.        ,\n",
       "       0.        , 0.        , 0.        , 0.        , 0.        ,\n",
       "       0.        , 0.        , 0.        , 0.        , 0.        ,\n",
       "       0.        , 0.        , 0.        , 0.        , 0.        ,\n",
       "       0.        , 0.        , 0.        , 0.        , 0.        ,\n",
       "       0.        , 0.        , 0.        , 0.        , 0.        ,\n",
       "       0.        , 0.        , 0.        , 0.        , 0.        ,\n",
       "       0.        , 0.        , 0.        , 0.        , 0.        ,\n",
       "       0.        , 0.        , 0.        , 0.        , 0.        ,\n",
       "       0.        , 0.        , 0.        , 0.        , 0.        ,\n",
       "       0.        , 0.        , 0.        , 0.        , 0.        ,\n",
       "       0.        , 0.        , 0.        , 0.        , 0.        ,\n",
       "       0.        , 0.        , 0.01176471, 0.07058824, 0.07058824,\n",
       "       0.07058824, 0.49411765, 0.53333333, 0.68627451, 0.10196078,\n",
       "       0.65098039, 1.        , 0.96862745, 0.49803922, 0.        ,\n",
       "       0.        , 0.        , 0.        , 0.        , 0.        ,\n",
       "       0.        , 0.        , 0.        , 0.        , 0.        ,\n",
       "       0.        , 0.11764706, 0.14117647, 0.36862745, 0.60392157,\n",
       "       0.66666667, 0.99215686, 0.99215686, 0.99215686, 0.99215686,\n",
       "       0.99215686, 0.88235294, 0.6745098 , 0.99215686, 0.94901961,\n",
       "       0.76470588, 0.25098039, 0.        , 0.        , 0.        ,\n",
       "       0.        , 0.        , 0.        , 0.        , 0.        ])"
      ]
     },
     "execution_count": 35,
     "metadata": {},
     "output_type": "execute_result"
    }
   ],
   "source": [
    "X[0][:200]"
   ]
  },
  {
   "cell_type": "code",
   "execution_count": 39,
   "id": "773fe9b7",
   "metadata": {},
   "outputs": [
    {
     "name": "stdout",
     "output_type": "stream",
     "text": [
      "This image's label is 5.\n"
     ]
    },
    {
     "data": {
      "image/png": "[encoded data removed]",
      "text/plain": [
       "<Figure size 432x288 with 1 Axes>"
      ]
     },
     "metadata": {
      "needs_background": "light"
     },
     "output_type": "display_data"
    }
   ],
   "source": [
    "plt.imshow(X[0].reshape(28,28),cmap = 'gray')\n",
    "print(f\"This image's label is {y[0]}.\")"
   ]
  },
  {
   "cell_type": "markdown",
   "id": "32bf20ad",
   "metadata": {},
   "source": [
    "## 2. Train & Test split"
   ]
  },
  {
   "cell_type": "code",
   "execution_count": 40,
   "id": "84a4a30b",
   "metadata": {},
   "outputs": [],
   "source": [
    "import torch\n",
    "from torch.utils.data import TensorDataset,DataLoader\n",
    "from sklearn.model_selection import train_test_split\n",
    "\n",
    "X_tr,X_te, y_tr,y_te = train_test_split(torch.Tensor(X),torch.LongTensor(y),test_size=1/7,\n",
    "                                       random_state=42)"
   ]
  },
  {
   "cell_type": "markdown",
   "id": "afc2b54d",
   "metadata": {},
   "source": [
    "- int형 숫자에서는 longtensor 사용"
   ]
  },
  {
   "cell_type": "code",
   "execution_count": 64,
   "id": "ad09b848",
   "metadata": {},
   "outputs": [],
   "source": [
    "X_train = TensorDataset(X_tr,y_tr)\n",
    "X_test = TensorDataset(X_te,y_te)\n",
    "\n",
    "loader_train = DataLoader(X_train,batch_size=64,shuffle=True)\n",
    "loader_test = DataLoader(X_test,batch_size=64,shuffle=True)"
   ]
  },
  {
   "cell_type": "markdown",
   "id": "e464b734",
   "metadata": {},
   "source": [
    "## 3. 다층 퍼셉트론"
   ]
  },
  {
   "cell_type": "code",
   "execution_count": 52,
   "id": "8b599c11",
   "metadata": {},
   "outputs": [],
   "source": [
    "from torch import nn,optim"
   ]
  },
  {
   "cell_type": "code",
   "execution_count": 65,
   "id": "5fcc4528",
   "metadata": {},
   "outputs": [
    {
     "name": "stdout",
     "output_type": "stream",
     "text": [
      "Sequential(\n",
      "  (fc1): Linear(in_features=784, out_features=100, bias=True)\n",
      "  (relu1): ReLU()\n",
      "  (fc2): Linear(in_features=100, out_features=100, bias=True)\n",
      "  (relu2): ReLU()\n",
      "  (fc3): Linear(in_features=100, out_features=10, bias=True)\n",
      ")\n"
     ]
    }
   ],
   "source": [
    "model = nn.Sequential()\n",
    "model.add_module('fc1',nn.Linear(28*28*1,100))\n",
    "model.add_module('relu1',nn.ReLU())\n",
    "model.add_module('fc2',nn.Linear(100,100))\n",
    "model.add_module('relu2',nn.ReLU())\n",
    "model.add_module('fc3',nn.Linear(100,10))\n",
    "\n",
    "print(model)"
   ]
  },
  {
   "cell_type": "code",
   "execution_count": 66,
   "id": "97213efc",
   "metadata": {},
   "outputs": [],
   "source": [
    "## 오차함수\n",
    "loss_fn = nn.CrossEntropyLoss() ## 다중분류\n",
    "\n",
    "## 가중치 최적화 기법\n",
    "optimizer = optim.Adam(model.parameters(),lr = 0.01)"
   ]
  },
  {
   "cell_type": "code",
   "execution_count": 71,
   "id": "028cc1cc",
   "metadata": {},
   "outputs": [],
   "source": [
    "def train(epoch) :\n",
    "    for data,targets in loader_train :\n",
    "        \n",
    "        optimizer.zero_grad() # 경사 0으로 진행될 때마다 초기화\n",
    "        outputs = model(data)\n",
    "        loss = loss_fn(outputs,targets) # 출력과 훈련 데이터 오차 계산\n",
    "        loss.backward() # 역전파\n",
    "        optimizer.step() # 역전파 계산한 값으로 가중치 수정\n",
    "        \n",
    "    print(f\"Epoch{epoch} : 완료\\n\")\n",
    "\n",
    "    \n",
    "def test() :\n",
    "    model.eval() # 신경망을 추론 모드로 변환\n",
    "    correct = 0\n",
    "    \n",
    "    # 데이터로더에서 미니배치를 하니씩 꺼내 추론 수행\n",
    "    with torch.no_grad() : # 추론 과정에서는 미분 수행하지 않는다.\n",
    "        for data, target in loader_test :\n",
    "            \n",
    "            outputs = model(data)\n",
    "            \n",
    "            # 추론 계산\n",
    "            _, predicted = torch.max(outputs.data,1) # 확률이 가장 높은 레이블이 무엇인지 계산\n",
    "            correct += predicted.eq(target.data.view_as(predicted)).sum() # 정답과 일치하면 정답 카운트 증가\n",
    "            \n",
    "    # 정확도 출력\n",
    "    data_num = len(loader_test.dataset)\n",
    "    print(f\"\\n테스트 데이터에서 예측 정확도 : {correct}/{data_num} ({100. * correct / data_num}%)\\n\")"
   ]
  },
  {
   "cell_type": "markdown",
   "id": "28e1d0b5",
   "metadata": {},
   "source": [
    "- eval : evaluation 과정에서 사용하지 않아야 하는 layer들을 알아서 off 시키도록 하는 함수, 즉 학습할 때만 필요한 Dropout, Batchnorm 등의 기능을 비활성화시켜준다.\n",
    "- eq : 각 텐서의 요소(element)들을 비교해 같으면 True를, 다르면 False를 반환"
   ]
  },
  {
   "cell_type": "code",
   "execution_count": 72,
   "id": "77f69153",
   "metadata": {},
   "outputs": [
    {
     "name": "stdout",
     "output_type": "stream",
     "text": [
      "\n",
      "테스트 데이터에서 예측 정확도 : 777/10000 (7.769999980926514%)\n",
      "\n"
     ]
    }
   ],
   "source": [
    "test()"
   ]
  },
  {
   "cell_type": "code",
   "execution_count": 74,
   "id": "7a39bea6",
   "metadata": {},
   "outputs": [
    {
     "name": "stdout",
     "output_type": "stream",
     "text": [
      "Epoch0 : 완료\n",
      "\n",
      "Epoch1 : 완료\n",
      "\n",
      "Epoch2 : 완료\n",
      "\n",
      "\n",
      "테스트 데이터에서 예측 정확도 : 9562/10000 (95.62000274658203%)\n",
      "\n"
     ]
    }
   ],
   "source": [
    "for epoch in range(3) :\n",
    "    train(epoch)\n",
    "    \n",
    "test()"
   ]
  },
  {
   "cell_type": "code",
   "execution_count": 84,
   "id": "03ee480d",
   "metadata": {},
   "outputs": [
    {
     "name": "stdout",
     "output_type": "stream",
     "text": [
      "예측 결과 : 4\n",
      "이 이미지 데이터의 정답 레이블은 :9입니다.\n"
     ]
    },
    {
     "data": {
      "image/png": "[encoded data removed]",
      "text/plain": [
       "<Figure size 432x288 with 1 Axes>"
      ]
     },
     "metadata": {
      "needs_background": "light"
     },
     "output_type": "display_data"
    }
   ],
   "source": [
    "import random\n",
    "\n",
    "model.eval()\n",
    "idx = random.randint(0,len(X_test))\n",
    "data = X_te[idx]\n",
    "output = model(data)\n",
    "_,predicted = torch.max(output.data,0)\n",
    "\n",
    "print(f\"예측 결과 : {predicted}\")\n",
    "\n",
    "X_test_show = (X_te[idx]).numpy()\n",
    "plt.imshow(X_test_show.reshape(28,28),cmap = 'gray')\n",
    "print(f\"이 이미지 데이터의 정답 레이블은 :{y_te[idx]}입니다.\")"
   ]
  }
 ],
 "metadata": {
  "kernelspec": {
   "display_name": "Python 3 (ipykernel)",
   "language": "python",
   "name": "python3"
  },
  "language_info": {
   "codemirror_mode": {
    "name": "ipython",
    "version": 3
   },
   "file_extension": ".py",
   "mimetype": "text/x-python",
   "name": "python",
   "nbconvert_exporter": "python",
   "pygments_lexer": "ipython3",
   "version": "3.9.7"
  }
 },
 "nbformat": 4,
 "nbformat_minor": 5
}
