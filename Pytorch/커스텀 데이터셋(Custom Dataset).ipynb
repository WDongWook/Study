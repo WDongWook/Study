{
 "cells": [
  {
   "cell_type": "code",
   "execution_count": 1,
   "id": "698847a1",
   "metadata": {},
   "outputs": [],
   "source": [
    "import torch\n",
    "import torch.nn as nn\n",
    "import torch.nn.functional as F\n",
    "from torch.utils.data import DataLoader,Dataset"
   ]
  },
  {
   "cell_type": "code",
   "execution_count": null,
   "id": "1bcaf24e",
   "metadata": {},
   "outputs": [],
   "source": [
    "class CustomDataset(torch.utils.data.Dataset): \n",
    "    def __init__(self):\n",
    "  ##데이터셋의 전처리를 해주는 부분\n",
    "\n",
    "    def __len__(self):\n",
    "  \n",
    " ##데이터셋의 길이. 즉, 총 샘플의 수를 적어주는 부분\n",
    "\n",
    "    def __getitem__(self, idx): \n",
    "  ##데이터셋에서 특정 1개의 샘플을 가져오는 함수"
   ]
  },
  {
   "cell_type": "markdown",
   "id": "8e44f42c",
   "metadata": {},
   "source": [
    "- len(dataset)을 했을 때 데이터셋의 크기를 리턴\n",
    "- i번째 샘플을 가져오도록 하는 인덱싱을 위한 getitem"
   ]
  },
  {
   "cell_type": "code",
   "execution_count": 2,
   "id": "ce2af9ff",
   "metadata": {},
   "outputs": [],
   "source": [
    "class CustomDataset(Dataset) :\n",
    "    def __init__(self) :\n",
    "        self.X_data = [[73, 80, 75],\n",
    "                   [93, 88, 93],\n",
    "                   [89, 91, 90],\n",
    "                   [96, 98, 100],\n",
    "                   [73, 66, 70]]\n",
    "        self.y_data = [[152], [185], [180], [196], [142]]\n",
    "    \n",
    "    def __len__(self) :\n",
    "        return len(self.X_data)\n",
    "    \n",
    "    def __getitem__(self,idx) :\n",
    "        x = torch.FloatTensor(self.X_data[idx])\n",
    "        y = torch.FloatTensor(self.y_data[idx])\n",
    "        \n",
    "        return x,y"
   ]
  },
  {
   "cell_type": "code",
   "execution_count": 4,
   "id": "49c39313",
   "metadata": {},
   "outputs": [],
   "source": [
    "dataset = CustomDataset()\n",
    "\n",
    "dataloader = DataLoader(dataset,batch_size=2,shuffle=True)"
   ]
  },
  {
   "cell_type": "code",
   "execution_count": 9,
   "id": "62882c87",
   "metadata": {},
   "outputs": [],
   "source": [
    "model = torch.nn.Linear(3,1)\n",
    "optimizer = torch.optim.SGD(model.parameters(),lr = 1e-5)"
   ]
  },
  {
   "cell_type": "code",
   "execution_count": 12,
   "id": "3cf6bb40",
   "metadata": {
    "scrolled": false
   },
   "outputs": [
    {
     "name": "stdout",
     "output_type": "stream",
     "text": [
      "Epoch    0/20 Batch 1/3 Cost: 9484.885742\n",
      "Epoch    0/20 Batch 2/3 Cost: 3454.737793\n",
      "Epoch    0/20 Batch 3/3 Cost: 1066.212402\n",
      "Epoch    1/20 Batch 1/3 Cost: 375.781006\n",
      "Epoch    1/20 Batch 2/3 Cost: 63.559246\n",
      "Epoch    1/20 Batch 3/3 Cost: 20.653679\n",
      "Epoch    2/20 Batch 1/3 Cost: 8.146267\n",
      "Epoch    2/20 Batch 2/3 Cost: 13.353853\n",
      "Epoch    2/20 Batch 3/3 Cost: 17.021164\n",
      "Epoch    3/20 Batch 1/3 Cost: 3.599960\n",
      "Epoch    3/20 Batch 2/3 Cost: 5.808009\n",
      "Epoch    3/20 Batch 3/3 Cost: 9.733418\n",
      "Epoch    4/20 Batch 1/3 Cost: 12.635633\n",
      "Epoch    4/20 Batch 2/3 Cost: 4.307189\n",
      "Epoch    4/20 Batch 3/3 Cost: 6.026285\n",
      "Epoch    5/20 Batch 1/3 Cost: 7.803563\n",
      "Epoch    5/20 Batch 2/3 Cost: 4.103481\n",
      "Epoch    5/20 Batch 3/3 Cost: 15.220190\n",
      "Epoch    6/20 Batch 1/3 Cost: 5.786446\n",
      "Epoch    6/20 Batch 2/3 Cost: 5.767309\n",
      "Epoch    6/20 Batch 3/3 Cost: 10.140419\n",
      "Epoch    7/20 Batch 1/3 Cost: 4.583870\n",
      "Epoch    7/20 Batch 2/3 Cost: 8.651114\n",
      "Epoch    7/20 Batch 3/3 Cost: 2.454202\n",
      "Epoch    8/20 Batch 1/3 Cost: 5.009978\n",
      "Epoch    8/20 Batch 2/3 Cost: 5.048561\n",
      "Epoch    8/20 Batch 3/3 Cost: 9.091326\n",
      "Epoch    9/20 Batch 1/3 Cost: 5.999129\n",
      "Epoch    9/20 Batch 2/3 Cost: 8.318989\n",
      "Epoch    9/20 Batch 3/3 Cost: 2.546804\n",
      "Epoch   10/20 Batch 1/3 Cost: 2.431536\n",
      "Epoch   10/20 Batch 2/3 Cost: 8.671052\n",
      "Epoch   10/20 Batch 3/3 Cost: 9.374887\n",
      "Epoch   11/20 Batch 1/3 Cost: 5.686592\n",
      "Epoch   11/20 Batch 2/3 Cost: 8.320646\n",
      "Epoch   11/20 Batch 3/3 Cost: 7.124002\n",
      "Epoch   12/20 Batch 1/3 Cost: 4.855510\n",
      "Epoch   12/20 Batch 2/3 Cost: 8.695045\n",
      "Epoch   12/20 Batch 3/3 Cost: 2.739071\n",
      "Epoch   13/20 Batch 1/3 Cost: 3.295839\n",
      "Epoch   13/20 Batch 2/3 Cost: 13.441902\n",
      "Epoch   13/20 Batch 3/3 Cost: 4.932065\n",
      "Epoch   14/20 Batch 1/3 Cost: 5.235711\n",
      "Epoch   14/20 Batch 2/3 Cost: 8.243144\n",
      "Epoch   14/20 Batch 3/3 Cost: 1.049393\n",
      "Epoch   15/20 Batch 1/3 Cost: 10.658479\n",
      "Epoch   15/20 Batch 2/3 Cost: 5.029143\n",
      "Epoch   15/20 Batch 3/3 Cost: 6.225229\n",
      "Epoch   16/20 Batch 1/3 Cost: 1.384418\n",
      "Epoch   16/20 Batch 2/3 Cost: 18.435154\n",
      "Epoch   16/20 Batch 3/3 Cost: 1.443474\n",
      "Epoch   17/20 Batch 1/3 Cost: 7.205230\n",
      "Epoch   17/20 Batch 2/3 Cost: 1.326222\n",
      "Epoch   17/20 Batch 3/3 Cost: 12.937531\n",
      "Epoch   18/20 Batch 1/3 Cost: 4.635677\n",
      "Epoch   18/20 Batch 2/3 Cost: 4.320061\n",
      "Epoch   18/20 Batch 3/3 Cost: 10.049663\n",
      "Epoch   19/20 Batch 1/3 Cost: 2.162559\n",
      "Epoch   19/20 Batch 2/3 Cost: 14.949381\n",
      "Epoch   19/20 Batch 3/3 Cost: 4.264424\n",
      "Epoch   20/20 Batch 1/3 Cost: 7.268306\n",
      "Epoch   20/20 Batch 2/3 Cost: 1.210235\n",
      "Epoch   20/20 Batch 3/3 Cost: 13.002266\n"
     ]
    }
   ],
   "source": [
    "epochs = 20\n",
    "for epoch in range(epochs+1):\n",
    "    for batch_idx, samples in enumerate(dataloader) :\n",
    "        X_train,y_train = samples\n",
    "\n",
    "        prediction = model(X_train)\n",
    "\n",
    "        cost = F.mse_loss(prediction,y_train)\n",
    "\n",
    "        optimizer.zero_grad()\n",
    "        cost.backward()\n",
    "        optimizer.step()\n",
    "\n",
    "        print('Epoch {:4d}/{} Batch {}/{} Cost: {:.6f}'.format(\n",
    "            epoch, epochs, batch_idx+1, len(dataloader),\n",
    "            cost.item()\n",
    "            ))"
   ]
  },
  {
   "cell_type": "code",
   "execution_count": null,
   "id": "ace2e9e3",
   "metadata": {},
   "outputs": [],
   "source": []
  }
 ],
 "metadata": {
  "kernelspec": {
   "display_name": "Python 3 (ipykernel)",
   "language": "python",
   "name": "python3"
  },
  "language_info": {
   "codemirror_mode": {
    "name": "ipython",
    "version": 3
   },
   "file_extension": ".py",
   "mimetype": "text/x-python",
   "name": "python",
   "nbconvert_exporter": "python",
   "pygments_lexer": "ipython3",
   "version": "3.9.7"
  }
 },
 "nbformat": 4,
 "nbformat_minor": 5
}
