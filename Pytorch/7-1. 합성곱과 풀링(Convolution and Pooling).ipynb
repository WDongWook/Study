{
 "cells": [
  {
   "cell_type": "markdown",
   "id": "b91dd180",
   "metadata": {},
   "source": [
    "# 1. 합성곱과 풀링"
   ]
  },
  {
   "cell_type": "markdown",
   "id": "a03511fa",
   "metadata": {},
   "source": [
    "- 합성곱은 이미지 처리에 탁월한 성능을 보이는 신경망"
   ]
  },
  {
   "cell_type": "markdown",
   "id": "48e87488",
   "metadata": {},
   "source": [
    "## 1) 합성곱 신경망의 대두"
   ]
  },
  {
   "cell_type": "markdown",
   "id": "ba9fe952",
   "metadata": {},
   "source": [
    "- 다층 퍼셉트론으로도 이미지 처리를 할 수 있지만, 한계가 존재\n",
    "- 이미지는 같은 대상이라도 휘어지거나 이동되었거나 방향이 뒤틀리는 등의 다양한 변형이 존재한다.\n",
    "- 다층 퍼셉트론은 몇 가지 픽셀만 값이 달라져도 민감하게 예측에 영향을 받는다는 단점이 존재\n",
    "- 1차원으로 변환하면 전에 존재하던 공간적인 구조 정보가 유실된 상태가 된다.\n",
    "- 공간적 정보 : 가까운 어떤 픽셀들끼리는 어떤 연관이 있고, 어떤 픽셀들끼리는 값이 비슷하거나 등을 포함 -> 결국 이미지의 공간적인 구조 정보를 보존하면서 학습할 수 있는 방법이 필요해졌고 이를 위해 사용하는 것이 합성곱 신경망"
   ]
  },
  {
   "cell_type": "markdown",
   "id": "47c8bb2a",
   "metadata": {},
   "source": [
    "## 2) 채널(Channel)"
   ]
  },
  {
   "cell_type": "markdown",
   "id": "8841f765",
   "metadata": {},
   "source": [
    "- 기계는 글자, 이미지보다 숫자, 즉 텐서를 더 잘 처리할 수 있다.\n",
    "- 이미지는 (높이(height), 너비(width), 채널(channel)) 이라는 3차원 텐서\n",
    "- 높이(이미지 세로 방향 픽셀), 너비(이미지 가로 방향 픽셀), 채널(색 성분, = 깊이)\n",
    "- 흑백 이미지는 채널 수가 1이며 각 픽셀은 0 ~ 255를 가진다\n",
    "- 컬러 이미지는 RGB로 채널 수가 3개이다."
   ]
  },
  {
   "cell_type": "markdown",
   "id": "ab59c2e9",
   "metadata": {},
   "source": [
    "## 3) 합성곱 연산(Convolution Operation)"
   ]
  },
  {
   "cell_type": "markdown",
   "id": "61debc0a",
   "metadata": {},
   "source": [
    "- 합성곱층은 합성곱 연산을 통해서 이미지의 특징을 추출하는 역할\n",
    "- 커널(or 필터)라는 n x m 크기의 행렬로 높이 x 너비 크기의 이미지를 처음부터 끝까지 겹치게 훑으며 n x m 크기의 겹쳐지는 부분의 이미지와 커널의 원소의 값을 곱해서 더모두 더한 값을 출력으로 하는 것을 말한다.\n",
    "- 커널은 일반적으로 3x3, 5x5를 사용(커널의 크기는 사용자 정의)"
   ]
  },
  {
   "cell_type": "markdown",
   "id": "6ce9269e",
   "metadata": {},
   "source": [
    "- input값에 커널 계산하여 나온 값을 feature map이라고 한다.\n",
    "- 커널의 이동 범위도 사용자가 정의할 수 있는데 이러한 이동 범위를 stride라고 한다."
   ]
  },
  {
   "cell_type": "markdown",
   "id": "5c497f47",
   "metadata": {},
   "source": [
    "## 4) 패딩(Padding)"
   ]
  },
  {
   "cell_type": "markdown",
   "id": "89a26dd3",
   "metadata": {},
   "source": [
    "- 합성곱 연산의 결과로 얻은 특성 맵은 입력보다 크기가 작아진다는 특징\n",
    "- 만약 합성곱 층을 여러 개 쌓았다면 최종적으로 얻은 feature map은 초기 입력보다 매우 작아진 상태\n",
    "- 합성곱 연산 이후에도 feature map의 크기가 입력의 크기와 동일하게 유지되도록 하고 싶으면 padding 사용"
   ]
  },
  {
   "cell_type": "markdown",
   "id": "3ed4c22f",
   "metadata": {},
   "source": [
    "- 패딩은 입력의 가장자리에 지정된 개수의 폭만큼 행과 열을 추가해주는 것을 의미\n",
    "- 주로 zero padding(값 0으로 채우는 것)"
   ]
  },
  {
   "cell_type": "markdown",
   "id": "e861ec8b",
   "metadata": {},
   "source": [
    "## 5) 가중치와 편향"
   ]
  },
  {
   "cell_type": "markdown",
   "id": "8649df5a",
   "metadata": {},
   "source": [
    "### 5-1. 합성곱 신경망의 가중치"
   ]
  },
  {
   "cell_type": "markdown",
   "id": "6dc0fcb9",
   "metadata": {},
   "source": [
    "- 합성곱 신경망은 다층 퍼셉트론을 사용할 때보다 훨씬 적은 가중치 사용하며 공간적 구조 정보를 보존한다는 특징\n",
    "- 예를 들어 다층 퍼셉트론은 3x3 이미지를 4개의 뉴런을 가진 은닉층을 추가하면 flat해주고 계산하면 9x4 = 36개의 가중치가 존재하게 된다.\n",
    "- 이와 달리 합성곱은 2x2의 커널을 사용하게 된다면, 커널 개수의 4개 가중치만 가지면 된다.\n",
    "- 훨씬 적은 가중치를 사용하며 공간적 구조 정보를 보존할 수 있다."
   ]
  },
  {
   "cell_type": "markdown",
   "id": "1c815a5b",
   "metadata": {},
   "source": [
    "- 합성곱에서도 가중치 연산 후에 비선형성을 추가한다. 여기서도 주로 렐루 계열의 함수를 사용\n",
    "- 합성곱 연산을 통해서 특성 맵을 얻고, 활성화 함수를 지나는 연산을 하는 합성곱 신경망의 은닉층을 합성공 신경망에서는 Convolution Layer(합성곱 층)이라고 부른다."
   ]
  },
  {
   "cell_type": "markdown",
   "id": "82d648b5",
   "metadata": {},
   "source": [
    "### 5-2. 합성곱 신경망의 편향"
   ]
  },
  {
   "cell_type": "markdown",
   "id": "825e9e7c",
   "metadata": {},
   "source": [
    "- 합성곱 신경망 또한 편향을 당연히 추가 가능하다\n",
    "- 만약 편향을 사용한다면 커널 적용 후에 더해진다\n",
    "- 편향은 하나의 값만 존재하며 커널이 적용된 결과의 모든 원소에 더해진다."
   ]
  },
  {
   "cell_type": "markdown",
   "id": "e2eead22",
   "metadata": {},
   "source": [
    "## 6) 특성 맵의 크기 계산 방법 "
   ]
  },
  {
   "cell_type": "markdown",
   "id": "4a50fea8",
   "metadata": {},
   "source": [
    "- $ I_h : 입력의 높이 $\n",
    "- $ I_w: 입력의 너비 $\n",
    "- $ K_h : 커널의 높이 $\n",
    "- $ K_w : 커널의 너비 $\n",
    "- S : 스트라이드\n",
    "- $ O_h : feature map의 높이 $\n",
    "- $ O_w : feature map의 너비 $"
   ]
  },
  {
   "cell_type": "markdown",
   "id": "5870431f",
   "metadata": {},
   "source": [
    "#### $ O_h = floor(\\frac {I_h - K_h}{S} + 1) $\n",
    "#### $ O_w = floor(\\frac {I_w - K_w}{S} + 1) $"
   ]
  },
  {
   "cell_type": "markdown",
   "id": "4554ee23",
   "metadata": {},
   "source": [
    "- floor 함수는 소수점 발생 시 소수점 이하를 버리는 역핥"
   ]
  },
  {
   "cell_type": "markdown",
   "id": "0e8e4c72",
   "metadata": {},
   "source": [
    "#### $ O_h = floor(\\frac {I_h - K_h + 2P}{S} + 1) $\n",
    "#### $ O_w = floor(\\frac {I_w - K_w + 2P}{S} + 1) $"
   ]
  },
  {
   "cell_type": "markdown",
   "id": "bdaa0149",
   "metadata": {},
   "source": [
    "- 패딩의 폭을 고려한 식"
   ]
  },
  {
   "cell_type": "markdown",
   "id": "ede18600",
   "metadata": {},
   "source": [
    "## 7) 다수의 채널을 가진 경우의 합성곱 연산(3차원 텐서 합성곱 연산)"
   ]
  },
  {
   "cell_type": "markdown",
   "id": "5739fb6d",
   "metadata": {},
   "source": [
    "- 커널의 각 채널끼리의 크기는 같아야하며 연산에서 사용되는 커널은 3개의 커널이 아니라 3개의 채널을 가진 1개의 커널이라는 점을 유의해야한다.\n",
    "- 합성곱 연산을 하여 얻은 feature map의 채널 차원은 RGB 채널 등과 같은 컬러의 의미를 담고 있지 않다."
   ]
  },
  {
   "cell_type": "markdown",
   "id": "26d326dc",
   "metadata": {},
   "source": [
    "- 합성곱 연산에서 다수의 커널을 사용할 경우, 사용한 커널의 수는 합성곱 연산의 결과로 나오는 특성 맵의 채널 수가 된다"
   ]
  },
  {
   "cell_type": "markdown",
   "id": "d08813c6",
   "metadata": {},
   "source": [
    "## 8) 풀링(Pooling)"
   ]
  },
  {
   "cell_type": "markdown",
   "id": "1bfc6314",
   "metadata": {},
   "source": [
    "- 합성곱 층 다음에 풀링 층 추가하는 것이 일반적\n",
    "- 풀링 층에서는 feature map을 다운샘플링하여 feature map 크기를 줄이는 풀링 연산이 진행\n",
    "- 일반적으로 Max Pooling, Average pooling을 사용한다.\n",
    "- 풀링도 합성곱 연산과 마찬가지로 커널과 스트라이드 개념을 가짐\n",
    "- Max Pooling : 커널과 겹치는 영역에서 최대값을 추출하는 방식\n",
    "- Average Pooling : 커널과 겹치는 영역에서 평균값 추출하는 방식"
   ]
  }
 ],
 "metadata": {
  "kernelspec": {
   "display_name": "Python 3 (ipykernel)",
   "language": "python",
   "name": "python3"
  },
  "language_info": {
   "codemirror_mode": {
    "name": "ipython",
    "version": 3
   },
   "file_extension": ".py",
   "mimetype": "text/x-python",
   "name": "python",
   "nbconvert_exporter": "python",
   "pygments_lexer": "ipython3",
   "version": "3.9.7"
  }
 },
 "nbformat": 4,
 "nbformat_minor": 5
}
