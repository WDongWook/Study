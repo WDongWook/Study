{
 "cells": [
  {
   "cell_type": "markdown",
   "id": "cd2ca945",
   "metadata": {},
   "source": [
    "# 2. CNN으로 MNIST 분류하기"
   ]
  },
  {
   "cell_type": "markdown",
   "id": "2e2e2e07",
   "metadata": {},
   "source": [
    "## 1) 모델 이해하기"
   ]
  },
  {
   "cell_type": "markdown",
   "id": "dc6590de",
   "metadata": {},
   "source": [
    "### 1-1. 1번째 표기방법"
   ]
  },
  {
   "cell_type": "markdown",
   "id": "eb57910a",
   "metadata": {},
   "source": [
    "- 합성곱(nn.Cov2d) + 활성화 함수(nn.ReLU)를 하나의 합성곱 층으로 보고 맥스풀링(nn.MaxPoold2d)은 풀링 층으로 별도로 명명"
   ]
  },
  {
   "cell_type": "markdown",
   "id": "8a4209fa",
   "metadata": {},
   "source": [
    "### 1-2. 2번째 표기 방법"
   ]
  },
  {
   "cell_type": "markdown",
   "id": "0a0828ad",
   "metadata": {},
   "source": [
    "- 합성곱(nn.Cov2d) + 활성화 함수(nn.ReLU) + 맥스풀링(nn.MaxPoold2d)을 하나의 합성곱 층으로 보는 방법"
   ]
  },
  {
   "cell_type": "markdown",
   "id": "b72f194d",
   "metadata": {},
   "source": [
    "## 2) 모델 구현하기"
   ]
  },
  {
   "cell_type": "markdown",
   "id": "b76ae9ae",
   "metadata": {},
   "source": [
    "### 2-1. 라이브러리와 입력값 정의"
   ]
  },
  {
   "cell_type": "code",
   "execution_count": 1,
   "id": "45665251",
   "metadata": {},
   "outputs": [],
   "source": [
    "import torch\n",
    "import torch.nn as nn"
   ]
  },
  {
   "cell_type": "markdown",
   "id": "303a327c",
   "metadata": {},
   "source": [
    "- 임의의 텐서 만들기\n",
    "- 텐서 크기는 1 x 1 x 28 x 28(배치 크기 x 채널 x 높이 x 너비)"
   ]
  },
  {
   "cell_type": "code",
   "execution_count": 3,
   "id": "e1eee72d",
   "metadata": {},
   "outputs": [
    {
     "name": "stdout",
     "output_type": "stream",
     "text": [
      "텐서의 크기 : torch.Size([1, 1, 28, 28])\n"
     ]
    }
   ],
   "source": [
    "inputs = torch.Tensor(1,1,28,28)\n",
    "print(f'텐서의 크기 : {inputs.shape}')"
   ]
  },
  {
   "cell_type": "markdown",
   "id": "9ae4b8e4",
   "metadata": {},
   "source": [
    "### 2-2. 합성곱층과 풀링 선언하기"
   ]
  },
  {
   "cell_type": "code",
   "execution_count": 4,
   "id": "90857d53",
   "metadata": {},
   "outputs": [
    {
     "name": "stdout",
     "output_type": "stream",
     "text": [
      "Conv2d(1, 32, kernel_size=(3, 3), stride=(1, 1), padding=(1, 1))\n"
     ]
    }
   ],
   "source": [
    "conv1 = nn.Conv2d(1,32,3,padding = 1)\n",
    "print(conv1)"
   ]
  },
  {
   "cell_type": "markdown",
   "id": "002e918a",
   "metadata": {},
   "source": [
    "- 채널 1개짜리를 입력 받아 32채널을 뽑아내는데 커널 사이즈는 3이고 padding은 1이다."
   ]
  },
  {
   "cell_type": "code",
   "execution_count": 6,
   "id": "6f9d2dae",
   "metadata": {},
   "outputs": [
    {
     "name": "stdout",
     "output_type": "stream",
     "text": [
      "Conv2d(32, 64, kernel_size=(3, 3), stride=(1, 1), padding=(1, 1))\n"
     ]
    }
   ],
   "source": [
    "conv2 = nn.Conv2d(32,64,kernel_size = 3, padding = 1)\n",
    "print(conv2)"
   ]
  },
  {
   "cell_type": "markdown",
   "id": "8878b623",
   "metadata": {},
   "source": [
    "- 32채널 입력 받아 64개의 채널 뽑고 커널 사이즈 3이고 Padding은 1이다."
   ]
  },
  {
   "cell_type": "code",
   "execution_count": 7,
   "id": "cea2f8c7",
   "metadata": {},
   "outputs": [
    {
     "name": "stdout",
     "output_type": "stream",
     "text": [
      "MaxPool2d(kernel_size=2, stride=2, padding=0, dilation=1, ceil_mode=False)\n"
     ]
    }
   ],
   "source": [
    "pool = nn.MaxPool2d(2)\n",
    "print(pool)"
   ]
  },
  {
   "cell_type": "markdown",
   "id": "a4d89ea0",
   "metadata": {},
   "source": [
    "- 정수 하나를 인자로 넣으면 커널 사이즈와 스트라이드가 둘 다 해당값으로 지정"
   ]
  },
  {
   "cell_type": "markdown",
   "id": "5bf8c868",
   "metadata": {},
   "source": [
    "### 2-3. 구현체를 연결하여 모델 만들기"
   ]
  },
  {
   "cell_type": "code",
   "execution_count": 8,
   "id": "c19f4611",
   "metadata": {},
   "outputs": [
    {
     "name": "stdout",
     "output_type": "stream",
     "text": [
      "torch.Size([1, 32, 28, 28])\n"
     ]
    },
    {
     "name": "stderr",
     "output_type": "stream",
     "text": [
      "[W NNPACK.cpp:51] Could not initialize NNPACK! Reason: Unsupported hardware.\n"
     ]
    }
   ],
   "source": [
    "out = conv1(inputs)\n",
    "print(out.shape)"
   ]
  },
  {
   "cell_type": "code",
   "execution_count": 9,
   "id": "c02a4729",
   "metadata": {},
   "outputs": [
    {
     "name": "stdout",
     "output_type": "stream",
     "text": [
      "torch.Size([1, 32, 14, 14])\n"
     ]
    }
   ],
   "source": [
    "out = pool(out)\n",
    "print(out.shape)"
   ]
  },
  {
   "cell_type": "code",
   "execution_count": 11,
   "id": "3209b6ed",
   "metadata": {},
   "outputs": [
    {
     "name": "stdout",
     "output_type": "stream",
     "text": [
      "torch.Size([1, 64, 14, 14])\n"
     ]
    }
   ],
   "source": [
    "out = conv2(out)\n",
    "print(out.shape)"
   ]
  },
  {
   "cell_type": "code",
   "execution_count": 12,
   "id": "d5c59594",
   "metadata": {},
   "outputs": [
    {
     "name": "stdout",
     "output_type": "stream",
     "text": [
      "torch.Size([1, 64, 7, 7])\n"
     ]
    }
   ],
   "source": [
    "out = pool(out)\n",
    "print(out.shape)"
   ]
  },
  {
   "cell_type": "code",
   "execution_count": 13,
   "id": "5465508a",
   "metadata": {},
   "outputs": [
    {
     "name": "stdout",
     "output_type": "stream",
     "text": [
      "torch.Size([1, 3136])\n"
     ]
    }
   ],
   "source": [
    "out = out.view(out.size(0),-1)\n",
    "print(out.shape)"
   ]
  },
  {
   "cell_type": "code",
   "execution_count": 14,
   "id": "3fcd2a90",
   "metadata": {},
   "outputs": [
    {
     "name": "stdout",
     "output_type": "stream",
     "text": [
      "torch.Size([1, 10])\n"
     ]
    }
   ],
   "source": [
    "fc = nn.Linear(3136,10)\n",
    "out = fc(out)\n",
    "print(out.shape)"
   ]
  },
  {
   "cell_type": "markdown",
   "id": "5397513b",
   "metadata": {},
   "source": [
    "## 3) CNN으로 MNIST 분류하기"
   ]
  },
  {
   "cell_type": "code",
   "execution_count": 15,
   "id": "3fa6bf17",
   "metadata": {},
   "outputs": [],
   "source": [
    "import torch\n",
    "import torchvision.datasets as dsets\n",
    "import torchvision.transforms as transforms\n",
    "import torch.nn.init"
   ]
  },
  {
   "cell_type": "code",
   "execution_count": 16,
   "id": "2dd8fdc0",
   "metadata": {},
   "outputs": [
    {
     "data": {
      "text/plain": [
       "<torch._C.Generator at 0x7fd92866bf70>"
      ]
     },
     "execution_count": 16,
     "metadata": {},
     "output_type": "execute_result"
    }
   ],
   "source": [
    "torch.manual_seed(777)"
   ]
  },
  {
   "cell_type": "code",
   "execution_count": 17,
   "id": "f17bb486",
   "metadata": {},
   "outputs": [],
   "source": [
    "learning_rate = 0.001\n",
    "training_epochs = 15\n",
    "batch_size = 100"
   ]
  },
  {
   "cell_type": "code",
   "execution_count": 19,
   "id": "fe5fa3dd",
   "metadata": {},
   "outputs": [],
   "source": [
    "train = dsets.MNIST(root='MNIST_data/',\n",
    "                   train = True,\n",
    "                   transform = transforms.ToTensor(),\n",
    "                   download = True)\n",
    "\n",
    "test = dsets.MNIST(root='MNIST_data/',\n",
    "                   train = False,\n",
    "                   transform = transforms.ToTensor(),\n",
    "                   download = True)"
   ]
  },
  {
   "cell_type": "code",
   "execution_count": 20,
   "id": "071ce179",
   "metadata": {},
   "outputs": [],
   "source": [
    "data_loader = torch.utils.data.DataLoader(dataset = train,\n",
    "                                         batch_size = batch_size,\n",
    "                                         shuffle = True,\n",
    "                                         drop_last = True)"
   ]
  },
  {
   "cell_type": "code",
   "execution_count": 23,
   "id": "a747651b",
   "metadata": {},
   "outputs": [],
   "source": [
    "class CNN(torch.nn.Module) :\n",
    "    \n",
    "    def __init__(self) :\n",
    "        super(CNN, self).__init__()\n",
    "        \n",
    "        self.layer1 = torch.nn.Sequential(\n",
    "                torch.nn.Conv2d(1,32,kernel_size = 3, stride = 1, padding = 1),\n",
    "                torch.nn.ReLU(),\n",
    "                torch.nn.MaxPool2d(kernel_size = 2, stride = 2))\n",
    "        \n",
    "        self.layer2 = torch.nn.Sequential(\n",
    "                torch.nn.Conv2d(32,64, kernel_size = 3, stride = 1, padding = 1),\n",
    "                torch.nn.ReLU(),\n",
    "                torch.nn.MaxPool2d(kernel_size = 2, stride = 2))\n",
    "       \n",
    "        self.fc = torch.nn.Linear(7 * 7 * 64, 10, bias = True)\n",
    "        \n",
    "        # 전결합층 한정으로 가중치 초기화\n",
    "        torch.nn.init.xavier_uniform_(self.fc.weight)\n",
    "        \n",
    "    def forward(self, x) :\n",
    "        out = self.layer1(x)\n",
    "        out = self.layer2(out)\n",
    "        out = out.view(out.size(0),-1) # 전결합층을 위해서 flatten\n",
    "        out = self.fc(out)\n",
    "        return out"
   ]
  },
  {
   "cell_type": "code",
   "execution_count": 24,
   "id": "9e47ebd4",
   "metadata": {},
   "outputs": [],
   "source": [
    "model = CNN()"
   ]
  },
  {
   "cell_type": "code",
   "execution_count": 25,
   "id": "7fee3052",
   "metadata": {},
   "outputs": [],
   "source": [
    "criterion = torch.nn.CrossEntropyLoss()\n",
    "\n",
    "optimizer = torch.optim.Adam(model.parameters(),lr = learning_rate)"
   ]
  },
  {
   "cell_type": "code",
   "execution_count": 29,
   "id": "759684fb",
   "metadata": {},
   "outputs": [
    {
     "name": "stdout",
     "output_type": "stream",
     "text": [
      "총 배치의 수 : 600\n"
     ]
    }
   ],
   "source": [
    "total_batch = len(data_loader)\n",
    "\n",
    "print(f'총 배치의 수 : {total_batch}')"
   ]
  },
  {
   "cell_type": "code",
   "execution_count": 31,
   "id": "248e9ad6",
   "metadata": {},
   "outputs": [
    {
     "name": "stdout",
     "output_type": "stream",
     "text": [
      "Epoch : 1 cost : 0.22022147476673126\n",
      "Epoch : 2 cost : 0.05971866101026535\n",
      "Epoch : 3 cost : 0.04462616890668869\n",
      "Epoch : 4 cost : 0.036059796810150146\n",
      "Epoch : 5 cost : 0.030205298215150833\n",
      "Epoch : 6 cost : 0.024741632863879204\n",
      "Epoch : 7 cost : 0.021128306165337563\n",
      "Epoch : 8 cost : 0.018007254227995872\n",
      "Epoch : 9 cost : 0.014921202324330807\n",
      "Epoch : 10 cost : 0.012298358604311943\n",
      "Epoch : 11 cost : 0.01123000867664814\n",
      "Epoch : 12 cost : 0.008639082312583923\n",
      "Epoch : 13 cost : 0.006994095165282488\n",
      "Epoch : 14 cost : 0.007855444215238094\n",
      "Epoch : 15 cost : 0.006686242297291756\n"
     ]
    }
   ],
   "source": [
    "for epoch in range(training_epochs) :\n",
    "    avg_cost = 0\n",
    "    \n",
    "    for X,y in data_loader :\n",
    "        optimizer.zero_grad()\n",
    "        hypothesis = model(X)\n",
    "        cost = criterion(hypothesis,y)\n",
    "        cost.backward()\n",
    "        optimizer.step()\n",
    "        \n",
    "        avg_cost += cost / total_batch\n",
    "        \n",
    "    print(f'Epoch : {epoch+1} cost : {avg_cost}')"
   ]
  },
  {
   "cell_type": "markdown",
   "id": "7cf86ac4",
   "metadata": {},
   "source": [
    "### 테스트"
   ]
  },
  {
   "cell_type": "code",
   "execution_count": 32,
   "id": "24d1d169",
   "metadata": {},
   "outputs": [
    {
     "name": "stderr",
     "output_type": "stream",
     "text": [
      "/opt/anaconda3/lib/python3.9/site-packages/torchvision/datasets/mnist.py:80: UserWarning: test_data has been renamed data\n",
      "  warnings.warn(\"test_data has been renamed data\")\n",
      "/opt/anaconda3/lib/python3.9/site-packages/torchvision/datasets/mnist.py:70: UserWarning: test_labels has been renamed targets\n",
      "  warnings.warn(\"test_labels has been renamed targets\")\n"
     ]
    },
    {
     "name": "stdout",
     "output_type": "stream",
     "text": [
      "Accuracy : 0.986299991607666\n"
     ]
    }
   ],
   "source": [
    "with torch.no_grad() : # 학습 진행 X\n",
    "    X_test = test.test_data.view(len(test),1,28,28).float()\n",
    "    y_test = test.test_labels\n",
    "    \n",
    "    pred = model(X_test)\n",
    "    correct_pred = torch.argmax(pred,1) == y_test\n",
    "    acc = correct_pred.float().mean()\n",
    "    print(f\"Accuracy : {acc.item()}\")"
   ]
  },
  {
   "cell_type": "markdown",
   "id": "674e2e5a",
   "metadata": {},
   "source": [
    "# 3. 깊은 CNN으로 MNIST 분류하기"
   ]
  },
  {
   "cell_type": "code",
   "execution_count": null,
   "id": "53edd59f",
   "metadata": {},
   "outputs": [],
   "source": [
    "class Deep_CNN(tormodulesnn.Module):\n",
    "    def __init__(self) :\n",
    "        super(Deep_CNN, self).__init__()\n",
    "        self.keep_prob = 0.5 ## dropout 같음\n",
    "        \n",
    "        self.layer1 = torch.nn.Sequential(\n",
    "                torch.nn.Conv2d(1,32, kernel_size = 3, stride = 1, padding = 1),\n",
    "                torch.nn.ReLU(),\n",
    "                torch.nn.MaxPool2d(kernel_size = 2, stride = 2))\n",
    "        \n",
    "        self.layer2 = torch.nn.Sequential(\n",
    "                torch.nn.Conv2d(32,64, kernel_size = 3, stride = 1, padding = 1),\n",
    "                torch.nn.ReLU(),\n",
    "                torch.nn.MaxPool2d(kernel_size = 2, stride = 2))\n",
    "        \n",
    "        self.layer3 = torch.nn.Sequential(\n",
    "                torch.nn.Conv2d(64,128, kernel_size = 3, stride = 1, padding = 1),\n",
    "                torch.nn.ReLU(),\n",
    "                torch.nn.MaxPool2d(kernel_size = 2, stride = 2, padding = 1))\n",
    "        \n",
    "        self.fc1 = torch.nn.Linear(4*4*128, 625, bias = True)\n",
    "        torch.nn.init.xavier_uniform_(self.fc1.weight)\n",
    "        self.layer4 = torch.nn.Sequential(\n",
    "                self.fc1,\n",
    "                torch.nn.ReLU(),\n",
    "                torch.nn.Dropout(p = 1-self.keep_prob))\n",
    "        \n",
    "        self.fc2 = torch.nn.Linear(625,10, bias = True)\n",
    "        torch.nn.xavier_uniform_(self.fc2.weight)\n",
    "        \n",
    "        \n",
    "    def forward(self, x) :\n",
    "        out = self.layer1(x)\n",
    "        out = self.layer2(out)\n",
    "        out = self.layer3(out)\n",
    "        out = out.view(out.size(0),-1)\n",
    "        out = self.layer4(out)\n",
    "        out = self.fc2(out)\n",
    "        return out"
   ]
  },
  {
   "cell_type": "code",
   "execution_count": null,
   "id": "f6fc8ceb",
   "metadata": {},
   "outputs": [],
   "source": [
    "criterion = torch.nn.CrossEntropyLoss()\n",
    "optimizer = torch.optim.Adam(model.parameters(),lr = learning_rate)"
   ]
  },
  {
   "cell_type": "code",
   "execution_count": null,
   "id": "492eac3d",
   "metadata": {},
   "outputs": [],
   "source": [
    "for epoch in range(training_epochs):\n",
    "    avg_cost = 0\n",
    "\n",
    "    for X, Y in data_loader: # 미니 배치 단위로 꺼내온다. X는 미니 배치, Y느 ㄴ레이블.\n",
    "        # image is already size of (28x28), no reshape\n",
    "        # label is not one-hot encoded\n",
    "        X = X.to(device)\n",
    "        Y = Y.to(device)\n",
    "\n",
    "        optimizer.zero_grad()\n",
    "        hypothesis = model(X)\n",
    "        cost = criterion(hypothesis, Y)\n",
    "        cost.backward()\n",
    "        optimizer.step()\n",
    "\n",
    "        avg_cost += cost / total_batch\n",
    "\n",
    "    print('[Epoch: {:>4}] cost = {:>.9}'.format(epoch + 1, avg_cost))"
   ]
  },
  {
   "cell_type": "code",
   "execution_count": null,
   "id": "a4071e09",
   "metadata": {},
   "outputs": [],
   "source": [
    "with torch.no_grad():\n",
    "    X_test = mnist_test.test_data.view(len(mnist_test), 1, 28, 28).float().to(device)\n",
    "    Y_test = mnist_test.test_labels.to(device)\n",
    "\n",
    "    prediction = model(X_test)\n",
    "    correct_prediction = torch.argmax(prediction, 1) == Y_test\n",
    "    accuracy = correct_prediction.float().mean()\n",
    "    print('Accuracy:', accuracy.item())"
   ]
  }
 ],
 "metadata": {
  "kernelspec": {
   "display_name": "Python 3 (ipykernel)",
   "language": "python",
   "name": "python3"
  },
  "language_info": {
   "codemirror_mode": {
    "name": "ipython",
    "version": 3
   },
   "file_extension": ".py",
   "mimetype": "text/x-python",
   "name": "python",
   "nbconvert_exporter": "python",
   "pygments_lexer": "ipython3",
   "version": "3.9.7"
  }
 },
 "nbformat": 4,
 "nbformat_minor": 5
}
