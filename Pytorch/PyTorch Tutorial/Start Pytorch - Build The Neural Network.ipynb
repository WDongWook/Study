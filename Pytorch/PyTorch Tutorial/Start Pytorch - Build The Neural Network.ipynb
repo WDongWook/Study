{
 "cells": [
  {
   "cell_type": "code",
   "execution_count": 1,
   "id": "6679fd63",
   "metadata": {},
   "outputs": [],
   "source": [
    "import os\n",
    "import torch\n",
    "from torch import nn\n",
    "from torch.utils.data import DataLoader\n",
    "from torchvision import datasets, transforms"
   ]
  },
  {
   "cell_type": "markdown",
   "id": "c5cb0b3d",
   "metadata": {},
   "source": [
    "## 1. 클래스 정의하기"
   ]
  },
  {
   "cell_type": "code",
   "execution_count": 2,
   "id": "8e322965",
   "metadata": {},
   "outputs": [],
   "source": [
    "class NeuralNetwork(nn.Module) :\n",
    "    def __init__(self) :\n",
    "        super(NeuralNetwork, self).__init__()\n",
    "        self.flatten = nn.Flatten()\n",
    "        self.linear_relu_stack = nn.Sequential(nn.Linear(28*28, 512),\n",
    "                                               nn.ReLU(),\n",
    "                                               nn.Linear(512, 512),\n",
    "                                               nn.ReLU(),\n",
    "                                               nn.Linear(512,10)\n",
    "                                              )\n",
    "        \n",
    "    def forward(self,x) :\n",
    "        x = self.flatten(x)\n",
    "        logits = self.linear_relu_stack(x)\n",
    "        return logits"
   ]
  },
  {
   "cell_type": "code",
   "execution_count": 3,
   "id": "dccfec53",
   "metadata": {},
   "outputs": [
    {
     "name": "stdout",
     "output_type": "stream",
     "text": [
      "NeuralNetwork(\n",
      "  (flatten): Flatten(start_dim=1, end_dim=-1)\n",
      "  (linear_relu_stack): Sequential(\n",
      "    (0): Linear(in_features=784, out_features=512, bias=True)\n",
      "    (1): ReLU()\n",
      "    (2): Linear(in_features=512, out_features=512, bias=True)\n",
      "    (3): ReLU()\n",
      "    (4): Linear(in_features=512, out_features=10, bias=True)\n",
      "  )\n",
      ")\n"
     ]
    }
   ],
   "source": [
    "model = NeuralNetwork()\n",
    "print(model)"
   ]
  },
  {
   "cell_type": "code",
   "execution_count": 7,
   "id": "db5bf15e",
   "metadata": {},
   "outputs": [
    {
     "name": "stdout",
     "output_type": "stream",
     "text": [
      "Predicted Clas. : tensor([6])\n"
     ]
    }
   ],
   "source": [
    "X = torch.rand(1,28,28)\n",
    "logits = model(X)\n",
    "pred_probab = nn.Softmax(dim = 1)(logits)\n",
    "y_pred = pred_probab.argmax(1)\n",
    "print(f\"Predicted Clas. : {y_pred}\")"
   ]
  },
  {
   "cell_type": "markdown",
   "id": "7481f9a0",
   "metadata": {},
   "source": [
    "## 2. 모델 계층 (Layer)"
   ]
  },
  {
   "cell_type": "code",
   "execution_count": 8,
   "id": "108f51aa",
   "metadata": {},
   "outputs": [],
   "source": [
    "input_image = torch.rand(3, 28, 28)"
   ]
  },
  {
   "cell_type": "code",
   "execution_count": 10,
   "id": "a08e442f",
   "metadata": {},
   "outputs": [
    {
     "data": {
      "text/plain": [
       "torch.Size([3, 28, 28])"
      ]
     },
     "execution_count": 10,
     "metadata": {},
     "output_type": "execute_result"
    }
   ],
   "source": [
    "input_image.size()"
   ]
  },
  {
   "cell_type": "markdown",
   "id": "2f3f032c",
   "metadata": {},
   "source": [
    "### nn.Flatten"
   ]
  },
  {
   "cell_type": "code",
   "execution_count": 11,
   "id": "8f2397d6",
   "metadata": {
    "scrolled": false
   },
   "outputs": [
    {
     "name": "stdout",
     "output_type": "stream",
     "text": [
      "torch.Size([3, 784])\n"
     ]
    }
   ],
   "source": [
    "flatten = nn.Flatten()\n",
    "flat_image = flatten(input_image)\n",
    "print(flat_image.size())"
   ]
  },
  {
   "cell_type": "markdown",
   "id": "c2087cdc",
   "metadata": {},
   "source": [
    "### nn.Linear"
   ]
  },
  {
   "cell_type": "code",
   "execution_count": 13,
   "id": "10030eab",
   "metadata": {},
   "outputs": [
    {
     "name": "stdout",
     "output_type": "stream",
     "text": [
      "torch.Size([3, 20])\n"
     ]
    }
   ],
   "source": [
    "layer1 = nn.Linear(in_features = 28*28, out_features = 20)\n",
    "hidden1 = layer1(flat_image)\n",
    "print(hidden1.size())"
   ]
  },
  {
   "cell_type": "markdown",
   "id": "205a6636",
   "metadata": {},
   "source": [
    "### nn.ReLU"
   ]
  },
  {
   "cell_type": "code",
   "execution_count": 15,
   "id": "98c49fce",
   "metadata": {},
   "outputs": [
    {
     "name": "stdout",
     "output_type": "stream",
     "text": [
      "Before ReLU : tensor([[-0.1068,  0.0636,  0.3407,  0.1100,  0.1105, -0.3212, -0.2809,  0.3623,\n",
      "          0.3024,  0.0726,  0.2222, -0.0261,  0.0541, -0.0483,  0.0638, -0.2178,\n",
      "         -0.2591, -0.0806, -0.6944, -0.5025],\n",
      "        [-0.1295, -0.3182,  0.3357, -0.0161, -0.1239, -0.2284, -0.8037,  0.5383,\n",
      "          0.0523,  0.0385,  0.5492,  0.2872,  0.2052, -0.3197,  0.1223, -0.1032,\n",
      "         -0.3017, -0.2146, -0.1016, -0.4911],\n",
      "        [ 0.0472,  0.1589, -0.1956, -0.3158, -0.0341, -0.2933, -0.5808,  0.5094,\n",
      "          0.1564,  0.0962,  0.3743,  0.0978,  0.6036, -0.3573, -0.0786, -0.1418,\n",
      "         -0.2840,  0.3002, -0.4252, -0.3999]], grad_fn=<AddmmBackward0>)\n",
      "\n",
      "\n",
      "After ReLU : tensor([[-0.1068,  0.0636,  0.3407,  0.1100,  0.1105, -0.3212, -0.2809,  0.3623,\n",
      "          0.3024,  0.0726,  0.2222, -0.0261,  0.0541, -0.0483,  0.0638, -0.2178,\n",
      "         -0.2591, -0.0806, -0.6944, -0.5025],\n",
      "        [-0.1295, -0.3182,  0.3357, -0.0161, -0.1239, -0.2284, -0.8037,  0.5383,\n",
      "          0.0523,  0.0385,  0.5492,  0.2872,  0.2052, -0.3197,  0.1223, -0.1032,\n",
      "         -0.3017, -0.2146, -0.1016, -0.4911],\n",
      "        [ 0.0472,  0.1589, -0.1956, -0.3158, -0.0341, -0.2933, -0.5808,  0.5094,\n",
      "          0.1564,  0.0962,  0.3743,  0.0978,  0.6036, -0.3573, -0.0786, -0.1418,\n",
      "         -0.2840,  0.3002, -0.4252, -0.3999]], grad_fn=<AddmmBackward0>)\n"
     ]
    }
   ],
   "source": [
    "print(f\"Before ReLU : {hidden1}\\n\\n\")\n",
    "hidden_relu = nn.ReLU(hidden1)\n",
    "print(f\"After ReLU : {hidden1}\")"
   ]
  },
  {
   "cell_type": "markdown",
   "id": "4182a128",
   "metadata": {},
   "source": [
    "### nn.Sequential"
   ]
  },
  {
   "cell_type": "code",
   "execution_count": 17,
   "id": "c057f1fb",
   "metadata": {},
   "outputs": [],
   "source": [
    "seq_models = nn.Sequential(flatten,\n",
    "                          layer1,\n",
    "                          nn.ReLU(),\n",
    "                          nn.Linear(20,10))\n",
    "\n",
    "input_image = torch.rand(3,28,28)\n",
    "logits = seq_models(input_image)"
   ]
  },
  {
   "cell_type": "markdown",
   "id": "49a40e3d",
   "metadata": {},
   "source": [
    "### nn.Softmax"
   ]
  },
  {
   "cell_type": "code",
   "execution_count": 18,
   "id": "fd78f0b5",
   "metadata": {},
   "outputs": [],
   "source": [
    "softmax = nn.Softmax(dim = 1)\n",
    "pred_probab = softmax(logits)"
   ]
  },
  {
   "cell_type": "markdown",
   "id": "32150e0e",
   "metadata": {},
   "source": [
    "### 모델 매개변수"
   ]
  },
  {
   "cell_type": "code",
   "execution_count": 19,
   "id": "d67a1aca",
   "metadata": {},
   "outputs": [
    {
     "name": "stdout",
     "output_type": "stream",
     "text": [
      "Model structure: NeuralNetwork(\n",
      "  (flatten): Flatten(start_dim=1, end_dim=-1)\n",
      "  (linear_relu_stack): Sequential(\n",
      "    (0): Linear(in_features=784, out_features=512, bias=True)\n",
      "    (1): ReLU()\n",
      "    (2): Linear(in_features=512, out_features=512, bias=True)\n",
      "    (3): ReLU()\n",
      "    (4): Linear(in_features=512, out_features=10, bias=True)\n",
      "  )\n",
      ")\n",
      "\n",
      "\n",
      "Layer: linear_relu_stack.0.weight | Size: torch.Size([512, 784]) | Values : tensor([[ 0.0286,  0.0128, -0.0160,  ..., -0.0148,  0.0103,  0.0284],\n",
      "        [ 0.0098,  0.0251, -0.0064,  ..., -0.0120,  0.0134,  0.0121]],\n",
      "       grad_fn=<SliceBackward0>) \n",
      "\n",
      "Layer: linear_relu_stack.0.bias | Size: torch.Size([512]) | Values : tensor([ 0.0257, -0.0202], grad_fn=<SliceBackward0>) \n",
      "\n",
      "Layer: linear_relu_stack.2.weight | Size: torch.Size([512, 512]) | Values : tensor([[ 1.1396e-02,  1.4533e-02, -3.5919e-02,  ...,  3.5904e-02,\n",
      "          3.4733e-02,  1.7529e-02],\n",
      "        [ 1.0999e-02, -1.2431e-02,  2.3548e-02,  ..., -2.4745e-02,\n",
      "         -6.9954e-05, -2.4667e-03]], grad_fn=<SliceBackward0>) \n",
      "\n",
      "Layer: linear_relu_stack.2.bias | Size: torch.Size([512]) | Values : tensor([-0.0322,  0.0157], grad_fn=<SliceBackward0>) \n",
      "\n",
      "Layer: linear_relu_stack.4.weight | Size: torch.Size([10, 512]) | Values : tensor([[ 0.0166,  0.0163, -0.0426,  ...,  0.0289, -0.0157, -0.0009],\n",
      "        [ 0.0180,  0.0421,  0.0246,  ..., -0.0081, -0.0256, -0.0115]],\n",
      "       grad_fn=<SliceBackward0>) \n",
      "\n",
      "Layer: linear_relu_stack.4.bias | Size: torch.Size([10]) | Values : tensor([0.0171, 0.0314], grad_fn=<SliceBackward0>) \n",
      "\n"
     ]
    }
   ],
   "source": [
    "print(f\"Model structure: {model}\\n\\n\")\n",
    "\n",
    "for name, param in model.named_parameters():\n",
    "    print(f\"Layer: {name} | Size: {param.size()} | Values : {param[:2]} \\n\")"
   ]
  }
 ],
 "metadata": {
  "kernelspec": {
   "display_name": "Python 3 (ipykernel)",
   "language": "python",
   "name": "python3"
  },
  "language_info": {
   "codemirror_mode": {
    "name": "ipython",
    "version": 3
   },
   "file_extension": ".py",
   "mimetype": "text/x-python",
   "name": "python",
   "nbconvert_exporter": "python",
   "pygments_lexer": "ipython3",
   "version": "3.9.7"
  }
 },
 "nbformat": 4,
 "nbformat_minor": 5
}
