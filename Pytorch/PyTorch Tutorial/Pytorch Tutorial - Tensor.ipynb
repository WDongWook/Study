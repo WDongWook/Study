{
 "cells": [
  {
   "cell_type": "markdown",
   "id": "87e64a61",
   "metadata": {},
   "source": [
    "# 1. Tensor"
   ]
  },
  {
   "cell_type": "markdown",
   "id": "b0910723",
   "metadata": {},
   "source": [
    "- 배열이나 행렬과 매우 유사한 특수한 자료구조"
   ]
  },
  {
   "cell_type": "code",
   "execution_count": 1,
   "id": "e4735ba0",
   "metadata": {},
   "outputs": [],
   "source": [
    "import torch\n",
    "import numpy as np"
   ]
  },
  {
   "cell_type": "markdown",
   "id": "7b714661",
   "metadata": {},
   "source": [
    "## 1-1. 텐서 초기화하기"
   ]
  },
  {
   "cell_type": "code",
   "execution_count": 2,
   "id": "6efa5e92",
   "metadata": {},
   "outputs": [],
   "source": [
    "data = [[1,2],[3,4]]"
   ]
  },
  {
   "cell_type": "markdown",
   "id": "7061dbd0",
   "metadata": {},
   "source": [
    "### 1) 데이터로부터 직접 생성하기"
   ]
  },
  {
   "cell_type": "code",
   "execution_count": 3,
   "id": "6e758776",
   "metadata": {},
   "outputs": [],
   "source": [
    "X_data = torch.tensor(data)"
   ]
  },
  {
   "cell_type": "code",
   "execution_count": 4,
   "id": "b9e2b143",
   "metadata": {},
   "outputs": [
    {
     "data": {
      "text/plain": [
       "tensor([[1, 2],\n",
       "        [3, 4]])"
      ]
     },
     "execution_count": 4,
     "metadata": {},
     "output_type": "execute_result"
    }
   ],
   "source": [
    "X_data"
   ]
  },
  {
   "cell_type": "markdown",
   "id": "aa53c091",
   "metadata": {},
   "source": [
    "### 2) NumPy 배열로부터 생성하기"
   ]
  },
  {
   "cell_type": "code",
   "execution_count": 6,
   "id": "4811c00c",
   "metadata": {},
   "outputs": [],
   "source": [
    "np_array = np.array(data)\n",
    "X_np = torch.from_numpy(np_array)"
   ]
  },
  {
   "cell_type": "code",
   "execution_count": 7,
   "id": "8c6b04e0",
   "metadata": {},
   "outputs": [
    {
     "data": {
      "text/plain": [
       "tensor([[1, 2],\n",
       "        [3, 4]])"
      ]
     },
     "execution_count": 7,
     "metadata": {},
     "output_type": "execute_result"
    }
   ],
   "source": [
    "X_np"
   ]
  },
  {
   "cell_type": "markdown",
   "id": "64a960ed",
   "metadata": {},
   "source": [
    "### 3) 다른 텐서로부터 생성하기"
   ]
  },
  {
   "cell_type": "markdown",
   "id": "d60ee07f",
   "metadata": {},
   "source": [
    "- ones_like : 1로 채워진 텐서\n",
    "- zeros_like : 0으로 채워진 텐서\n",
    "- rand_like : 랜덤으로"
   ]
  },
  {
   "cell_type": "code",
   "execution_count": 9,
   "id": "5fd3bbe9",
   "metadata": {},
   "outputs": [
    {
     "name": "stdout",
     "output_type": "stream",
     "text": [
      "Ones Tensor : \n",
      " tensor([[1, 1],\n",
      "        [1, 1]]) \n",
      "\n",
      "Random Tensor : \n",
      " tensor([[0.5365, 0.1966],\n",
      "        [0.2560, 0.8337]]) \n",
      "\n"
     ]
    }
   ],
   "source": [
    "X_ones = torch.ones_like(X_data)\n",
    "\n",
    "X_rand = torch.rand_like(X_data,dtype = torch.float)\n",
    "\n",
    "print(f\"Ones Tensor : \\n {X_ones} \\n\")\n",
    "print(f\"Random Tensor : \\n {X_rand} \\n\")"
   ]
  },
  {
   "cell_type": "markdown",
   "id": "a4ba9cb5",
   "metadata": {},
   "source": [
    "### 4) 무작위 또는 상수 값을 사용하기"
   ]
  },
  {
   "cell_type": "code",
   "execution_count": 10,
   "id": "460d21e2",
   "metadata": {},
   "outputs": [],
   "source": [
    "shape = (2,3,)"
   ]
  },
  {
   "cell_type": "code",
   "execution_count": 12,
   "id": "7cad4de7",
   "metadata": {},
   "outputs": [
    {
     "name": "stdout",
     "output_type": "stream",
     "text": [
      "Rand Tensor : \n",
      " tensor([[0.9388, 0.2545, 0.9413],\n",
      "        [0.2147, 0.9543, 0.6911]]) \n",
      "\n",
      "Ones Tensor : \n",
      " tensor([[1., 1., 1.],\n",
      "        [1., 1., 1.]]) \n",
      "\n",
      "Zeros Tensor : \n",
      " tensor([[0., 0., 0.],\n",
      "        [0., 0., 0.]]) \n",
      "\n"
     ]
    }
   ],
   "source": [
    "rand_tensor = torch.rand(shape)\n",
    "ones_tensor = torch.ones(shape)\n",
    "zeros_tensor = torch.zeros(shape)\n",
    "\n",
    "print(f\"Rand Tensor : \\n {rand_tensor} \\n\")\n",
    "print(f\"Ones Tensor : \\n {ones_tensor} \\n\")\n",
    "print(f\"Zeros Tensor : \\n {zeros_tensor} \\n\")"
   ]
  },
  {
   "cell_type": "markdown",
   "id": "a6e8af4d",
   "metadata": {},
   "source": [
    "## 1-2. 텐서의 속성(Attribute)"
   ]
  },
  {
   "cell_type": "markdown",
   "id": "1a9d7779",
   "metadata": {},
   "source": [
    "- 텐서의 속성은 텐서의 모양, 자료형 및 어느 장치에 저장되는지 나타내준다."
   ]
  },
  {
   "cell_type": "code",
   "execution_count": 16,
   "id": "41303137",
   "metadata": {},
   "outputs": [],
   "source": [
    "tensor = torch.rand(3,4)"
   ]
  },
  {
   "cell_type": "code",
   "execution_count": 18,
   "id": "87787797",
   "metadata": {},
   "outputs": [
    {
     "name": "stdout",
     "output_type": "stream",
     "text": [
      "Shape of Tensor : torch.Size([3, 4])\n",
      "Datatype of Tensor : torch.float32\n",
      "Device Tensor is stored on : cpu\n"
     ]
    }
   ],
   "source": [
    "print(f\"Shape of Tensor : {tensor.shape}\")\n",
    "print(f\"Datatype of Tensor : {tensor.dtype}\")\n",
    "print(f\"Device Tensor is stored on : {tensor.device}\")"
   ]
  },
  {
   "cell_type": "markdown",
   "id": "f00bd557",
   "metadata": {},
   "source": [
    "## 1-3. 텐서 연산 (Operation)"
   ]
  },
  {
   "cell_type": "markdown",
   "id": "2901682c",
   "metadata": {},
   "source": [
    "- 전치, 인덱싱, 슬라이싱, 수학 계산, 선형 대수, 임의 샘플링 등 100가지 이상의 텐서 연산을 수행할 수 있다."
   ]
  },
  {
   "cell_type": "code",
   "execution_count": 19,
   "id": "898fb2f9",
   "metadata": {},
   "outputs": [],
   "source": [
    "if torch.cuda.is_available() :\n",
    "    tensor = tensor.to('cuda')\n",
    "    print(f\"Device Tensor is stored on : {tensor.device}\")"
   ]
  },
  {
   "cell_type": "code",
   "execution_count": 20,
   "id": "5910e80a",
   "metadata": {},
   "outputs": [],
   "source": [
    "tensor = torch.ones(4,4)"
   ]
  },
  {
   "cell_type": "code",
   "execution_count": 24,
   "id": "fe1c63cf",
   "metadata": {},
   "outputs": [
    {
     "name": "stdout",
     "output_type": "stream",
     "text": [
      "tensor([[1., 0., 1., 1.],\n",
      "        [1., 0., 1., 1.],\n",
      "        [1., 0., 1., 1.],\n",
      "        [1., 0., 1., 1.]])\n"
     ]
    }
   ],
   "source": [
    "tensor[:,1] = 0 # 처음은 행 두번째는 열\n",
    "print(tensor)"
   ]
  },
  {
   "cell_type": "markdown",
   "id": "470d7b1b",
   "metadata": {},
   "source": [
    "### 3-1. 텐서 합치기"
   ]
  },
  {
   "cell_type": "code",
   "execution_count": 28,
   "id": "90bc836b",
   "metadata": {},
   "outputs": [
    {
     "name": "stdout",
     "output_type": "stream",
     "text": [
      "행으로 붙인 결과 \n",
      " tensor([[1., 0., 1., 1.],\n",
      "        [1., 0., 1., 1.],\n",
      "        [1., 0., 1., 1.],\n",
      "        [1., 0., 1., 1.],\n",
      "        [1., 0., 1., 1.],\n",
      "        [1., 0., 1., 1.],\n",
      "        [1., 0., 1., 1.],\n",
      "        [1., 0., 1., 1.],\n",
      "        [1., 0., 1., 1.],\n",
      "        [1., 0., 1., 1.],\n",
      "        [1., 0., 1., 1.],\n",
      "        [1., 0., 1., 1.]]) \n",
      "\n",
      "열로 붙인 결과 \n",
      " tensor([[1., 0., 1., 1., 1., 0., 1., 1., 1., 0., 1., 1.],\n",
      "        [1., 0., 1., 1., 1., 0., 1., 1., 1., 0., 1., 1.],\n",
      "        [1., 0., 1., 1., 1., 0., 1., 1., 1., 0., 1., 1.],\n",
      "        [1., 0., 1., 1., 1., 0., 1., 1., 1., 0., 1., 1.]]) \n",
      "\n"
     ]
    }
   ],
   "source": [
    "t0 = torch.cat([tensor,tensor,tensor],dim = 0)\n",
    "t1 = torch.cat([tensor,tensor,tensor],dim = 1)\n",
    "\n",
    "print(f\"행으로 붙인 결과 \\n {t0} \\n\")\n",
    "print(f\"열로 붙인 결과 \\n {t1} \\n\")"
   ]
  },
  {
   "cell_type": "markdown",
   "id": "d301023c",
   "metadata": {},
   "source": [
    "- dim이 0이면 행으로 붙이기, 1이면 열로 붙이기"
   ]
  },
  {
   "cell_type": "markdown",
   "id": "dc362fe2",
   "metadata": {},
   "source": [
    "### 3-2 텐서 곱하기"
   ]
  },
  {
   "cell_type": "code",
   "execution_count": 29,
   "id": "a5f77337",
   "metadata": {},
   "outputs": [
    {
     "data": {
      "text/plain": [
       "tensor([[1., 0., 1., 1.],\n",
       "        [1., 0., 1., 1.],\n",
       "        [1., 0., 1., 1.],\n",
       "        [1., 0., 1., 1.]])"
      ]
     },
     "execution_count": 29,
     "metadata": {},
     "output_type": "execute_result"
    }
   ],
   "source": [
    "tensor.mul(tensor)"
   ]
  },
  {
   "cell_type": "code",
   "execution_count": 30,
   "id": "3950e2f8",
   "metadata": {},
   "outputs": [
    {
     "name": "stdout",
     "output_type": "stream",
     "text": [
      "요소별 곱을 계산 \n",
      " tensor([[1., 0., 1., 1.],\n",
      "        [1., 0., 1., 1.],\n",
      "        [1., 0., 1., 1.],\n",
      "        [1., 0., 1., 1.]])\n",
      "\n",
      "위와 같은 결과 \n",
      " tensor([[1., 0., 1., 1.],\n",
      "        [1., 0., 1., 1.],\n",
      "        [1., 0., 1., 1.],\n",
      "        [1., 0., 1., 1.]])\n"
     ]
    }
   ],
   "source": [
    "print(f\"요소별 곱을 계산 \\n {tensor.mul(tensor)}\\n\")\n",
    "print(f\"위와 같은 결과 \\n {tensor * tensor}\")"
   ]
  },
  {
   "cell_type": "code",
   "execution_count": 31,
   "id": "e05d861d",
   "metadata": {},
   "outputs": [
    {
     "name": "stdout",
     "output_type": "stream",
     "text": [
      "두 텐서 간의 행렬 곱 \n",
      "tensor([[3., 3., 3., 3.],\n",
      "        [3., 3., 3., 3.],\n",
      "        [3., 3., 3., 3.],\n",
      "        [3., 3., 3., 3.]]) \n",
      "\n",
      "위와 동일한 결과 \n",
      " tensor([[3., 0., 3., 3.],\n",
      "        [3., 0., 3., 3.],\n",
      "        [3., 0., 3., 3.],\n",
      "        [3., 0., 3., 3.]])\n"
     ]
    }
   ],
   "source": [
    "print(f\"두 텐서 간의 행렬 곱 \\n{tensor.matmul(tensor.T)} \\n\")\n",
    "print(f\"위와 동일한 결과 \\n {tensor @ tensor}\")"
   ]
  },
  {
   "cell_type": "markdown",
   "id": "bea537f5",
   "metadata": {},
   "source": [
    "### 3-3. 바꿔치기 연산"
   ]
  },
  {
   "cell_type": "markdown",
   "id": "9807196e",
   "metadata": {},
   "source": [
    "- 접미사를 갖는 연산들은 바꿔치기(in-place) 연산한다"
   ]
  },
  {
   "cell_type": "code",
   "execution_count": 34,
   "id": "dae58fc4",
   "metadata": {},
   "outputs": [
    {
     "name": "stdout",
     "output_type": "stream",
     "text": [
      "tensor([[1., 0., 1., 1.],\n",
      "        [1., 0., 1., 1.],\n",
      "        [1., 0., 1., 1.],\n",
      "        [1., 0., 1., 1.]]) \n",
      "\n",
      "tensor([[6., 5., 6., 6.],\n",
      "        [6., 5., 6., 6.],\n",
      "        [6., 5., 6., 6.],\n",
      "        [6., 5., 6., 6.]])\n"
     ]
    }
   ],
   "source": [
    "print(tensor,\"\\n\")\n",
    "tensor.add_(5)\n",
    "print(tensor)"
   ]
  },
  {
   "cell_type": "markdown",
   "id": "084fb735",
   "metadata": {},
   "source": [
    "- 계산 파라미터 뒤에 _ 붙은거는 따로 정의안해줘도 적용"
   ]
  },
  {
   "cell_type": "markdown",
   "id": "ba4dfc6f",
   "metadata": {},
   "source": [
    "## 1-4 Numpy 변환(Bridge)"
   ]
  },
  {
   "cell_type": "markdown",
   "id": "aa553da1",
   "metadata": {},
   "source": [
    "### 4-1. 텐서를 numpy 배열로 변환하기"
   ]
  },
  {
   "cell_type": "code",
   "execution_count": 37,
   "id": "23acbf63",
   "metadata": {},
   "outputs": [
    {
     "name": "stdout",
     "output_type": "stream",
     "text": [
      "t : tensor([1., 1., 1., 1., 1.])\n",
      "n : [1. 1. 1. 1. 1.]\n"
     ]
    }
   ],
   "source": [
    "t = torch.ones(5)\n",
    "print(f\"t : {t}\")\n",
    "n = t.numpy()\n",
    "print(f\"n : {n}\")"
   ]
  },
  {
   "cell_type": "code",
   "execution_count": 38,
   "id": "a6b7a56d",
   "metadata": {},
   "outputs": [
    {
     "name": "stdout",
     "output_type": "stream",
     "text": [
      "tensor([2., 2., 2., 2., 2.]) \n",
      "\n",
      "[2. 2. 2. 2. 2.] \n",
      "\n"
     ]
    }
   ],
   "source": [
    "t.add_(1)\n",
    "print(t,\"\\n\")\n",
    "print(n,\"\\n\")"
   ]
  },
  {
   "cell_type": "markdown",
   "id": "748b6e0e",
   "metadata": {},
   "source": [
    "### 4-2. NumPy 배열 Tensor로 변환하기"
   ]
  },
  {
   "cell_type": "code",
   "execution_count": 39,
   "id": "bf5c2f14",
   "metadata": {},
   "outputs": [],
   "source": [
    "n = np.ones(5)\n",
    "t = torch.from_numpy(n)"
   ]
  },
  {
   "cell_type": "code",
   "execution_count": 40,
   "id": "337afa67",
   "metadata": {},
   "outputs": [
    {
     "name": "stdout",
     "output_type": "stream",
     "text": [
      "[1. 1. 1. 1. 1.] \n",
      "\n",
      "tensor([1., 1., 1., 1., 1.], dtype=torch.float64)\n"
     ]
    }
   ],
   "source": [
    "print(n,'\\n')\n",
    "print(t)"
   ]
  },
  {
   "cell_type": "code",
   "execution_count": 41,
   "id": "f8f44650",
   "metadata": {},
   "outputs": [
    {
     "name": "stdout",
     "output_type": "stream",
     "text": [
      "t : tensor([2., 2., 2., 2., 2.], dtype=torch.float64)\n",
      "\n",
      "n : [2. 2. 2. 2. 2.]\n",
      "\n"
     ]
    }
   ],
   "source": [
    "np.add(n,1,out = n)\n",
    "print(f\"t : {t}\\n\")\n",
    "print(f\"n : {n}\\n\")"
   ]
  }
 ],
 "metadata": {
  "kernelspec": {
   "display_name": "Python 3 (ipykernel)",
   "language": "python",
   "name": "python3"
  },
  "language_info": {
   "codemirror_mode": {
    "name": "ipython",
    "version": 3
   },
   "file_extension": ".py",
   "mimetype": "text/x-python",
   "name": "python",
   "nbconvert_exporter": "python",
   "pygments_lexer": "ipython3",
   "version": "3.9.7"
  }
 },
 "nbformat": 4,
 "nbformat_minor": 5
}
