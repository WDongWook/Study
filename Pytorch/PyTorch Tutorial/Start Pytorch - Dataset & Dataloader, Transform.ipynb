{
 "cells": [
  {
   "cell_type": "markdown",
   "id": "61a89d5e",
   "metadata": {},
   "source": [
    "# 1. Dataset & DataLoader"
   ]
  },
  {
   "cell_type": "markdown",
   "id": "1fc7b72f",
   "metadata": {},
   "source": [
    "- Dataset은 샘플과 정답(label)을 저장\n",
    "- Dataloader는 Dataset을 샘플에 쉽게 접근할 수 있도록 순회 가능한 객체로 감싼다"
   ]
  },
  {
   "cell_type": "markdown",
   "id": "64723e6f",
   "metadata": {},
   "source": [
    "## 1. 데이터셋 불러오기"
   ]
  },
  {
   "cell_type": "code",
   "execution_count": 1,
   "id": "8b940b17",
   "metadata": {},
   "outputs": [],
   "source": [
    "import torch\n",
    "from torch.utils.data import Dataset,DataLoader\n",
    "from torchvision import datasets\n",
    "from torchvision.transforms import ToTensor\n",
    "import matplotlib.pyplot as plt\n",
    "%matplotlib inline\n",
    "\n",
    "import warnings\n",
    "warnings.filterwarnings('ignore')"
   ]
  },
  {
   "cell_type": "code",
   "execution_count": 2,
   "id": "a83d65a8",
   "metadata": {
    "scrolled": true
   },
   "outputs": [
    {
     "name": "stdout",
     "output_type": "stream",
     "text": [
      "Downloading http://fashion-mnist.s3-website.eu-central-1.amazonaws.com/train-images-idx3-ubyte.gz\n",
      "Downloading http://fashion-mnist.s3-website.eu-central-1.amazonaws.com/train-images-idx3-ubyte.gz to data/FashionMNIST/raw/train-images-idx3-ubyte.gz\n"
     ]
    },
    {
     "data": {
      "application/vnd.jupyter.widget-view+json": {
       "model_id": "dd6bd1eff74740c9bb9b74d1e4950d88",
       "version_major": 2,
       "version_minor": 0
      },
      "text/plain": [
       "  0%|          | 0/26421880 [00:00<?, ?it/s]"
      ]
     },
     "metadata": {},
     "output_type": "display_data"
    },
    {
     "name": "stdout",
     "output_type": "stream",
     "text": [
      "Extracting data/FashionMNIST/raw/train-images-idx3-ubyte.gz to data/FashionMNIST/raw\n",
      "\n",
      "Downloading http://fashion-mnist.s3-website.eu-central-1.amazonaws.com/train-labels-idx1-ubyte.gz\n",
      "Downloading http://fashion-mnist.s3-website.eu-central-1.amazonaws.com/train-labels-idx1-ubyte.gz to data/FashionMNIST/raw/train-labels-idx1-ubyte.gz\n"
     ]
    },
    {
     "data": {
      "application/vnd.jupyter.widget-view+json": {
       "model_id": "3b17261e9cab452a97d0cefe46bfd71f",
       "version_major": 2,
       "version_minor": 0
      },
      "text/plain": [
       "  0%|          | 0/29515 [00:00<?, ?it/s]"
      ]
     },
     "metadata": {},
     "output_type": "display_data"
    },
    {
     "name": "stdout",
     "output_type": "stream",
     "text": [
      "Extracting data/FashionMNIST/raw/train-labels-idx1-ubyte.gz to data/FashionMNIST/raw\n",
      "\n",
      "Downloading http://fashion-mnist.s3-website.eu-central-1.amazonaws.com/t10k-images-idx3-ubyte.gz\n",
      "Downloading http://fashion-mnist.s3-website.eu-central-1.amazonaws.com/t10k-images-idx3-ubyte.gz to data/FashionMNIST/raw/t10k-images-idx3-ubyte.gz\n"
     ]
    },
    {
     "data": {
      "application/vnd.jupyter.widget-view+json": {
       "model_id": "cb85442a447d41828c58da3b7f3111dc",
       "version_major": 2,
       "version_minor": 0
      },
      "text/plain": [
       "  0%|          | 0/4422102 [00:00<?, ?it/s]"
      ]
     },
     "metadata": {},
     "output_type": "display_data"
    },
    {
     "name": "stdout",
     "output_type": "stream",
     "text": [
      "Extracting data/FashionMNIST/raw/t10k-images-idx3-ubyte.gz to data/FashionMNIST/raw\n",
      "\n",
      "Downloading http://fashion-mnist.s3-website.eu-central-1.amazonaws.com/t10k-labels-idx1-ubyte.gz\n",
      "Downloading http://fashion-mnist.s3-website.eu-central-1.amazonaws.com/t10k-labels-idx1-ubyte.gz to data/FashionMNIST/raw/t10k-labels-idx1-ubyte.gz\n"
     ]
    },
    {
     "data": {
      "application/vnd.jupyter.widget-view+json": {
       "model_id": "cbfc71153ddb4b5f9a922f68514cbdcb",
       "version_major": 2,
       "version_minor": 0
      },
      "text/plain": [
       "  0%|          | 0/5148 [00:00<?, ?it/s]"
      ]
     },
     "metadata": {},
     "output_type": "display_data"
    },
    {
     "name": "stdout",
     "output_type": "stream",
     "text": [
      "Extracting data/FashionMNIST/raw/t10k-labels-idx1-ubyte.gz to data/FashionMNIST/raw\n",
      "\n"
     ]
    }
   ],
   "source": [
    "training_data = datasets.FashionMNIST(root = 'data',\n",
    "                                     train = True,\n",
    "                                     download = True,\n",
    "                                     transform = ToTensor())\n",
    "\n",
    "test_data = datasets.FashionMNIST(root = 'data',\n",
    "                                 train = False,\n",
    "                                 download = True,\n",
    "                                 transform = ToTensor())"
   ]
  },
  {
   "cell_type": "markdown",
   "id": "ca6a1ea6",
   "metadata": {},
   "source": [
    "## 2. 데이터셋 순회하고 시각화하기"
   ]
  },
  {
   "cell_type": "code",
   "execution_count": 3,
   "id": "62ee5705",
   "metadata": {},
   "outputs": [],
   "source": [
    "labels_map = {\n",
    "    0: \"T-Shirt\",\n",
    "    1: \"Trouser\",\n",
    "    2: \"Pullover\",\n",
    "    3: \"Dress\",\n",
    "    4: \"Coat\",\n",
    "    5: \"Sandal\",\n",
    "    6: \"Shirt\",\n",
    "    7: \"Sneaker\",\n",
    "    8: \"Bag\",\n",
    "    9: \"Ankle Boot\"}"
   ]
  },
  {
   "cell_type": "code",
   "execution_count": 5,
   "id": "3e2323b2",
   "metadata": {
    "scrolled": true
   },
   "outputs": [
    {
     "data": {
      "image/png": "[encoded data removed]",
      "text/plain": [
       "<Figure size 576x576 with 9 Axes>"
      ]
     },
     "metadata": {
      "needs_background": "light"
     },
     "output_type": "display_data"
    }
   ],
   "source": [
    "figure = plt.figure(figsize = (8,8))\n",
    "cols, rows = 3,3\n",
    "\n",
    "for i in range(1,cols*rows +1) :\n",
    "    sample_idx = torch.randint(len(training_data),size = (1,)).item()\n",
    "    img, label = training_data[sample_idx]\n",
    "    figure.add_subplot(rows,cols,i)\n",
    "    plt.title(labels_map[label])\n",
    "    plt.axis('off')\n",
    "    plt.imshow(img.squeeze(),cmap = 'gray')\n",
    "    \n",
    "plt.show()"
   ]
  },
  {
   "cell_type": "markdown",
   "id": "bdd5d6e3",
   "metadata": {},
   "source": [
    "## 3. 파일에서 사용자 정의 데이터셋 만들기"
   ]
  },
  {
   "cell_type": "code",
   "execution_count": 22,
   "id": "cc787b80",
   "metadata": {},
   "outputs": [],
   "source": [
    "import os\n",
    "import pandas as pd\n",
    "from torchvision.io import read_image"
   ]
  },
  {
   "cell_type": "code",
   "execution_count": 23,
   "id": "6d35c9bb",
   "metadata": {},
   "outputs": [],
   "source": [
    "class CustomImageDataset(Dataset) :\n",
    "    def __init__(self, annotations_file, img_dir, transform = None, target_transfrom = None) :\n",
    "        self.img_labels = pd.read_csv(annotations_file,names = ['file_name','label'])\n",
    "        self.img_dir = img_dir\n",
    "        self.transform = transform\n",
    "        self.target_transfrom = target_transfrom\n",
    "    \n",
    "    def __len__(self) :\n",
    "        return len(self.img_labels)\n",
    "    \n",
    "    def __getitem__(self,idx) :\n",
    "        img_path = os.path.join(self.img_dir,self.img_labels.iloc[idx,0])\n",
    "        image = read_image(img_path)\n",
    "        label = self.img_labels.iloc[idx,1]\n",
    "        if self.transform :\n",
    "            image = self.transform(image)\n",
    "        if self.target_transfrom :\n",
    "            label = self.target_transfrom(label)\n",
    "        return image, label"
   ]
  },
  {
   "cell_type": "markdown",
   "id": "98c55a7c",
   "metadata": {},
   "source": [
    "## 4. DataLoader로 학습용 데이터 준비하기"
   ]
  },
  {
   "cell_type": "code",
   "execution_count": 24,
   "id": "1b5441a6",
   "metadata": {},
   "outputs": [],
   "source": [
    "train_dataloader = DataLoader(training_data, batch_size = 64,\n",
    "                             shuffle = True)\n",
    "\n",
    "test_dataloader = DataLoader(test_data, batch_size = 64, \n",
    "                            shuffle = True)"
   ]
  },
  {
   "cell_type": "markdown",
   "id": "e7149157",
   "metadata": {},
   "source": [
    "## 5. DataLoader를 통해 순회하기(iterate)"
   ]
  },
  {
   "cell_type": "code",
   "execution_count": 25,
   "id": "4934b825",
   "metadata": {},
   "outputs": [
    {
     "name": "stdout",
     "output_type": "stream",
     "text": [
      "Feature batch shape: torch.Size([64, 1, 28, 28])\n",
      "Labels batch shape: torch.Size([64])\n"
     ]
    },
    {
     "data": {
      "image/png": "[encoded data removed]",
      "text/plain": [
       "<Figure size 432x288 with 1 Axes>"
      ]
     },
     "metadata": {
      "needs_background": "light"
     },
     "output_type": "display_data"
    },
    {
     "name": "stdout",
     "output_type": "stream",
     "text": [
      "Label: 6\n"
     ]
    }
   ],
   "source": [
    "train_features, train_labels = next(iter(train_dataloader))\n",
    "print(f\"Feature batch shape: {train_features.size()}\")\n",
    "print(f\"Labels batch shape: {train_labels.size()}\")\n",
    "img = train_features[0].squeeze()\n",
    "label = train_labels[0]\n",
    "plt.imshow(img, cmap=\"gray\")\n",
    "plt.show()\n",
    "print(f\"Label: {label}\")"
   ]
  },
  {
   "cell_type": "markdown",
   "id": "5630aae4",
   "metadata": {},
   "source": [
    "# 2. Transform"
   ]
  },
  {
   "cell_type": "markdown",
   "id": "3439b3be",
   "metadata": {},
   "source": [
    "- 데이터 조작하고 학습에 적합하게 만들어준다"
   ]
  },
  {
   "cell_type": "code",
   "execution_count": 26,
   "id": "b52abffc",
   "metadata": {},
   "outputs": [],
   "source": [
    "import torch\n",
    "from torchvision import datasets\n",
    "from torchvision.transforms import ToTensor, Lambda"
   ]
  },
  {
   "cell_type": "code",
   "execution_count": 27,
   "id": "9775ed07",
   "metadata": {},
   "outputs": [],
   "source": [
    "ds = datasets.FashionMNIST(root = 'data',\n",
    "                          train = True,\n",
    "                          download = True,\n",
    "                          transform = ToTensor(),\n",
    "                          target_transform = \n",
    "                           Lambda(lambda y : torch.zeros(10,dtype = torch.float).scatter_(0,torch.tensor(y),value = 1))\n",
    "                          )"
   ]
  },
  {
   "cell_type": "markdown",
   "id": "df9a7ed1",
   "metadata": {},
   "source": [
    "#### Lambda 변형 \n",
    "\n",
    "- 사용자 정의 람다 함수 적용\n",
    "- 여기서는 먼저 크기가 10인 0 텐서(zero tensor)를 만들고, scatter_를 호출하여 주어진 정답 y에 해당하는 인덱스에 value = 1을 할당"
   ]
  }
 ],
 "metadata": {
  "kernelspec": {
   "display_name": "Python 3 (ipykernel)",
   "language": "python",
   "name": "python3"
  },
  "language_info": {
   "codemirror_mode": {
    "name": "ipython",
    "version": 3
   },
   "file_extension": ".py",
   "mimetype": "text/x-python",
   "name": "python",
   "nbconvert_exporter": "python",
   "pygments_lexer": "ipython3",
   "version": "3.9.7"
  }
 },
 "nbformat": 4,
 "nbformat_minor": 5
}
