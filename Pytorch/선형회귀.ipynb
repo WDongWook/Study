{
 "cells": [
  {
   "cell_type": "code",
   "execution_count": 5,
   "id": "d439d73c",
   "metadata": {},
   "outputs": [],
   "source": [
    "import torch\n",
    "import torch.nn as nn\n",
    "import torch.nn.functional as F\n",
    "import torch.optim as optim"
   ]
  },
  {
   "cell_type": "code",
   "execution_count": 6,
   "id": "0a51ff3f",
   "metadata": {},
   "outputs": [
    {
     "data": {
      "text/plain": [
       "<torch._C.Generator at 0x7fd5c0917f90>"
      ]
     },
     "execution_count": 6,
     "metadata": {},
     "output_type": "execute_result"
    }
   ],
   "source": [
    "torch.manual_seed(1)"
   ]
  },
  {
   "cell_type": "markdown",
   "id": "be9c3c66",
   "metadata": {},
   "source": [
    "- random_state와 같다"
   ]
  },
  {
   "cell_type": "code",
   "execution_count": 13,
   "id": "5a2f42e8",
   "metadata": {},
   "outputs": [],
   "source": [
    "X_train = torch.FloatTensor([[1],[2],[3]])\n",
    "y_train = torch.FloatTensor([[2],[4],[6]])"
   ]
  },
  {
   "cell_type": "code",
   "execution_count": 17,
   "id": "9b0172ed",
   "metadata": {},
   "outputs": [
    {
     "data": {
      "text/plain": [
       "torch.Size([3, 1])"
      ]
     },
     "execution_count": 17,
     "metadata": {},
     "output_type": "execute_result"
    }
   ],
   "source": [
    "y_train.shape"
   ]
  },
  {
   "cell_type": "markdown",
   "id": "2640c4fe",
   "metadata": {},
   "source": [
    "### 가중치와 편향의 초기화"
   ]
  },
  {
   "cell_type": "markdown",
   "id": "6837c650",
   "metadata": {},
   "source": [
    "- 선형 회귀란 학습 데이터와 가장 잘 맞는 하나의 직선 찾는 것\n",
    "- 그 직선 정의하는 것이 W(가중치)와 b(편향)"
   ]
  },
  {
   "cell_type": "code",
   "execution_count": 22,
   "id": "2a8638fd",
   "metadata": {},
   "outputs": [],
   "source": [
    "W = torch.zeros(1,requires_grad = True)\n",
    "b = torch.zeros(1,requires_grad = True)"
   ]
  },
  {
   "cell_type": "markdown",
   "id": "3cc8147e",
   "metadata": {},
   "source": [
    "- requires_grad = Ture 로 설정하면 이제 이 텐서에 대한 기울기를 저장, 학습을 통해 계속 값이 변경되는 변수임을 의미"
   ]
  },
  {
   "cell_type": "code",
   "execution_count": 23,
   "id": "f45a833c",
   "metadata": {},
   "outputs": [
    {
     "name": "stdout",
     "output_type": "stream",
     "text": [
      "tensor([0.], requires_grad=True)\n",
      "tensor([0.], requires_grad=True)\n"
     ]
    }
   ],
   "source": [
    "print(W)\n",
    "print(b)"
   ]
  },
  {
   "cell_type": "markdown",
   "id": "d24b6fcf",
   "metadata": {},
   "source": [
    "### 가설 세우기"
   ]
  },
  {
   "cell_type": "code",
   "execution_count": 24,
   "id": "1fc0e7fe",
   "metadata": {},
   "outputs": [
    {
     "name": "stdout",
     "output_type": "stream",
     "text": [
      "tensor([[0.],\n",
      "        [0.],\n",
      "        [0.]], grad_fn=<AddBackward0>)\n"
     ]
    }
   ],
   "source": [
    "hypothesis = X_train * W + b\n",
    "print(hypothesis)"
   ]
  },
  {
   "cell_type": "code",
   "execution_count": 26,
   "id": "f18687b9",
   "metadata": {},
   "outputs": [
    {
     "name": "stdout",
     "output_type": "stream",
     "text": [
      "tensor(18.6667, grad_fn=<MeanBackward0>)\n"
     ]
    }
   ],
   "source": [
    "cost = torch.mean((hypothesis - y_train) ** 2)\n",
    "print(cost)"
   ]
  },
  {
   "cell_type": "markdown",
   "id": "85049023",
   "metadata": {},
   "source": [
    "### 경사 하강법 구현하기"
   ]
  },
  {
   "cell_type": "code",
   "execution_count": 27,
   "id": "8e78990e",
   "metadata": {},
   "outputs": [],
   "source": [
    "optimizer = optim.SGD([W,b],lr = 0.01)"
   ]
  },
  {
   "cell_type": "code",
   "execution_count": 28,
   "id": "5100263e",
   "metadata": {},
   "outputs": [
    {
     "data": {
      "text/plain": [
       "SGD (\n",
       "Parameter Group 0\n",
       "    dampening: 0\n",
       "    lr: 0.01\n",
       "    maximize: False\n",
       "    momentum: 0\n",
       "    nesterov: False\n",
       "    weight_decay: 0\n",
       ")"
      ]
     },
     "execution_count": 28,
     "metadata": {},
     "output_type": "execute_result"
    }
   ],
   "source": [
    "optimizer"
   ]
  },
  {
   "cell_type": "code",
   "execution_count": 29,
   "id": "b506f478",
   "metadata": {},
   "outputs": [],
   "source": [
    "optimizer.zero_grad()\n",
    "cost.backward()\n",
    "optimizer.step()"
   ]
  },
  {
   "cell_type": "markdown",
   "id": "3fc66bab",
   "metadata": {},
   "source": [
    "- zero_grad()를 실행하면서 미분을 통해 얻은 기울기를 0으로 초기화\n",
    "- 기울기를 초기화해야지 새로운 가중치 편향에 대해서 새로운 기울기를 구할 수 있다.\n",
    "- cost.backward() -> 가중치 W와 편향 b에 대한 기울기 계산\n",
    "- step을 통해 W&b 리턴되는 변수들의 기울기에 학습률 0.01 계산하여 빼줌으로서 업데이트"
   ]
  },
  {
   "cell_type": "markdown",
   "id": "bb5979d3",
   "metadata": {},
   "source": [
    "#### optimizer.zero_grad()가 필요한 이유"
   ]
  },
  {
   "cell_type": "code",
   "execution_count": null,
   "id": "4a1a52a9",
   "metadata": {},
   "outputs": [],
   "source": []
  },
  {
   "cell_type": "markdown",
   "id": "c495e2e2",
   "metadata": {},
   "source": [
    "### 전체 코드"
   ]
  },
  {
   "cell_type": "code",
   "execution_count": 38,
   "id": "dcc55acc",
   "metadata": {},
   "outputs": [
    {
     "name": "stdout",
     "output_type": "stream",
     "text": [
      "Epoch  100/2000 W: 1.977, b: 0.052 Cost: 0.000391\n",
      "Epoch  200/2000 W: 1.982, b: 0.041 Cost: 0.000242\n",
      "Epoch  300/2000 W: 1.986, b: 0.032 Cost: 0.000149\n",
      "Epoch  400/2000 W: 1.989, b: 0.025 Cost: 0.000092\n",
      "Epoch  500/2000 W: 1.991, b: 0.020 Cost: 0.000057\n",
      "Epoch  600/2000 W: 1.993, b: 0.016 Cost: 0.000035\n",
      "Epoch  700/2000 W: 1.995, b: 0.012 Cost: 0.000022\n",
      "Epoch  800/2000 W: 1.996, b: 0.010 Cost: 0.000013\n",
      "Epoch  900/2000 W: 1.997, b: 0.008 Cost: 0.000008\n",
      "Epoch 1000/2000 W: 1.997, b: 0.006 Cost: 0.000005\n",
      "Epoch 1100/2000 W: 1.998, b: 0.005 Cost: 0.000003\n",
      "Epoch 1200/2000 W: 1.998, b: 0.004 Cost: 0.000002\n",
      "Epoch 1300/2000 W: 1.999, b: 0.003 Cost: 0.000001\n",
      "Epoch 1400/2000 W: 1.999, b: 0.002 Cost: 0.000001\n",
      "Epoch 1500/2000 W: 1.999, b: 0.002 Cost: 0.000000\n",
      "Epoch 1600/2000 W: 1.999, b: 0.001 Cost: 0.000000\n",
      "Epoch 1700/2000 W: 2.000, b: 0.001 Cost: 0.000000\n",
      "Epoch 1800/2000 W: 2.000, b: 0.001 Cost: 0.000000\n",
      "Epoch 1900/2000 W: 2.000, b: 0.001 Cost: 0.000000\n",
      "Epoch 2000/2000 W: 2.000, b: 0.001 Cost: 0.000000\n"
     ]
    }
   ],
   "source": [
    "nb_epochs = 2000\n",
    "\n",
    "for epoch in range(1,nb_epochs+1) :\n",
    "    hypothesis = X_train * W + b\n",
    "    cost = torch.mean((hypothesis - y_train)**2)\n",
    "    \n",
    "    optimizer.zero_grad()\n",
    "    cost.backward()\n",
    "    optimizer.step()\n",
    "    \n",
    "    if epoch % 100 == 0 :\n",
    "        print('Epoch {:4d}/{} W: {:.3f}, b: {:.3f} Cost: {:.6f}'.format(\n",
    "            epoch, nb_epochs, W.item(), b.item(), cost.item()))"
   ]
  },
  {
   "cell_type": "markdown",
   "id": "f390aa31",
   "metadata": {},
   "source": [
    "## 자동미분"
   ]
  },
  {
   "cell_type": "markdown",
   "id": "bff49993",
   "metadata": {},
   "source": [
    "- 경사하강법 : 비용 함수(cost function)을 미분하여 이 함수의 기울기를 구해서 비용이 최소화되는 방향을 찾아내는 알고리즘\n",
    "\n",
    "- 모델이 복잡해질수록 경사 하강법을 직접 코딩하는 것은 어려운 일 -> 파이토치에서 이런 수고를 하지 않도록 자동 미분 지원"
   ]
  },
  {
   "cell_type": "markdown",
   "id": "c9dd8f8f",
   "metadata": {},
   "source": [
    "### 자동 미분 실습"
   ]
  },
  {
   "cell_type": "code",
   "execution_count": 48,
   "id": "48418f87",
   "metadata": {},
   "outputs": [],
   "source": [
    "w = torch.tensor(2.0,requires_grad = True)"
   ]
  },
  {
   "cell_type": "code",
   "execution_count": 51,
   "id": "454cfdbc",
   "metadata": {},
   "outputs": [],
   "source": [
    "y = w ** 2\n",
    "z = 2*y + 5"
   ]
  },
  {
   "cell_type": "code",
   "execution_count": 52,
   "id": "a5d9a70b",
   "metadata": {},
   "outputs": [],
   "source": [
    "z.backward()"
   ]
  },
  {
   "cell_type": "code",
   "execution_count": 46,
   "id": "4944134c",
   "metadata": {},
   "outputs": [
    {
     "name": "stdout",
     "output_type": "stream",
     "text": [
      "수식을 w로 미분한 값 : 8.0\n"
     ]
    }
   ],
   "source": [
    "print(f'수식을 w로 미분한 값 : {w.grad}')"
   ]
  }
 ],
 "metadata": {
  "kernelspec": {
   "display_name": "Python 3 (ipykernel)",
   "language": "python",
   "name": "python3"
  },
  "language_info": {
   "codemirror_mode": {
    "name": "ipython",
    "version": 3
   },
   "file_extension": ".py",
   "mimetype": "text/x-python",
   "name": "python",
   "nbconvert_exporter": "python",
   "pygments_lexer": "ipython3",
   "version": "3.9.7"
  }
 },
 "nbformat": 4,
 "nbformat_minor": 5
}
