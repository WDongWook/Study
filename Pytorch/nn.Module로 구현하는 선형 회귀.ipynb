{
 "cells": [
  {
   "cell_type": "markdown",
   "id": "b06c52f8",
   "metadata": {},
   "source": [
    "### 단순 선형 회귀 구현"
   ]
  },
  {
   "cell_type": "code",
   "execution_count": 4,
   "id": "68573808",
   "metadata": {},
   "outputs": [
    {
     "data": {
      "text/plain": [
       "<torch._C.Generator at 0x7fa7e9a71c30>"
      ]
     },
     "execution_count": 4,
     "metadata": {},
     "output_type": "execute_result"
    }
   ],
   "source": [
    "import torch\n",
    "from torch import nn\n",
    "from torch.nn import functional as F\n",
    "\n",
    "torch.manual_seed(1)"
   ]
  },
  {
   "cell_type": "code",
   "execution_count": 5,
   "id": "6a55563d",
   "metadata": {},
   "outputs": [],
   "source": [
    "x_train = torch.FloatTensor([[1], [2], [3]])\n",
    "y_train = torch.FloatTensor([[2], [4], [6]])"
   ]
  },
  {
   "cell_type": "code",
   "execution_count": 6,
   "id": "d378b540",
   "metadata": {},
   "outputs": [],
   "source": [
    "model = nn.Linear(1,1)"
   ]
  },
  {
   "cell_type": "code",
   "execution_count": 9,
   "id": "debb1031",
   "metadata": {},
   "outputs": [
    {
     "name": "stdout",
     "output_type": "stream",
     "text": [
      "[Parameter containing:\n",
      "tensor([[0.5153]], requires_grad=True), Parameter containing:\n",
      "tensor([-0.4414], requires_grad=True)]\n"
     ]
    }
   ],
   "source": [
    "print(list(model.parameters()))"
   ]
  },
  {
   "cell_type": "markdown",
   "id": "7bcc5240",
   "metadata": {},
   "source": [
    "- 첫 번째 텐서는 W, 두 번째 tensor는 b"
   ]
  },
  {
   "cell_type": "code",
   "execution_count": 10,
   "id": "8d94cf83",
   "metadata": {},
   "outputs": [],
   "source": [
    "optimizer = torch.optim.SGD(model.parameters(),lr = 0.01)"
   ]
  },
  {
   "cell_type": "code",
   "execution_count": 12,
   "id": "94f90d25",
   "metadata": {},
   "outputs": [
    {
     "name": "stdout",
     "output_type": "stream",
     "text": [
      "Epoch 100/2000 Cost : 0.002804068149998784\n",
      "Epoch 200/2000 Cost : 0.0017327357782050967\n",
      "Epoch 300/2000 Cost : 0.0010707209585234523\n",
      "Epoch 400/2000 Cost : 0.0006616427563130856\n",
      "Epoch 500/2000 Cost : 0.0004088581772521138\n",
      "Epoch 600/2000 Cost : 0.0002526498574297875\n",
      "Epoch 700/2000 Cost : 0.00015612124116159976\n",
      "Epoch 800/2000 Cost : 9.647066326579079e-05\n",
      "Epoch 900/2000 Cost : 5.9613765188260004e-05\n",
      "Epoch 1000/2000 Cost : 3.683911927510053e-05\n",
      "Epoch 1100/2000 Cost : 2.2764041204936802e-05\n",
      "Epoch 1200/2000 Cost : 1.4065827599551994e-05\n",
      "Epoch 1300/2000 Cost : 8.692571100255009e-06\n",
      "Epoch 1400/2000 Cost : 5.371515726437792e-06\n",
      "Epoch 1500/2000 Cost : 3.319054485473316e-06\n",
      "Epoch 1600/2000 Cost : 2.0513498384389095e-06\n",
      "Epoch 1700/2000 Cost : 1.2677684253503685e-06\n",
      "Epoch 1800/2000 Cost : 7.839325348868442e-07\n",
      "Epoch 1900/2000 Cost : 4.845924195251428e-07\n",
      "Epoch 2000/2000 Cost : 2.9956314051560184e-07\n"
     ]
    }
   ],
   "source": [
    "epochs = 2000\n",
    "for epoch in range(1,epochs+1) :\n",
    "    \n",
    "    prediction = model(x_train)\n",
    "    \n",
    "    cost = F.mse_loss(prediction,y_train)\n",
    "    \n",
    "    optimizer.zero_grad()\n",
    "    cost.backward()\n",
    "    optimizer.step()\n",
    "    \n",
    "    if epoch % 100 == 0 :\n",
    "        print(f\"Epoch {epoch}/{epochs} Cost : {cost.item()}\")"
   ]
  },
  {
   "cell_type": "code",
   "execution_count": 13,
   "id": "14851fa4",
   "metadata": {},
   "outputs": [
    {
     "name": "stdout",
     "output_type": "stream",
     "text": [
      "학습 후 입력이 4일 때 예측 값 : tensor([[7.9989]], grad_fn=<AddmmBackward0>)\n"
     ]
    }
   ],
   "source": [
    "new_var = torch.FloatTensor([[4.0]])\n",
    "\n",
    "pred_y = model(new_var)\n",
    "\n",
    "print(f\"학습 후 입력이 4일 때 예측 값 : {pred_y}\")"
   ]
  },
  {
   "cell_type": "code",
   "execution_count": 14,
   "id": "a314c1f5",
   "metadata": {},
   "outputs": [
    {
     "name": "stdout",
     "output_type": "stream",
     "text": [
      "[Parameter containing:\n",
      "tensor([[1.9994]], requires_grad=True), Parameter containing:\n",
      "tensor([0.0014], requires_grad=True)]\n"
     ]
    }
   ],
   "source": [
    "print(list(model.parameters()))"
   ]
  },
  {
   "cell_type": "markdown",
   "id": "4332beca",
   "metadata": {},
   "source": [
    "### 다중 선형 회귀 구현"
   ]
  },
  {
   "cell_type": "code",
   "execution_count": 15,
   "id": "4678e9a6",
   "metadata": {},
   "outputs": [],
   "source": [
    "X_train = torch.FloatTensor([[73, 80, 75],\n",
    "                             [93, 88, 93],\n",
    "                             [89, 91, 90],\n",
    "                             [96, 98, 100],\n",
    "                             [73, 66, 70]])\n",
    "y_train = torch.FloatTensor([[152], [185], [180], [196], [142]])"
   ]
  },
  {
   "cell_type": "code",
   "execution_count": 22,
   "id": "c4637db7",
   "metadata": {},
   "outputs": [
    {
     "data": {
      "text/plain": [
       "<torch._C.Generator at 0x7fa7e9a71c30>"
      ]
     },
     "execution_count": 22,
     "metadata": {},
     "output_type": "execute_result"
    }
   ],
   "source": [
    "torch.manual_seed(1)"
   ]
  },
  {
   "cell_type": "code",
   "execution_count": 23,
   "id": "f7e4f9a9",
   "metadata": {},
   "outputs": [],
   "source": [
    "model = nn.Linear(3,1)"
   ]
  },
  {
   "cell_type": "code",
   "execution_count": 24,
   "id": "81c53079",
   "metadata": {},
   "outputs": [
    {
     "name": "stdout",
     "output_type": "stream",
     "text": [
      "[Parameter containing:\n",
      "tensor([[ 0.2975, -0.2548, -0.1119]], requires_grad=True), Parameter containing:\n",
      "tensor([0.2710], requires_grad=True)]\n"
     ]
    }
   ],
   "source": [
    "print(list(model.parameters()))"
   ]
  },
  {
   "cell_type": "markdown",
   "id": "c706963d",
   "metadata": {},
   "source": [
    "- 가중치 : w1(0.2975), w2(-0.2548), w3(-0.1119)\n",
    "- 편향(b) : 0.2710"
   ]
  },
  {
   "cell_type": "code",
   "execution_count": 25,
   "id": "84be18a3",
   "metadata": {},
   "outputs": [],
   "source": [
    "optimizer = torch.optim.SGD(model.parameters(),lr = 1e-5)"
   ]
  },
  {
   "cell_type": "code",
   "execution_count": 26,
   "id": "dbe0ccbd",
   "metadata": {},
   "outputs": [
    {
     "name": "stdout",
     "output_type": "stream",
     "text": [
      "Epoch  100/2000 Cost: 0.226011\n",
      "Epoch  200/2000 Cost: 0.223930\n",
      "Epoch  300/2000 Cost: 0.221953\n",
      "Epoch  400/2000 Cost: 0.220074\n",
      "Epoch  500/2000 Cost: 0.218288\n",
      "Epoch  600/2000 Cost: 0.216593\n",
      "Epoch  700/2000 Cost: 0.214968\n",
      "Epoch  800/2000 Cost: 0.213431\n",
      "Epoch  900/2000 Cost: 0.211972\n",
      "Epoch 1000/2000 Cost: 0.210572\n",
      "Epoch 1100/2000 Cost: 0.209247\n",
      "Epoch 1200/2000 Cost: 0.207987\n",
      "Epoch 1300/2000 Cost: 0.206780\n",
      "Epoch 1400/2000 Cost: 0.205629\n",
      "Epoch 1500/2000 Cost: 0.204536\n",
      "Epoch 1600/2000 Cost: 0.203490\n",
      "Epoch 1700/2000 Cost: 0.202495\n",
      "Epoch 1800/2000 Cost: 0.201550\n",
      "Epoch 1900/2000 Cost: 0.200642\n",
      "Epoch 2000/2000 Cost: 0.199783\n"
     ]
    }
   ],
   "source": [
    "epochs = 2000\n",
    "for epoch in range(1,epochs+1) :\n",
    "    prediction = model(X_train)\n",
    "    \n",
    "    cost = F.mse_loss(prediction,y_train)\n",
    "    \n",
    "    optimizer.zero_grad()\n",
    "    cost.backward()\n",
    "    optimizer.step()\n",
    "    \n",
    "    if epoch % 100 == 0:\n",
    "    # 100번마다 로그 출력\n",
    "      print('Epoch {:4d}/{} Cost: {:.6f}'.format(\n",
    "          epoch, epochs, cost.item()\n",
    "      ))"
   ]
  },
  {
   "cell_type": "code",
   "execution_count": 27,
   "id": "bdd34af4",
   "metadata": {},
   "outputs": [
    {
     "name": "stdout",
     "output_type": "stream",
     "text": [
      "학습 후 new_var의 예측값 : tensor([[151.2305]], grad_fn=<AddmmBackward0>)\n"
     ]
    }
   ],
   "source": [
    "new_var = torch.FloatTensor([[73,80,75]])\n",
    "\n",
    "pred_y = model(new_var)\n",
    "\n",
    "print(f\"학습 후 new_var의 예측값 : {pred_y}\")"
   ]
  },
  {
   "cell_type": "code",
   "execution_count": 28,
   "id": "7b3fa4b7",
   "metadata": {},
   "outputs": [
    {
     "name": "stdout",
     "output_type": "stream",
     "text": [
      "[Parameter containing:\n",
      "tensor([[0.9778, 0.4539, 0.5768]], requires_grad=True), Parameter containing:\n",
      "tensor([0.2802], requires_grad=True)]\n"
     ]
    }
   ],
   "source": [
    "print(list(model.parameters()))"
   ]
  }
 ],
 "metadata": {
  "kernelspec": {
   "display_name": "Python 3 (ipykernel)",
   "language": "python",
   "name": "python3"
  },
  "language_info": {
   "codemirror_mode": {
    "name": "ipython",
    "version": 3
   },
   "file_extension": ".py",
   "mimetype": "text/x-python",
   "name": "python",
   "nbconvert_exporter": "python",
   "pygments_lexer": "ipython3",
   "version": "3.9.7"
  }
 },
 "nbformat": 4,
 "nbformat_minor": 5
}
