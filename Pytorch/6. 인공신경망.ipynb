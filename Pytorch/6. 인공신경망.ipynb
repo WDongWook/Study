{
 "cells": [
  {
   "cell_type": "markdown",
   "id": "f2ba03cf",
   "metadata": {},
   "source": [
    "# 3. XOR 문제 - 단층 퍼셉트론 구현"
   ]
  },
  {
   "cell_type": "markdown",
   "id": "d5dcfc16",
   "metadata": {},
   "source": [
    "## 3.1 파이토치로 단층 퍼셉트론 구현하기"
   ]
  },
  {
   "cell_type": "code",
   "execution_count": 21,
   "id": "cf874d73",
   "metadata": {},
   "outputs": [
    {
     "data": {
      "text/plain": [
       "<torch._C.Generator at 0x7fa830a11f70>"
      ]
     },
     "execution_count": 21,
     "metadata": {},
     "output_type": "execute_result"
    }
   ],
   "source": [
    "import torch\n",
    "import torch.nn as nn\n",
    "import torch.optim as optim\n",
    "torch.manual_seed(777)"
   ]
  },
  {
   "cell_type": "code",
   "execution_count": 8,
   "id": "5cd54a5b",
   "metadata": {},
   "outputs": [
    {
     "name": "stdout",
     "output_type": "stream",
     "text": [
      "Requirement already satisfied: torch in /opt/anaconda3/lib/python3.9/site-packages (1.11.0)\n",
      "Requirement already satisfied: typing-extensions in /opt/anaconda3/lib/python3.9/site-packages (from torch) (3.10.0.2)\n",
      "Note: you may need to restart the kernel to use updated packages.\n"
     ]
    }
   ],
   "source": [
    "pip install torch --upgrade"
   ]
  },
  {
   "cell_type": "code",
   "execution_count": 22,
   "id": "bbcd9d4b",
   "metadata": {},
   "outputs": [],
   "source": [
    "X = torch.FloatTensor([[0, 0], [0, 1], [1, 0], [1, 1]])\n",
    "Y = torch.FloatTensor([[0], [1], [1], [0]])"
   ]
  },
  {
   "cell_type": "code",
   "execution_count": null,
   "id": "1b25f74a",
   "metadata": {},
   "outputs": [],
   "source": [
    "linear = nn.Linear(2,1,bias = True)`\n",
    "\n",
    "sigmoid = nn.Sigmoid()\n",
    "model = nn.Sequential(linear,sigmoid)"
   ]
  },
  {
   "cell_type": "code",
   "execution_count": 15,
   "id": "11290b7a",
   "metadata": {},
   "outputs": [],
   "source": [
    "criterion = torch.nn.BCELoss()\n",
    "optimizer = torch.optim.SGD(model.parameters(),lr = 1)"
   ]
  },
  {
   "cell_type": "code",
   "execution_count": 16,
   "id": "20ac263c",
   "metadata": {
    "scrolled": true
   },
   "outputs": [
    {
     "name": "stdout",
     "output_type": "stream",
     "text": [
      "0 0.7273974418640137\n",
      "100 0.6931476593017578\n",
      "200 0.6931471824645996\n",
      "300 0.6931471824645996\n",
      "400 0.6931471824645996\n",
      "500 0.6931471824645996\n",
      "600 0.6931471824645996\n",
      "700 0.6931471824645996\n",
      "800 0.6931471824645996\n",
      "900 0.6931471824645996\n",
      "1000 0.6931471824645996\n",
      "1100 0.6931471824645996\n",
      "1200 0.6931471824645996\n",
      "1300 0.6931471824645996\n",
      "1400 0.6931471824645996\n",
      "1500 0.6931471824645996\n",
      "1600 0.6931471824645996\n",
      "1700 0.6931471824645996\n",
      "1800 0.6931471824645996\n",
      "1900 0.6931471824645996\n",
      "2000 0.6931471824645996\n",
      "2100 0.6931471824645996\n",
      "2200 0.6931471824645996\n",
      "2300 0.6931471824645996\n",
      "2400 0.6931471824645996\n",
      "2500 0.6931471824645996\n",
      "2600 0.6931471824645996\n",
      "2700 0.6931471824645996\n",
      "2800 0.6931471824645996\n",
      "2900 0.6931471824645996\n",
      "3000 0.6931471824645996\n",
      "3100 0.6931471824645996\n",
      "3200 0.6931471824645996\n",
      "3300 0.6931471824645996\n",
      "3400 0.6931471824645996\n",
      "3500 0.6931471824645996\n",
      "3600 0.6931471824645996\n",
      "3700 0.6931471824645996\n",
      "3800 0.6931471824645996\n",
      "3900 0.6931471824645996\n",
      "4000 0.6931471824645996\n",
      "4100 0.6931471824645996\n",
      "4200 0.6931471824645996\n",
      "4300 0.6931471824645996\n",
      "4400 0.6931471824645996\n",
      "4500 0.6931471824645996\n",
      "4600 0.6931471824645996\n",
      "4700 0.6931471824645996\n",
      "4800 0.6931471824645996\n",
      "4900 0.6931471824645996\n",
      "5000 0.6931471824645996\n",
      "5100 0.6931471824645996\n",
      "5200 0.6931471824645996\n",
      "5300 0.6931471824645996\n",
      "5400 0.6931471824645996\n",
      "5500 0.6931471824645996\n",
      "5600 0.6931471824645996\n",
      "5700 0.6931471824645996\n",
      "5800 0.6931471824645996\n",
      "5900 0.6931471824645996\n",
      "6000 0.6931471824645996\n",
      "6100 0.6931471824645996\n",
      "6200 0.6931471824645996\n",
      "6300 0.6931471824645996\n",
      "6400 0.6931471824645996\n",
      "6500 0.6931471824645996\n",
      "6600 0.6931471824645996\n",
      "6700 0.6931471824645996\n",
      "6800 0.6931471824645996\n",
      "6900 0.6931471824645996\n",
      "7000 0.6931471824645996\n",
      "7100 0.6931471824645996\n",
      "7200 0.6931471824645996\n",
      "7300 0.6931471824645996\n",
      "7400 0.6931471824645996\n",
      "7500 0.6931471824645996\n",
      "7600 0.6931471824645996\n",
      "7700 0.6931471824645996\n",
      "7800 0.6931471824645996\n",
      "7900 0.6931471824645996\n",
      "8000 0.6931471824645996\n",
      "8100 0.6931471824645996\n",
      "8200 0.6931471824645996\n",
      "8300 0.6931471824645996\n",
      "8400 0.6931471824645996\n",
      "8500 0.6931471824645996\n",
      "8600 0.6931471824645996\n",
      "8700 0.6931471824645996\n",
      "8800 0.6931471824645996\n",
      "8900 0.6931471824645996\n",
      "9000 0.6931471824645996\n",
      "9100 0.6931471824645996\n",
      "9200 0.6931471824645996\n",
      "9300 0.6931471824645996\n",
      "9400 0.6931471824645996\n",
      "9500 0.6931471824645996\n",
      "9600 0.6931471824645996\n",
      "9700 0.6931471824645996\n",
      "9800 0.6931471824645996\n",
      "9900 0.6931471824645996\n",
      "10000 0.6931471824645996\n"
     ]
    }
   ],
   "source": [
    "for step in range(10001) :\n",
    "    optimizer.zero_grad()\n",
    "    hypothesis = model(X)\n",
    "    \n",
    "    cost = criterion(hypothesis, Y)\n",
    "    cost.backward()\n",
    "    optimizer.step()\n",
    "    \n",
    "    if step % 100 == 0 :\n",
    "        print(step,cost.item())"
   ]
  },
  {
   "cell_type": "markdown",
   "id": "5f385fa3",
   "metadata": {},
   "source": [
    "# 4.  XOR 문제 - 다층 퍼셉트론 구현하기"
   ]
  },
  {
   "cell_type": "code",
   "execution_count": 23,
   "id": "f027c322",
   "metadata": {},
   "outputs": [],
   "source": [
    "X = torch.FloatTensor([[0, 0], [0, 1], [1, 0], [1, 1]])\n",
    "Y = torch.FloatTensor([[0], [1], [1], [0]])"
   ]
  },
  {
   "cell_type": "code",
   "execution_count": 24,
   "id": "5de8e303",
   "metadata": {},
   "outputs": [],
   "source": [
    "model = nn.Sequential(\n",
    "    ##input = 2 , hidden_layer1 = 10\n",
    "        nn.Linear(2,10,bias=True),\n",
    "        nn.Sigmoid(),\n",
    "    ## hidden_layer1 = 10 , hidden_layer2 = 10\n",
    "        nn.Linear(10,10, bias = True),\n",
    "        nn.Sigmoid(),\n",
    "    ## hidden_layer2 = 10 , hidden_layer3 = 10 \n",
    "        nn.Linear(10,10, bias = True),\n",
    "        nn.Sigmoid(),\n",
    "    ## hidden_layer3 = 10, output = 1\n",
    "        nn.Linear(10,1,bias = True),\n",
    "        nn.Sigmoid())"
   ]
  },
  {
   "cell_type": "code",
   "execution_count": 25,
   "id": "e3bd6955",
   "metadata": {},
   "outputs": [],
   "source": [
    "criterion = nn.BCELoss()\n",
    "optimizer = optim.SGD(model.parameters(),lr = 1)"
   ]
  },
  {
   "cell_type": "code",
   "execution_count": 26,
   "id": "24950f82",
   "metadata": {
    "scrolled": true
   },
   "outputs": [
    {
     "name": "stdout",
     "output_type": "stream",
     "text": [
      "0 0.6948983669281006\n",
      "100 0.693155825138092\n",
      "200 0.6931535601615906\n",
      "300 0.6931513547897339\n",
      "400 0.6931493282318115\n",
      "500 0.6931473016738892\n",
      "600 0.6931453943252563\n",
      "700 0.6931434869766235\n",
      "800 0.6931416988372803\n",
      "900 0.6931397914886475\n",
      "1000 0.6931380033493042\n",
      "1100 0.6931361556053162\n",
      "1200 0.6931343078613281\n",
      "1300 0.6931324005126953\n",
      "1400 0.6931304931640625\n",
      "1500 0.6931284666061401\n",
      "1600 0.6931264400482178\n",
      "1700 0.6931242942810059\n",
      "1800 0.6931220293045044\n",
      "1900 0.6931197047233582\n",
      "2000 0.6931171417236328\n",
      "2100 0.6931145191192627\n",
      "2200 0.6931115984916687\n",
      "2300 0.6931084394454956\n",
      "2400 0.6931051015853882\n",
      "2500 0.6931014657020569\n",
      "2600 0.6930974721908569\n",
      "2700 0.6930930018424988\n",
      "2800 0.6930879950523376\n",
      "2900 0.6930825114250183\n",
      "3000 0.6930763721466064\n",
      "3100 0.6930692791938782\n",
      "3200 0.6930612325668335\n",
      "3300 0.6930519342422485\n",
      "3400 0.6930410861968994\n",
      "3500 0.6930283904075623\n",
      "3600 0.6930132508277893\n",
      "3700 0.6929951310157776\n",
      "3800 0.6929728984832764\n",
      "3900 0.6929453015327454\n",
      "4000 0.6929103136062622\n",
      "4100 0.6928649544715881\n",
      "4200 0.6928046941757202\n",
      "4300 0.692721962928772\n",
      "4400 0.6926040649414062\n",
      "4500 0.6924278736114502\n",
      "4600 0.6921480894088745\n",
      "4700 0.6916664838790894\n",
      "4800 0.6907395720481873\n",
      "4900 0.6886204481124878\n",
      "5000 0.6820822358131409\n",
      "5100 0.6472561955451965\n",
      "5200 0.4495549201965332\n",
      "5300 0.04108955338597298\n",
      "5400 0.009713951498270035\n",
      "5500 0.005029197782278061\n",
      "5600 0.0032945263665169477\n",
      "5700 0.002415546216070652\n",
      "5800 0.001891540945507586\n",
      "5900 0.001546397339552641\n",
      "6000 0.0013030901318416\n",
      "6100 0.0011230668751522899\n",
      "6200 0.0009847823530435562\n",
      "6300 0.0008754964219406247\n",
      "6400 0.0007871013367548585\n",
      "6500 0.000714148220140487\n",
      "6600 0.0006530997343361378\n",
      "6700 0.0006012100493535399\n",
      "6800 0.0005566140171140432\n",
      "6900 0.0005179538857191801\n",
      "7000 0.00048405106645077467\n",
      "7100 0.00045418954687193036\n",
      "7200 0.0004275788669474423\n",
      "7300 0.00040381622966378927\n",
      "7400 0.000382498896215111\n",
      "7500 0.0003631646395660937\n",
      "7600 0.0003456493723206222\n",
      "7700 0.00032968466985039413\n",
      "7800 0.0003150617703795433\n",
      "7900 0.0003015868132933974\n",
      "8000 0.00028925982769578695\n",
      "8100 0.0002777527552098036\n",
      "8200 0.000267184863332659\n",
      "8300 0.00025731761706992984\n",
      "8400 0.0002481211849953979\n",
      "8500 0.00023955087817739695\n",
      "8600 0.00023153208894655108\n",
      "8700 0.0002239903260488063\n",
      "8800 0.0002169255749322474\n",
      "8900 0.00021024837042205036\n",
      "9000 0.0002039736573351547\n",
      "9100 0.00019804175826720893\n",
      "9200 0.00019245268777012825\n",
      "9300 0.00018711703887674958\n",
      "9400 0.00018209438712801784\n",
      "9500 0.0001773251424310729\n",
      "9600 0.00017274964193347842\n",
      "9700 0.00016847225197125226\n",
      "9800 0.00016431411495432258\n",
      "9900 0.00016037956811487675\n",
      "10000 0.00015665366663597524\n"
     ]
    }
   ],
   "source": [
    "for epoch in range(10001):\n",
    "    optimizer.zero_grad()\n",
    "    # forward 연산\n",
    "    hypothesis = model(X)\n",
    "\n",
    "    # 비용 함수\n",
    "    cost = criterion(hypothesis, Y)\n",
    "    cost.backward()\n",
    "    optimizer.step()\n",
    "\n",
    "    # 100의 배수에 해당되는 에포크마다 비용을 출력\n",
    "    if epoch % 100 == 0:\n",
    "        print(epoch, cost.item())"
   ]
  },
  {
   "cell_type": "markdown",
   "id": "b5d77997",
   "metadata": {},
   "source": [
    "# 6. 비선형 활성화 함수(Activation function)"
   ]
  },
  {
   "cell_type": "code",
   "execution_count": 27,
   "id": "3f3ccb7d",
   "metadata": {},
   "outputs": [],
   "source": [
    "import numpy as np\n",
    "import matplotlib.pyplot as plt\n",
    "\n",
    "%matplotlib inline"
   ]
  },
  {
   "cell_type": "markdown",
   "id": "01f32cb8",
   "metadata": {},
   "source": [
    "- 인공신경망의 능력을 높이기 위해서는 은닉층을 계속해서 추가해주어야한다.\n",
    "- 그런데 활성화함수로 선형함수를 사용하게 된다면, 은닉층을 사용할 수 없다.\n",
    "- 선형함수로는 은닉층을 여러 번 추가하더라도 1회 추가한 것과 차이를 줄 수 없다.\n",
    "- 그렇기에 비선형 함수를 사용"
   ]
  },
  {
   "cell_type": "markdown",
   "id": "4392379f",
   "metadata": {},
   "source": [
    "### 렐루 함수(ReLU)"
   ]
  },
  {
   "cell_type": "code",
   "execution_count": 29,
   "id": "01f71216",
   "metadata": {},
   "outputs": [
    {
     "data": {
      "image/png": "[encoded data removed]",
      "text/plain": [
       "<Figure size 432x288 with 1 Axes>"
      ]
     },
     "metadata": {
      "needs_background": "light"
     },
     "output_type": "display_data"
    }
   ],
   "source": [
    "def relu(x):\n",
    "    return np.maximum(0, x)\n",
    "\n",
    "x = np.arange(-5.0, 5.0, 0.1)\n",
    "y = relu(x)\n",
    "\n",
    "plt.plot(x, y)\n",
    "plt.plot([0,0],[5.0,0.0], ':')\n",
    "plt.title('Relu Function')\n",
    "plt.show()"
   ]
  },
  {
   "cell_type": "markdown",
   "id": "287fe4c5",
   "metadata": {},
   "source": [
    "- 렐루 함수는 음수는 0 양수는 입력값 그대로 반환\n",
    "- 렐루의 문제점은 입력값이 음수면 기울기가 0이기 때문에 그 뉴런을 다시 회생할 수 없는데 이러한 문제를 dying ReLU(죽은 렐루)라고 부른다."
   ]
  },
  {
   "cell_type": "markdown",
   "id": "d3f61c7b",
   "metadata": {},
   "source": [
    "### Leaky ReLU"
   ]
  },
  {
   "cell_type": "markdown",
   "id": "a570788a",
   "metadata": {},
   "source": [
    "- 죽은 렐루 보완하기 위해 등장"
   ]
  },
  {
   "cell_type": "code",
   "execution_count": 30,
   "id": "de7b75dd",
   "metadata": {},
   "outputs": [
    {
     "data": {
      "image/png": "[encoded data removed]",
      "text/plain": [
       "<Figure size 432x288 with 1 Axes>"
      ]
     },
     "metadata": {
      "needs_background": "light"
     },
     "output_type": "display_data"
    }
   ],
   "source": [
    "a = 0.1\n",
    "\n",
    "def leaky_relu(x) :\n",
    "    return np.maximum(a*x,x)\n",
    "\n",
    "\n",
    "x = np.arange(-5.0,5.0,0.1)\n",
    "y = leaky_relu(x)\n",
    "\n",
    "plt.plot(x,y)\n",
    "plt.plot([0,0],[5.0,0.0],':')\n",
    "\n",
    "plt.title(\"Leaky Relu Function\")\n",
    "plt.show()"
   ]
  },
  {
   "cell_type": "markdown",
   "id": "9775915d",
   "metadata": {},
   "source": [
    "- 렐루는 은닉층에서 제일 많이 사용"
   ]
  },
  {
   "cell_type": "markdown",
   "id": "76dbf96e",
   "metadata": {},
   "source": [
    "### 비용함수 사용\n",
    "\n",
    "- 이진 분류 : 시그모이드(nn.BCELoss())\n",
    "- 다중 분류 : 소프트맥스(nn.CrossEntropyLoss())\n",
    "- 회귀 : MSE"
   ]
  },
  {
   "cell_type": "markdown",
   "id": "c3144661",
   "metadata": {},
   "source": [
    "### ELu 함수"
   ]
  },
  {
   "cell_type": "markdown",
   "id": "44ca730a",
   "metadata": {},
   "source": [
    "- 지수 함수를 이용하여 입력이 0이하일 경우 부드럽게 깎아준다.\n",
    "- 별도의 알파값을 파라미터로 받는데 일반적으로 1로 설정\n",
    "- 그 밖의 값을 가지는 경우 SeLU(scaled exponential linear unit)\n",
    "- ReLU 장점 모두 포함\n",
    "- Dying ReLU 문제 해결\n",
    "- 출력값 거의 zero-centered\n",
    "- ReLU, Leaky ReLU와 달리 지수함수에 대한 미분값을 계산\n",
    "\n",
    "- ELU와 비슷한 꼴로 CELU가 존재"
   ]
  },
  {
   "cell_type": "markdown",
   "id": "1bd81c65",
   "metadata": {},
   "source": [
    "### PReLU"
   ]
  },
  {
   "cell_type": "markdown",
   "id": "6f593ab8",
   "metadata": {},
   "source": [
    "- Leaky와 비슷하나 a 파라미터를 추가하여 x < 0에서의 기울기를 학습시킬 수 있게 함"
   ]
  },
  {
   "cell_type": "markdown",
   "id": "a7293122",
   "metadata": {},
   "source": [
    "# 7. 다층 퍼셉트론으로 손글씨 분류하기"
   ]
  },
  {
   "cell_type": "code",
   "execution_count": 31,
   "id": "8b8ebf04",
   "metadata": {},
   "outputs": [],
   "source": [
    "from sklearn.datasets import load_digits\n",
    "\n",
    "digits = load_digits()"
   ]
  },
  {
   "cell_type": "code",
   "execution_count": 32,
   "id": "1d41f2d0",
   "metadata": {},
   "outputs": [
    {
     "name": "stdout",
     "output_type": "stream",
     "text": [
      "[[ 0.  0.  5. 13.  9.  1.  0.  0.]\n",
      " [ 0.  0. 13. 15. 10. 15.  5.  0.]\n",
      " [ 0.  3. 15.  2.  0. 11.  8.  0.]\n",
      " [ 0.  4. 12.  0.  0.  8.  8.  0.]\n",
      " [ 0.  5.  8.  0.  0.  9.  8.  0.]\n",
      " [ 0.  4. 11.  0.  1. 12.  7.  0.]\n",
      " [ 0.  2. 14.  5. 10. 12.  0.  0.]\n",
      " [ 0.  0.  6. 13. 10.  0.  0.  0.]]\n"
     ]
    }
   ],
   "source": [
    "print(digits.images[0])"
   ]
  },
  {
   "cell_type": "code",
   "execution_count": 33,
   "id": "31b19810",
   "metadata": {},
   "outputs": [
    {
     "name": "stdout",
     "output_type": "stream",
     "text": [
      "0\n"
     ]
    }
   ],
   "source": [
    "print(digits.target[0])"
   ]
  },
  {
   "cell_type": "code",
   "execution_count": 35,
   "id": "9bfd988a",
   "metadata": {},
   "outputs": [
    {
     "data": {
      "text/plain": [
       "(1797, 8, 8)"
      ]
     },
     "execution_count": 35,
     "metadata": {},
     "output_type": "execute_result"
    }
   ],
   "source": [
    "digits.images.shape"
   ]
  },
  {
   "cell_type": "code",
   "execution_count": 36,
   "id": "7e54af9e",
   "metadata": {},
   "outputs": [
    {
     "data": {
      "image/png": "[encoded data removed]",
      "text/plain": [
       "<Figure size 432x288 with 5 Axes>"
      ]
     },
     "metadata": {
      "needs_background": "light"
     },
     "output_type": "display_data"
    }
   ],
   "source": [
    "images_and_labels = list(zip(digits.images, digits.target))\n",
    "for index, (image, label) in enumerate(images_and_labels[:5]): # 5개의 샘플만 출력\n",
    "    plt.subplot(2, 5, index + 1)\n",
    "    plt.axis('off')\n",
    "    plt.imshow(image, cmap=plt.cm.gray_r, interpolation='nearest')\n",
    "    plt.title('sample: %i' % label)"
   ]
  },
  {
   "cell_type": "code",
   "execution_count": 39,
   "id": "2310fce4",
   "metadata": {},
   "outputs": [
    {
     "name": "stdout",
     "output_type": "stream",
     "text": [
      "0번 인덱스 샘플의 레이블 : 0\n",
      "1번 인덱스 샘플의 레이블 : 1\n",
      "2번 인덱스 샘플의 레이블 : 2\n",
      "3번 인덱스 샘플의 레이블 : 3\n",
      "4번 인덱스 샘플의 레이블 : 4\n"
     ]
    }
   ],
   "source": [
    "for i in range(5) :\n",
    "    print(f'{i}번 인덱스 샘플의 레이블 : {digits.target[i]}')"
   ]
  },
  {
   "cell_type": "code",
   "execution_count": 40,
   "id": "0cd99011",
   "metadata": {},
   "outputs": [],
   "source": [
    "X = digits.data\n",
    "y = digits.target"
   ]
  },
  {
   "cell_type": "markdown",
   "id": "24783de4",
   "metadata": {},
   "source": [
    "### 7-2. 다층 퍼셉트론 분류기 만들기\n"
   ]
  },
  {
   "cell_type": "code",
   "execution_count": 43,
   "id": "5feca066",
   "metadata": {},
   "outputs": [
    {
     "data": {
      "text/plain": [
       "((1797, 64), (1797,))"
      ]
     },
     "execution_count": 43,
     "metadata": {},
     "output_type": "execute_result"
    }
   ],
   "source": [
    "X.shape,y.shape"
   ]
  },
  {
   "cell_type": "code",
   "execution_count": 69,
   "id": "8319c1d9",
   "metadata": {},
   "outputs": [
    {
     "name": "stderr",
     "output_type": "stream",
     "text": [
      "/var/folders/dk/ymk6w43x56sfdv1f59k8tktm0000gn/T/ipykernel_1120/1986308024.py:8: UserWarning: To copy construct from a tensor, it is recommended to use sourceTensor.clone().detach() or sourceTensor.clone().detach().requires_grad_(True), rather than torch.tensor(sourceTensor).\n",
      "  X = torch.tensor(X, dtype = torch.float32)\n",
      "/var/folders/dk/ymk6w43x56sfdv1f59k8tktm0000gn/T/ipykernel_1120/1986308024.py:9: UserWarning: To copy construct from a tensor, it is recommended to use sourceTensor.clone().detach() or sourceTensor.clone().detach().requires_grad_(True), rather than torch.tensor(sourceTensor).\n",
      "  y = torch.tensor(y, dtype = torch.int64)\n"
     ]
    }
   ],
   "source": [
    "model = nn.Sequential(\n",
    "    nn.Linear(64,32),\n",
    "    nn.ReLU(),\n",
    "    nn.Linear(32,16),\n",
    "    nn.ReLU(),\n",
    "    nn.Linear(16,10))\n",
    "\n",
    "X = torch.tensor(X, dtype = torch.float32)\n",
    "y = torch.tensor(y, dtype = torch.int64)\n",
    "\n",
    "loss_fn = nn.CrossEntropyLoss()\n",
    "optimizer = optim.Adam(model.parameters())\n",
    "\n",
    "losses = []"
   ]
  },
  {
   "cell_type": "code",
   "execution_count": 70,
   "id": "7ce55033",
   "metadata": {},
   "outputs": [
    {
     "name": "stdout",
     "output_type": "stream",
     "text": [
      "Epoch   10 / 100 Cost : 2.451986\n",
      "Epoch   20 / 100 Cost : 2.121753\n",
      "Epoch   30 / 100 Cost : 1.852222\n",
      "Epoch   40 / 100 Cost : 1.543306\n",
      "Epoch   50 / 100 Cost : 1.197880\n",
      "Epoch   60 / 100 Cost : 0.868392\n",
      "Epoch   70 / 100 Cost : 0.610263\n",
      "Epoch   80 / 100 Cost : 0.433294\n",
      "Epoch   90 / 100 Cost : 0.322872\n",
      "Epoch  100 / 100 Cost : 0.252908\n"
     ]
    }
   ],
   "source": [
    "for epoch in range(100) :\n",
    "    optimizer.zero_grad()\n",
    "    y_pred = model(X)\n",
    "    \n",
    "    loss = loss_fn(y_pred,y)\n",
    "    loss.backward()\n",
    "    optimizer.step()\n",
    "    \n",
    "    if epoch % 10 == 0 :\n",
    "        print('Epoch {:4d} / {} Cost : {:.6f}'.format(epoch+10,100,loss.item()))\n",
    "        \n",
    "    losses.append(loss.item())"
   ]
  },
  {
   "cell_type": "code",
   "execution_count": 71,
   "id": "5ab59e48",
   "metadata": {},
   "outputs": [
    {
     "data": {
      "text/plain": [
       "[<matplotlib.lines.Line2D at 0x7fa833518c10>]"
      ]
     },
     "execution_count": 71,
     "metadata": {},
     "output_type": "execute_result"
    },
    {
     "data": {
      "image/png": "[encoded data removed]",
      "text/plain": [
       "<Figure size 432x288 with 1 Axes>"
      ]
     },
     "metadata": {
      "needs_background": "light"
     },
     "output_type": "display_data"
    }
   ],
   "source": [
    "plt.plot(losses)"
   ]
  },
  {
   "cell_type": "code",
   "execution_count": null,
   "id": "b283551b",
   "metadata": {},
   "outputs": [],
   "source": []
  },
  {
   "cell_type": "code",
   "execution_count": null,
   "id": "c11e76ea",
   "metadata": {},
   "outputs": [],
   "source": []
  },
  {
   "cell_type": "code",
   "execution_count": null,
   "id": "164d5fbc",
   "metadata": {},
   "outputs": [],
   "source": []
  },
  {
   "cell_type": "code",
   "execution_count": null,
   "id": "ede8917d",
   "metadata": {},
   "outputs": [],
   "source": []
  },
  {
   "cell_type": "code",
   "execution_count": null,
   "id": "9306482d",
   "metadata": {},
   "outputs": [],
   "source": []
  },
  {
   "cell_type": "code",
   "execution_count": null,
   "id": "e4d93669",
   "metadata": {},
   "outputs": [],
   "source": []
  },
  {
   "cell_type": "code",
   "execution_count": null,
   "id": "5f41d93f",
   "metadata": {},
   "outputs": [],
   "source": []
  },
  {
   "cell_type": "code",
   "execution_count": null,
   "id": "d1e86997",
   "metadata": {},
   "outputs": [],
   "source": []
  }
 ],
 "metadata": {
  "kernelspec": {
   "display_name": "Python 3 (ipykernel)",
   "language": "python",
   "name": "python3"
  },
  "language_info": {
   "codemirror_mode": {
    "name": "ipython",
    "version": 3
   },
   "file_extension": ".py",
   "mimetype": "text/x-python",
   "name": "python",
   "nbconvert_exporter": "python",
   "pygments_lexer": "ipython3",
   "version": "3.9.7"
  }
 },
 "nbformat": 4,
 "nbformat_minor": 5
}
