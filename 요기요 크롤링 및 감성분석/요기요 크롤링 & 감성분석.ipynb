{
 "cells": [
  {
   "cell_type": "code",
   "execution_count": 257,
   "metadata": {},
   "outputs": [],
   "source": [
    "import requests\n",
    "from bs4 import BeautifulSoup\n",
    "import time\n",
    "import urllib.request \n",
    "from selenium.webdriver import Chrome\n",
    "import re     \n",
    "from selenium.webdriver.chrome.options import Options\n",
    "from selenium.webdriver.common.keys import Keys\n",
    "from selenium.common.exceptions import NoSuchElementException,StaleElementReferenceException,ElementClickInterceptedException \n",
    "import datetime as dt\n",
    "from urllib.request import urlopen\n",
    "import pandas as pd\n",
    "import numpy as np\n",
    "from imblearn.over_sampling import SMOTE\n",
    "from wordcloud import WordCloud \n",
    "%matplotlib inline \n",
    "from collections import Counter\n",
    "import matplotlib.pyplot as plt\n",
    "plt.rc('font',family = 'Malgun Gothic')\n",
    "plt.rc('axes',unicode_minus = False)\n",
    "\n",
    "delay = 2.0\n",
    "browser = Chrome()\n",
    "\n",
    "start_url = 'https://www.yogiyo.co.kr/mobile/#/'\n",
    "browser.get(start_url)\n",
    "browser.maximize_window()"
   ]
  },
  {
   "cell_type": "code",
   "execution_count": 6,
   "metadata": {},
   "outputs": [],
   "source": [
    "browser.find_element_by_xpath('/html/body/div[7]/div/div[2]/a').click()\n",
    "browser.find_element_by_xpath('/html/body/div[6]/div/div[1]/div[1]/div/div/button').click()\n",
    "browser.find_element_by_xpath('/html/body/div[6]/div/div[1]/div[1]/div/div/div/ul/li[15]/form/div/input').click()"
   ]
  },
  {
   "cell_type": "code",
   "execution_count": 10,
   "metadata": {},
   "outputs": [],
   "source": [
    "browser.find_element_by_xpath('/html/body/div[6]/div/div[1]/div[1]/div/div/div/ul/li[15]/form/div/input').send_keys('열혈분식')"
   ]
  },
  {
   "cell_type": "code",
   "execution_count": 11,
   "metadata": {},
   "outputs": [],
   "source": [
    "browser.find_element_by_xpath('/html/body/div[6]/div/div[1]/div[1]/div/div/div/ul/li[15]/form/div/input').send_keys(Keys.RETURN)"
   ]
  },
  {
   "cell_type": "code",
   "execution_count": 13,
   "metadata": {},
   "outputs": [],
   "source": [
    "browser.find_element_by_css_selector('#content > div > div:nth-child(5) > div > div > div > div').click()"
   ]
  },
  {
   "cell_type": "code",
   "execution_count": 14,
   "metadata": {},
   "outputs": [],
   "source": [
    "browser.find_element_by_xpath('/html/body/div[6]/div[2]/div[1]/ul/li[2]/a').click()"
   ]
  },
  {
   "cell_type": "code",
   "execution_count": 70,
   "metadata": {},
   "outputs": [],
   "source": [
    "menu_list = []\n",
    "content_list = []\n",
    "score_list = []\n",
    "for i in range(2,1393) :\n",
    "    if i >=10 and i % 10 == 2:\n",
    "        browser.find_element_by_xpath('/html/body/div[6]/div[2]/div[1]/div[5]/ul/li[{}]/a/span'.format(i)).click()\n",
    "        time.sleep(1.5)\n",
    "        \n",
    "    score_list.append(round(np.mean(list(map(int,re.findall(\"\\d+\",browser.find_element_by_xpath('/html/body/div[6]/div[2]/div[1]/div[5]/ul/li[{}]/div[2]/div/span[2]'.format(i)).text))))))\n",
    "    time.sleep(1)\n",
    "    \n",
    "    menu_list.append(browser.find_element_by_css_selector('#review > li:nth-child({}) > div.order-items.default.ng-binding'.format(i)).text)\n",
    "    time.sleep(1)\n",
    "    \n",
    "    content_list.append(browser.find_element_by_css_selector('#review > li:nth-child({}) > p'.format(i)).text)\n",
    "    time.sleep(1)"
   ]
  },
  {
   "cell_type": "code",
   "execution_count": 77,
   "metadata": {},
   "outputs": [],
   "source": [
    "yogiyo_df = pd.DataFrame(score_list,columns=['리뷰점수'])"
   ]
  },
  {
   "cell_type": "code",
   "execution_count": 78,
   "metadata": {},
   "outputs": [],
   "source": [
    "yogiyo_df['리뷰'] = content_list\n",
    "yogiyo_df['메뉴'] = menu_list"
   ]
  },
  {
   "cell_type": "code",
   "execution_count": 106,
   "metadata": {},
   "outputs": [],
   "source": [
    "yogiyo_df.insert(0,'label',[1 if score>=4 else 0 for score in yogiyo_df['리뷰점수']])"
   ]
  },
  {
   "cell_type": "code",
   "execution_count": 108,
   "metadata": {},
   "outputs": [],
   "source": [
    "yogiyo_df.to_csv(\"열혈분식.csv\",index=False)"
   ]
  },
  {
   "cell_type": "code",
   "execution_count": 5,
   "metadata": {},
   "outputs": [],
   "source": [
    "yogiyo = pd.read_csv('열혈분식.csv')"
   ]
  },
  {
   "cell_type": "code",
   "execution_count": 6,
   "metadata": {},
   "outputs": [
    {
     "data": {
      "text/plain": [
       "<AxesSubplot:>"
      ]
     },
     "execution_count": 6,
     "metadata": {},
     "output_type": "execute_result"
    },
    {
     "data": {
      "image/png": "[encoded data removed]",
      "text/plain": [
       "<Figure size 432x288 with 1 Axes>"
      ]
     },
     "metadata": {
      "needs_background": "light"
     },
     "output_type": "display_data"
    }
   ],
   "source": [
    "yogiyo['label'].value_counts().plot.bar()"
   ]
  },
  {
   "cell_type": "markdown",
   "metadata": {},
   "source": [
    "- imbalanced data"
   ]
  },
  {
   "cell_type": "code",
   "execution_count": 39,
   "metadata": {},
   "outputs": [],
   "source": [
    "from kiwipiepy import Kiwi, Option"
   ]
  },
  {
   "cell_type": "code",
   "execution_count": 367,
   "metadata": {},
   "outputs": [
    {
     "data": {
      "text/html": [
       "<div>\n",
       "<style scoped>\n",
       "    .dataframe tbody tr th:only-of-type {\n",
       "        vertical-align: middle;\n",
       "    }\n",
       "\n",
       "    .dataframe tbody tr th {\n",
       "        vertical-align: top;\n",
       "    }\n",
       "\n",
       "    .dataframe thead th {\n",
       "        text-align: right;\n",
       "    }\n",
       "</style>\n",
       "<table border=\"1\" class=\"dataframe\">\n",
       "  <thead>\n",
       "    <tr style=\"text-align: right;\">\n",
       "      <th></th>\n",
       "      <th>label</th>\n",
       "      <th>리뷰점수</th>\n",
       "      <th>리뷰</th>\n",
       "      <th>메뉴</th>\n",
       "    </tr>\n",
       "  </thead>\n",
       "  <tbody>\n",
       "    <tr>\n",
       "      <th>0</th>\n",
       "      <td>1</td>\n",
       "      <td>5.0</td>\n",
       "      <td>너무맛있어요 담에도먹을개요</td>\n",
       "      <td>참치김밥/1,고구마튀김（2P）/1,제육덮밥/1</td>\n",
       "    </tr>\n",
       "    <tr>\n",
       "      <th>1</th>\n",
       "      <td>1</td>\n",
       "      <td>5.0</td>\n",
       "      <td>고기짬뽕은언제나맛있습니다</td>\n",
       "      <td>수제고기짬뽕/1,신김치두루치기/1</td>\n",
       "    </tr>\n",
       "    <tr>\n",
       "      <th>2</th>\n",
       "      <td>1</td>\n",
       "      <td>5.0</td>\n",
       "      <td>항상 맛있게 먹어요 근데 오늘은 김밥 밥이 좀 아쉬웠어요</td>\n",
       "      <td>열혈김밥/2,찰보리 쫄볶이/1,제육덮밥/1</td>\n",
       "    </tr>\n",
       "    <tr>\n",
       "      <th>3</th>\n",
       "      <td>1</td>\n",
       "      <td>5.0</td>\n",
       "      <td>너무낫있어요</td>\n",
       "      <td>길어묵（4P）/1,수제치킨까스/1,열혈쫄면/1,캔커피/1</td>\n",
       "    </tr>\n",
       "    <tr>\n",
       "      <th>4</th>\n",
       "      <td>0</td>\n",
       "      <td>2.0</td>\n",
       "      <td>쫄면 별로특히 제육덮밥은 고기냄새나고ㅜ</td>\n",
       "      <td>열혈쫄면/1,제육덮밥/1</td>\n",
       "    </tr>\n",
       "    <tr>\n",
       "      <th>...</th>\n",
       "      <td>...</td>\n",
       "      <td>...</td>\n",
       "      <td>...</td>\n",
       "      <td>...</td>\n",
       "    </tr>\n",
       "    <tr>\n",
       "      <th>1386</th>\n",
       "      <td>0</td>\n",
       "      <td>3.0</td>\n",
       "      <td>맛과 양은 괜찮은데 배달시간이 너무 아쉽네요 분 걸린다고 해서 기다렸는데 분 넘게 ...</td>\n",
       "      <td>열혈김밥/1,대패삼겹 '쌈김밥'/1,김말이（2p）/1,찰보리 라볶이/1</td>\n",
       "    </tr>\n",
       "    <tr>\n",
       "      <th>1387</th>\n",
       "      <td>1</td>\n",
       "      <td>5.0</td>\n",
       "      <td>맛있어요</td>\n",
       "      <td>열혈김밥/1,참치김밥/1,직화 제육덮밥/1</td>\n",
       "    </tr>\n",
       "    <tr>\n",
       "      <th>1388</th>\n",
       "      <td>0</td>\n",
       "      <td>3.0</td>\n",
       "      <td>포장이나 배달등이 좀 잘 됫음 좋을것 같아염</td>\n",
       "      <td>열혈김밥/2,수제고기짬뽕/1</td>\n",
       "    </tr>\n",
       "    <tr>\n",
       "      <th>1389</th>\n",
       "      <td>1</td>\n",
       "      <td>5.0</td>\n",
       "      <td>별 기대없이 시켯는데 괜찬네요</td>\n",
       "      <td>참치김밥/2,열혈쫄면/1,직화 제육덮밥/1</td>\n",
       "    </tr>\n",
       "    <tr>\n",
       "      <th>1390</th>\n",
       "      <td>1</td>\n",
       "      <td>5.0</td>\n",
       "      <td>맛있었고 생각보다 배달이 빨리 왔어요</td>\n",
       "      <td>참치김밥/1,베이컨마늘 '쌈김밥'/1,직화 제육덮밥/1</td>\n",
       "    </tr>\n",
       "  </tbody>\n",
       "</table>\n",
       "<p>1391 rows × 4 columns</p>\n",
       "</div>"
      ],
      "text/plain": [
       "      label  리뷰점수                                                 리뷰  \\\n",
       "0         1   5.0                                     너무맛있어요 담에도먹을개요   \n",
       "1         1   5.0                                      고기짬뽕은언제나맛있습니다   \n",
       "2         1   5.0                    항상 맛있게 먹어요 근데 오늘은 김밥 밥이 좀 아쉬웠어요   \n",
       "3         1   5.0                                             너무낫있어요   \n",
       "4         0   2.0                              쫄면 별로특히 제육덮밥은 고기냄새나고ㅜ   \n",
       "...     ...   ...                                                ...   \n",
       "1386      0   3.0  맛과 양은 괜찮은데 배달시간이 너무 아쉽네요 분 걸린다고 해서 기다렸는데 분 넘게 ...   \n",
       "1387      1   5.0                                               맛있어요   \n",
       "1388      0   3.0                           포장이나 배달등이 좀 잘 됫음 좋을것 같아염   \n",
       "1389      1   5.0                                   별 기대없이 시켯는데 괜찬네요   \n",
       "1390      1   5.0                               맛있었고 생각보다 배달이 빨리 왔어요   \n",
       "\n",
       "                                           메뉴  \n",
       "0                   참치김밥/1,고구마튀김（2P）/1,제육덮밥/1  \n",
       "1                          수제고기짬뽕/1,신김치두루치기/1  \n",
       "2                     열혈김밥/2,찰보리 쫄볶이/1,제육덮밥/1  \n",
       "3             길어묵（4P）/1,수제치킨까스/1,열혈쫄면/1,캔커피/1  \n",
       "4                               열혈쫄면/1,제육덮밥/1  \n",
       "...                                       ...  \n",
       "1386  열혈김밥/1,대패삼겹 '쌈김밥'/1,김말이（2p）/1,찰보리 라볶이/1  \n",
       "1387                  열혈김밥/1,참치김밥/1,직화 제육덮밥/1  \n",
       "1388                          열혈김밥/2,수제고기짬뽕/1  \n",
       "1389                  참치김밥/2,열혈쫄면/1,직화 제육덮밥/1  \n",
       "1390           참치김밥/1,베이컨마늘 '쌈김밥'/1,직화 제육덮밥/1  \n",
       "\n",
       "[1391 rows x 4 columns]"
      ]
     },
     "execution_count": 367,
     "metadata": {},
     "output_type": "execute_result"
    }
   ],
   "source": [
    "yogiyo"
   ]
  },
  {
   "cell_type": "code",
   "execution_count": 17,
   "metadata": {},
   "outputs": [
    {
     "name": "stderr",
     "output_type": "stream",
     "text": [
      "C:\\Users\\qhadk\\AppData\\Local\\Continuum\\anaconda3\\lib\\site-packages\\ipykernel_launcher.py:1: FutureWarning: The default value of regex will change from True to False in a future version.\n",
      "  \"\"\"Entry point for launching an IPython kernel.\n"
     ]
    }
   ],
   "source": [
    "yogiyo['리뷰'] = yogiyo['리뷰'].str.replace(\"[^ㄱ-ㅎㅏ-ㅣ가-힣 ]\",\"\")"
   ]
  },
  {
   "cell_type": "code",
   "execution_count": 37,
   "metadata": {},
   "outputs": [],
   "source": [
    "stopwords = pd.read_csv('한국어불용어.csv')"
   ]
  },
  {
   "cell_type": "code",
   "execution_count": 40,
   "metadata": {},
   "outputs": [
    {
     "data": {
      "text/plain": [
       "0"
      ]
     },
     "execution_count": 40,
     "metadata": {},
     "output_type": "execute_result"
    }
   ],
   "source": [
    "kiwi = Kiwi()\n",
    "kiwi.prepare()"
   ]
  },
  {
   "cell_type": "code",
   "execution_count": 50,
   "metadata": {},
   "outputs": [],
   "source": [
    "result = kiwi.analyze(yogiyo['리뷰'][0])"
   ]
  },
  {
   "cell_type": "code",
   "execution_count": 98,
   "metadata": {},
   "outputs": [],
   "source": [
    "def extract_keywords(text):\n",
    "    result = kiwi.analyze(text)\n",
    "    for token, pos, _, _ in result[0][0]:\n",
    "        if pos[0] in 'NV':\n",
    "            yield f'{token}'"
   ]
  },
  {
   "cell_type": "code",
   "execution_count": 61,
   "metadata": {},
   "outputs": [],
   "source": [
    "positive_df = yogiyo.loc[yogiyo['label']==1].reset_index(drop = True)\n",
    "negative_df = yogiyo.loc[yogiyo['label']==0].reset_index(drop = True)"
   ]
  },
  {
   "cell_type": "code",
   "execution_count": null,
   "metadata": {},
   "outputs": [],
   "source": [
    "positive_df = positive_df.loc[(positive_df['리뷰']!= ' ')& (positive_df['리뷰']  != '')& (positive_df['리뷰']  != '  ')].reset_index(drop = True)"
   ]
  },
  {
   "cell_type": "code",
   "execution_count": null,
   "metadata": {},
   "outputs": [],
   "source": [
    "kiwi_list = [list(extract_keywords(positive_df['리뷰'][i])) for i in range(len(positive_df))]"
   ]
  },
  {
   "cell_type": "code",
   "execution_count": 186,
   "metadata": {},
   "outputs": [],
   "source": [
    "positive_df['토큰'] = kiwi_list"
   ]
  },
  {
   "cell_type": "code",
   "execution_count": 243,
   "metadata": {},
   "outputs": [],
   "source": [
    "positive_df['토큰'] = positive_df['토큰'].apply(lambda x : [item for item in x if item not in stopwords['불용어'].tolist()])"
   ]
  },
  {
   "cell_type": "code",
   "execution_count": 256,
   "metadata": {},
   "outputs": [],
   "source": [
    "positive_words = []\n",
    "for i in range(len(positive_df)) :\n",
    "    for value in positive_df['토큰'][i] :\n",
    "        positive_words.append(value)"
   ]
  },
  {
   "cell_type": "code",
   "execution_count": 260,
   "metadata": {},
   "outputs": [],
   "source": [
    "positive_word_count = Counter(positive_words)"
   ]
  },
  {
   "cell_type": "code",
   "execution_count": 486,
   "metadata": {},
   "outputs": [
    {
     "name": "stdout",
     "output_type": "stream",
     "text": [
      "[('맛있', 831), ('먹', 604), ('맛', 252), ('배달', 226), ('김밥', 192), ('양', 139), ('빠르', 135), ('쫄면', 95), ('주문', 95), ('떡볶이', 86), ('거', 85), ('돈까스', 60), ('김치', 59), ('튀김', 53), ('밥', 52), ('제육', 50), ('굿', 50), ('괜찮', 49), ('분식', 47), ('맛나', 43)]\n"
     ]
    }
   ],
   "source": [
    "print(positive_word_count.most_common(20))"
   ]
  },
  {
   "cell_type": "code",
   "execution_count": 502,
   "metadata": {},
   "outputs": [],
   "source": [
    "positive_df = pd.DataFrame(positive_word_count.most_common())\n",
    "positive_df.columns = ['형태소','빈도수']\n",
    "positive_dict = positive_df.set_index(\"형태소\").to_dict()\n",
    "positive_df = positive_df.sort_values(by='빈도수',ascending = False)\n",
    "positive_dict = positive_df.set_index('형태소')['빈도수'].to_dict()"
   ]
  },
  {
   "cell_type": "code",
   "execution_count": 524,
   "metadata": {},
   "outputs": [],
   "source": [
    "positive_df.to_csv(\"긍정.csv\",index = False)"
   ]
  },
  {
   "cell_type": "code",
   "execution_count": 517,
   "metadata": {},
   "outputs": [],
   "source": [
    "from wordcloud import WordCloud\n",
    "\n",
    "wc = WordCloud(\n",
    "    font_path = 'Malgun Gothic',    \n",
    "    background_color='white',                             \n",
    "    colormap = 'Spectral',                                \n",
    "    width = 400,\n",
    "    height = 300\n",
    ")"
   ]
  },
  {
   "cell_type": "code",
   "execution_count": null,
   "metadata": {},
   "outputs": [],
   "source": [
    "negative_df = negative_df.loc[(negative_df['리뷰']!= ' ')& (negative_df['리뷰']  != '')& (negative_df['리뷰']  != '  ')].reset_index(drop = True)"
   ]
  },
  {
   "cell_type": "code",
   "execution_count": null,
   "metadata": {},
   "outputs": [],
   "source": [
    "nkiwi_list = [list(extract_keywords(negative_df['리뷰'][i])) for i in range(len(negative_df))]"
   ]
  },
  {
   "cell_type": "code",
   "execution_count": 187,
   "metadata": {},
   "outputs": [],
   "source": [
    "negative_df['토큰'] = nkiwi_list"
   ]
  },
  {
   "cell_type": "code",
   "execution_count": 244,
   "metadata": {},
   "outputs": [],
   "source": [
    "negative_df['토큰'] = negative_df['토큰'].apply(lambda x : [item for item in x if item not in stopwords['불용어'].tolist()])"
   ]
  },
  {
   "cell_type": "code",
   "execution_count": 255,
   "metadata": {},
   "outputs": [],
   "source": [
    "negative_words = []\n",
    "for i in range(len(negative_df)) :\n",
    "    for value in negative_df['토큰'][i] :\n",
    "        negative_words.append(value)"
   ]
  },
  {
   "cell_type": "code",
   "execution_count": 259,
   "metadata": {},
   "outputs": [],
   "source": [
    "negative_word_count = Counter(negative_words)"
   ]
  },
  {
   "cell_type": "code",
   "execution_count": 519,
   "metadata": {},
   "outputs": [],
   "source": [
    "negative_data = pd.DataFrame(negative_word_count.most_common())\n",
    "negative_data.columns = ['형태소','빈도수']\n",
    "negative_data = negative_data.sort_values(by='빈도수',ascending = False)\n",
    "negative_dict = negative_data.set_index('형태소')['빈도수'].to_dict()"
   ]
  },
  {
   "cell_type": "code",
   "execution_count": 522,
   "metadata": {},
   "outputs": [],
   "source": [
    "negative_data.to_csv(\"부정.csv\",index = False)"
   ]
  },
  {
   "cell_type": "code",
   "execution_count": 264,
   "metadata": {},
   "outputs": [],
   "source": [
    "from sklearn.feature_extraction.text import CountVectorizer"
   ]
  },
  {
   "cell_type": "code",
   "execution_count": 265,
   "metadata": {},
   "outputs": [],
   "source": [
    "vector = CountVectorizer(max_features=2000)"
   ]
  },
  {
   "cell_type": "code",
   "execution_count": 271,
   "metadata": {},
   "outputs": [],
   "source": [
    "total_df = pd.concat([positive_df,negative_df],axis = 0).reset_index(drop = True)"
   ]
  },
  {
   "cell_type": "code",
   "execution_count": 282,
   "metadata": {},
   "outputs": [],
   "source": [
    "total_df['corpus'] = [' ' .join(total_df['토큰'][i]) for i in range(len(total_df))]"
   ]
  },
  {
   "cell_type": "code",
   "execution_count": 470,
   "metadata": {},
   "outputs": [],
   "source": [
    "tdm = vector.fit_transform(total_df['corpus']).toarray()"
   ]
  },
  {
   "cell_type": "code",
   "execution_count": 297,
   "metadata": {},
   "outputs": [],
   "source": [
    "from sklearn.model_selection import train_test_split"
   ]
  },
  {
   "cell_type": "code",
   "execution_count": 317,
   "metadata": {},
   "outputs": [],
   "source": [
    "train = pd.DataFrame(tdm)\n",
    "y = total_df[['label']]"
   ]
  },
  {
   "cell_type": "code",
   "execution_count": 318,
   "metadata": {},
   "outputs": [],
   "source": [
    "smote = SMOTE(random_state=42)\n",
    "train_over, y_over = smote.fit_sample(train,y)"
   ]
  },
  {
   "cell_type": "code",
   "execution_count": 320,
   "metadata": {},
   "outputs": [
    {
     "data": {
      "text/plain": [
       "(2556, 1135)"
      ]
     },
     "execution_count": 320,
     "metadata": {},
     "output_type": "execute_result"
    }
   ],
   "source": [
    "train_over.shape"
   ]
  },
  {
   "cell_type": "code",
   "execution_count": 327,
   "metadata": {},
   "outputs": [
    {
     "data": {
      "text/plain": [
       "<AxesSubplot:xlabel='label'>"
      ]
     },
     "execution_count": 327,
     "metadata": {},
     "output_type": "execute_result"
    },
    {
     "data": {
      "image/png": "[encoded data removed]",
      "text/plain": [
       "<Figure size 432x288 with 1 Axes>"
      ]
     },
     "metadata": {
      "needs_background": "light"
     },
     "output_type": "display_data"
    }
   ],
   "source": [
    "pd.DataFrame(y).value_counts().plot.bar()"
   ]
  },
  {
   "cell_type": "code",
   "execution_count": 328,
   "metadata": {},
   "outputs": [
    {
     "data": {
      "text/plain": [
       "<AxesSubplot:xlabel='label'>"
      ]
     },
     "execution_count": 328,
     "metadata": {},
     "output_type": "execute_result"
    },
    {
     "data": {
      "image/png": "[encoded data removed]",
      "text/plain": [
       "<Figure size 432x288 with 1 Axes>"
      ]
     },
     "metadata": {
      "needs_background": "light"
     },
     "output_type": "display_data"
    }
   ],
   "source": [
    "pd.DataFrame(y_over).value_counts().plot.bar()"
   ]
  },
  {
   "cell_type": "code",
   "execution_count": 333,
   "metadata": {},
   "outputs": [],
   "source": [
    "total_over = pd.concat([train_over,y_over],axis = 1)"
   ]
  },
  {
   "cell_type": "code",
   "execution_count": 336,
   "metadata": {},
   "outputs": [],
   "source": [
    "X_train,X_test,y_train,y_test = train_test_split(total_over.iloc[:,:-1],total_over[['label']],test_size = 0.3,random_state = 42)"
   ]
  },
  {
   "cell_type": "code",
   "execution_count": 338,
   "metadata": {},
   "outputs": [
    {
     "name": "stdout",
     "output_type": "stream",
     "text": [
      "(1789, 1135)\n",
      "(767, 1135)\n"
     ]
    }
   ],
   "source": [
    "print(X_train.shape)\n",
    "print(X_test.shape)"
   ]
  },
  {
   "cell_type": "code",
   "execution_count": 339,
   "metadata": {},
   "outputs": [],
   "source": [
    "import tensorflow as tf"
   ]
  },
  {
   "cell_type": "code",
   "execution_count": 343,
   "metadata": {},
   "outputs": [],
   "source": [
    "from tensorflow.keras.layers import Embedding, Dense, GRU\n",
    "from tensorflow.keras.models import Sequential\n",
    "from tensorflow.keras.models import load_model\n",
    "from tensorflow.keras.callbacks import EarlyStopping, ModelCheckpoint"
   ]
  },
  {
   "cell_type": "code",
   "execution_count": 340,
   "metadata": {},
   "outputs": [],
   "source": [
    "model = tf.keras.models.Sequential()\n",
    "model.add(\n",
    "    tf.keras.layers.Dense(\n",
    "        1, \n",
    "        input_shape=(1135,), \n",
    "        activation='sigmoid',\n",
    "        kernel_regularizer=tf.keras.regularizers.l2(0.00001)))\n",
    "model.compile(optimizer='adam', loss='binary_crossentropy', metrics=['accuracy'])"
   ]
  },
  {
   "cell_type": "code",
   "execution_count": 344,
   "metadata": {
    "scrolled": true
   },
   "outputs": [
    {
     "name": "stdout",
     "output_type": "stream",
     "text": [
      "Epoch 1/300\n",
      "17/17 [==============================] - 0s 3ms/step - loss: 0.3279 - accuracy: 0.8789 - val_loss: 0.3899 - val_accuracy: 0.8436\n",
      "Epoch 2/300\n",
      "17/17 [==============================] - 0s 2ms/step - loss: 0.3275 - accuracy: 0.8783 - val_loss: 0.3896 - val_accuracy: 0.8492\n",
      "Epoch 3/300\n",
      "17/17 [==============================] - 0s 2ms/step - loss: 0.3271 - accuracy: 0.8783 - val_loss: 0.3895 - val_accuracy: 0.8492\n",
      "Epoch 4/300\n",
      "17/17 [==============================] - 0s 2ms/step - loss: 0.3267 - accuracy: 0.8783 - val_loss: 0.3893 - val_accuracy: 0.8492\n",
      "Epoch 5/300\n",
      "17/17 [==============================] - 0s 2ms/step - loss: 0.3264 - accuracy: 0.8783 - val_loss: 0.3890 - val_accuracy: 0.8492\n",
      "Epoch 6/300\n",
      "17/17 [==============================] - 0s 2ms/step - loss: 0.3259 - accuracy: 0.8783 - val_loss: 0.3888 - val_accuracy: 0.8492\n",
      "Epoch 7/300\n",
      "17/17 [==============================] - 0s 2ms/step - loss: 0.3256 - accuracy: 0.8783 - val_loss: 0.3885 - val_accuracy: 0.8492\n",
      "Epoch 8/300\n",
      "17/17 [==============================] - 0s 2ms/step - loss: 0.3252 - accuracy: 0.8783 - val_loss: 0.3883 - val_accuracy: 0.8492\n",
      "Epoch 9/300\n",
      "17/17 [==============================] - 0s 2ms/step - loss: 0.3248 - accuracy: 0.8783 - val_loss: 0.3881 - val_accuracy: 0.8492\n",
      "Epoch 10/300\n",
      "17/17 [==============================] - 0s 2ms/step - loss: 0.3244 - accuracy: 0.8783 - val_loss: 0.3879 - val_accuracy: 0.8492\n",
      "Epoch 11/300\n",
      "17/17 [==============================] - 0s 2ms/step - loss: 0.3240 - accuracy: 0.8783 - val_loss: 0.3878 - val_accuracy: 0.8492\n",
      "Epoch 12/300\n",
      "17/17 [==============================] - 0s 2ms/step - loss: 0.3237 - accuracy: 0.8789 - val_loss: 0.3877 - val_accuracy: 0.8492\n",
      "Epoch 13/300\n",
      "17/17 [==============================] - 0s 2ms/step - loss: 0.3233 - accuracy: 0.8789 - val_loss: 0.3876 - val_accuracy: 0.8492\n",
      "Epoch 14/300\n",
      "17/17 [==============================] - 0s 2ms/step - loss: 0.3229 - accuracy: 0.8801 - val_loss: 0.3874 - val_accuracy: 0.8492\n",
      "Epoch 15/300\n",
      "17/17 [==============================] - 0s 2ms/step - loss: 0.3226 - accuracy: 0.8801 - val_loss: 0.3873 - val_accuracy: 0.8492\n",
      "Epoch 16/300\n",
      "17/17 [==============================] - 0s 2ms/step - loss: 0.3222 - accuracy: 0.8801 - val_loss: 0.3872 - val_accuracy: 0.8492\n",
      "Epoch 17/300\n",
      "17/17 [==============================] - 0s 2ms/step - loss: 0.3219 - accuracy: 0.8801 - val_loss: 0.3871 - val_accuracy: 0.8492\n",
      "Epoch 18/300\n",
      "17/17 [==============================] - 0s 2ms/step - loss: 0.3215 - accuracy: 0.8807 - val_loss: 0.3869 - val_accuracy: 0.8492\n",
      "Epoch 19/300\n",
      "17/17 [==============================] - 0s 2ms/step - loss: 0.3212 - accuracy: 0.8807 - val_loss: 0.3869 - val_accuracy: 0.8492\n",
      "Epoch 20/300\n",
      "17/17 [==============================] - 0s 2ms/step - loss: 0.3208 - accuracy: 0.8807 - val_loss: 0.3867 - val_accuracy: 0.8492\n",
      "Epoch 21/300\n",
      "17/17 [==============================] - 0s 2ms/step - loss: 0.3205 - accuracy: 0.8807 - val_loss: 0.3865 - val_accuracy: 0.8492\n",
      "Epoch 22/300\n",
      "17/17 [==============================] - 0s 2ms/step - loss: 0.3201 - accuracy: 0.8807 - val_loss: 0.3864 - val_accuracy: 0.8492\n",
      "Epoch 23/300\n",
      "17/17 [==============================] - 0s 2ms/step - loss: 0.3198 - accuracy: 0.8807 - val_loss: 0.3864 - val_accuracy: 0.8492\n",
      "Epoch 24/300\n",
      "17/17 [==============================] - 0s 2ms/step - loss: 0.3194 - accuracy: 0.8807 - val_loss: 0.3863 - val_accuracy: 0.8436\n",
      "Epoch 25/300\n",
      "17/17 [==============================] - 0s 2ms/step - loss: 0.3191 - accuracy: 0.8807 - val_loss: 0.3859 - val_accuracy: 0.8547\n",
      "Epoch 26/300\n",
      "17/17 [==============================] - 0s 2ms/step - loss: 0.3187 - accuracy: 0.8807 - val_loss: 0.3857 - val_accuracy: 0.8547\n",
      "Epoch 27/300\n",
      "17/17 [==============================] - 0s 2ms/step - loss: 0.3184 - accuracy: 0.8807 - val_loss: 0.3856 - val_accuracy: 0.8547\n",
      "Epoch 28/300\n",
      "17/17 [==============================] - 0s 2ms/step - loss: 0.3180 - accuracy: 0.8807 - val_loss: 0.3853 - val_accuracy: 0.8547\n",
      "Epoch 29/300\n",
      "17/17 [==============================] - 0s 2ms/step - loss: 0.3177 - accuracy: 0.8807 - val_loss: 0.3851 - val_accuracy: 0.8547\n",
      "Epoch 30/300\n",
      "17/17 [==============================] - 0s 2ms/step - loss: 0.3174 - accuracy: 0.8807 - val_loss: 0.3849 - val_accuracy: 0.8492\n",
      "Epoch 31/300\n",
      "17/17 [==============================] - 0s 2ms/step - loss: 0.3170 - accuracy: 0.8807 - val_loss: 0.3849 - val_accuracy: 0.8492\n",
      "Epoch 32/300\n",
      "17/17 [==============================] - 0s 2ms/step - loss: 0.3167 - accuracy: 0.8807 - val_loss: 0.3847 - val_accuracy: 0.8492\n",
      "Epoch 33/300\n",
      "17/17 [==============================] - 0s 2ms/step - loss: 0.3164 - accuracy: 0.8807 - val_loss: 0.3844 - val_accuracy: 0.8492\n",
      "Epoch 34/300\n",
      "17/17 [==============================] - 0s 2ms/step - loss: 0.3161 - accuracy: 0.8807 - val_loss: 0.3843 - val_accuracy: 0.8436\n",
      "Epoch 35/300\n",
      "17/17 [==============================] - 0s 2ms/step - loss: 0.3157 - accuracy: 0.8807 - val_loss: 0.3841 - val_accuracy: 0.8436\n",
      "Epoch 36/300\n",
      "17/17 [==============================] - 0s 2ms/step - loss: 0.3154 - accuracy: 0.8807 - val_loss: 0.3841 - val_accuracy: 0.8492\n",
      "Epoch 37/300\n",
      "17/17 [==============================] - ETA: 0s - loss: 0.3383 - accuracy: 0.86 - 0s 2ms/step - loss: 0.3151 - accuracy: 0.8807 - val_loss: 0.3839 - val_accuracy: 0.8492\n",
      "Epoch 38/300\n",
      "17/17 [==============================] - 0s 2ms/step - loss: 0.3148 - accuracy: 0.8807 - val_loss: 0.3836 - val_accuracy: 0.8436\n",
      "Epoch 39/300\n",
      "17/17 [==============================] - 0s 2ms/step - loss: 0.3144 - accuracy: 0.8807 - val_loss: 0.3834 - val_accuracy: 0.8436\n",
      "Epoch 40/300\n",
      "17/17 [==============================] - 0s 2ms/step - loss: 0.3141 - accuracy: 0.8807 - val_loss: 0.3837 - val_accuracy: 0.8436\n"
     ]
    }
   ],
   "source": [
    "history = model.fit(X_train, y_train.values, epochs=300, batch_size=100, validation_split=0.1,\n",
    "          callbacks=[tf.keras.callbacks.EarlyStopping()])"
   ]
  },
  {
   "cell_type": "code",
   "execution_count": null,
   "metadata": {},
   "outputs": [],
   "source": [
    "def extract_keywords(text):\n",
    "    result = kiwi.analyze(text)\n",
    "    for token, pos, _, _ in result[0][0]:\n",
    "        if pos[0] in 'NV':\n",
    "            yield f'{token}'"
   ]
  },
  {
   "cell_type": "code",
   "execution_count": 480,
   "metadata": {},
   "outputs": [],
   "source": [
    "def review_auto() :\n",
    "    \n",
    "    new_review = (input('리뷰를 남겨주세요: '))\n",
    "    new_sentence = list(extract_keywords(new_review))\n",
    "    new_sentence = [word for word in new_sentence if not word in stopwords['불용어'].tolist()]\n",
    "    new_sentence = ' '.join(new_sentence)\n",
    "        \n",
    "    vector = CountVectorizer(max_features=1135)\n",
    "    tdm = vector.fit_transform(total_df['corpus']).toarray()\n",
    "    array_value = vector.transform([new_sentence]).toarray()\n",
    "    x = model.predict(array_value)\n",
    "    print(x[0][0])\n",
    "    \n",
    "    if x>0.7:\n",
    "        \n",
    "        print('안녕하세요. 배달의 민주입니다. 맛있게 드셨다니 정말 다행입니다:) 다음에도 꼭 주문해주세요! ')            \n",
    "    else:\n",
    "        print('고객님 안녕하세요, 불편을 끼쳐드려 진심으로 죄송합니다. 앞으로 더욱 노력하는 배달의 민주 되겠습니다.')  \n",
    "    "
   ]
  },
  {
   "cell_type": "code",
   "execution_count": 481,
   "metadata": {},
   "outputs": [
    {
     "name": "stdout",
     "output_type": "stream",
     "text": [
      "리뷰를 남겨주세요: 김밥이 맛있고 사장님이 친절해요\n",
      "0.92384684\n",
      "안녕하세요. 배달의 민주입니다. 맛있게 드셨다니 정말 다행입니다:) 다음에도 꼭 주문해주세요! \n"
     ]
    }
   ],
   "source": [
    "review_auto()"
   ]
  },
  {
   "cell_type": "code",
   "execution_count": 482,
   "metadata": {},
   "outputs": [
    {
     "name": "stdout",
     "output_type": "stream",
     "text": [
      "리뷰를 남겨주세요: 맛이 별로에요 쫄면이 다 불어서 왔어요\n",
      "0.25309855\n",
      "고객님 안녕하세요, 불편을 끼쳐드려 진심으로 죄송합니다. 앞으로 더욱 노력하는 배달의 민주 되겠습니다.\n"
     ]
    }
   ],
   "source": [
    "review_auto()"
   ]
  }
 ],
 "metadata": {
  "kernelspec": {
   "display_name": "Python 3",
   "language": "python",
   "name": "python3"
  },
  "language_info": {
   "codemirror_mode": {
    "name": "ipython",
    "version": 3
   },
   "file_extension": ".py",
   "mimetype": "text/x-python",
   "name": "python",
   "nbconvert_exporter": "python",
   "pygments_lexer": "ipython3",
   "version": "3.7.7"
  }
 },
 "nbformat": 4,
 "nbformat_minor": 4
}
