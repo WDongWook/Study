{
 "cells": [
  {
   "cell_type": "markdown",
   "metadata": {},
   "source": [
    "# 1. 라이브러리 불러오기"
   ]
  },
  {
   "cell_type": "code",
   "execution_count": 1,
   "metadata": {},
   "outputs": [
    {
     "name": "stderr",
     "output_type": "stream",
     "text": [
      "C:\\Users\\qhadk\\AppData\\Local\\Continuum\\anaconda3\\lib\\importlib\\_bootstrap.py:219: RuntimeWarning: numpy.ufunc size changed, may indicate binary incompatibility. Expected 192 from C header, got 216 from PyObject\n",
      "  return f(*args, **kwds)\n"
     ]
    }
   ],
   "source": [
    "import pandas as pd\n",
    "import numpy as np\n",
    "import matplotlib.pyplot as plt\n",
    "import urllib.request\n",
    "from collections import Counter\n",
    "from konlpy.tag import Okt\n",
    "from kiwipiepy import Kiwi\n",
    "from sklearn.model_selection import train_test_split\n",
    "from tensorflow.keras.preprocessing.text import Tokenizer\n",
    "from tensorflow.keras.preprocessing.sequence import pad_sequences"
   ]
  },
  {
   "cell_type": "markdown",
   "metadata": {},
   "source": [
    "# 2. 네이버 쇼핑 리뷰 데이터에 대한 이해와 전처리"
   ]
  },
  {
   "cell_type": "markdown",
   "metadata": {},
   "source": [
    "## 1) 데이터 로드하기"
   ]
  },
  {
   "cell_type": "code",
   "execution_count": 2,
   "metadata": {},
   "outputs": [
    {
     "data": {
      "text/plain": [
       "('ratings_total.txt', <http.client.HTTPMessage at 0x23f1e9c8888>)"
      ]
     },
     "execution_count": 2,
     "metadata": {},
     "output_type": "execute_result"
    }
   ],
   "source": [
    "urllib.request.urlretrieve(\"https://raw.githubusercontent.com/bab2min/corpus/master/sentiment/naver_shopping.txt\", filename=\"ratings_total.txt\")"
   ]
  },
  {
   "cell_type": "code",
   "execution_count": 3,
   "metadata": {},
   "outputs": [
    {
     "name": "stdout",
     "output_type": "stream",
     "text": [
      "전체 리뷰 개수 : 200000\n"
     ]
    }
   ],
   "source": [
    "total_data = pd.read_table('ratings_total.txt', names=['ratings', 'reviews'])\n",
    "print('전체 리뷰 개수 :',len(total_data)) # 전체 리뷰 개수 출력"
   ]
  },
  {
   "cell_type": "code",
   "execution_count": 5,
   "metadata": {},
   "outputs": [
    {
     "data": {
      "text/html": [
       "<div>\n",
       "<style scoped>\n",
       "    .dataframe tbody tr th:only-of-type {\n",
       "        vertical-align: middle;\n",
       "    }\n",
       "\n",
       "    .dataframe tbody tr th {\n",
       "        vertical-align: top;\n",
       "    }\n",
       "\n",
       "    .dataframe thead th {\n",
       "        text-align: right;\n",
       "    }\n",
       "</style>\n",
       "<table border=\"1\" class=\"dataframe\">\n",
       "  <thead>\n",
       "    <tr style=\"text-align: right;\">\n",
       "      <th></th>\n",
       "      <th>ratings</th>\n",
       "      <th>reviews</th>\n",
       "    </tr>\n",
       "  </thead>\n",
       "  <tbody>\n",
       "    <tr>\n",
       "      <th>0</th>\n",
       "      <td>5</td>\n",
       "      <td>배공빠르고 굿</td>\n",
       "    </tr>\n",
       "    <tr>\n",
       "      <th>1</th>\n",
       "      <td>2</td>\n",
       "      <td>택배가 엉망이네용 저희집 밑에층에 말도없이 놔두고가고</td>\n",
       "    </tr>\n",
       "    <tr>\n",
       "      <th>2</th>\n",
       "      <td>5</td>\n",
       "      <td>아주좋아요 바지 정말 좋아서2개 더 구매했어요 이가격에 대박입니다. 바느질이 조금 ...</td>\n",
       "    </tr>\n",
       "    <tr>\n",
       "      <th>3</th>\n",
       "      <td>2</td>\n",
       "      <td>선물용으로 빨리 받아서 전달했어야 하는 상품이었는데 머그컵만 와서 당황했습니다. 전...</td>\n",
       "    </tr>\n",
       "    <tr>\n",
       "      <th>4</th>\n",
       "      <td>5</td>\n",
       "      <td>민트색상 예뻐요. 옆 손잡이는 거는 용도로도 사용되네요 ㅎㅎ</td>\n",
       "    </tr>\n",
       "  </tbody>\n",
       "</table>\n",
       "</div>"
      ],
      "text/plain": [
       "   ratings                                            reviews\n",
       "0        5                                            배공빠르고 굿\n",
       "1        2                      택배가 엉망이네용 저희집 밑에층에 말도없이 놔두고가고\n",
       "2        5  아주좋아요 바지 정말 좋아서2개 더 구매했어요 이가격에 대박입니다. 바느질이 조금 ...\n",
       "3        2  선물용으로 빨리 받아서 전달했어야 하는 상품이었는데 머그컵만 와서 당황했습니다. 전...\n",
       "4        5                  민트색상 예뻐요. 옆 손잡이는 거는 용도로도 사용되네요 ㅎㅎ"
      ]
     },
     "execution_count": 5,
     "metadata": {},
     "output_type": "execute_result"
    }
   ],
   "source": [
    "total_data.head(5)"
   ]
  },
  {
   "cell_type": "code",
   "execution_count": 8,
   "metadata": {},
   "outputs": [],
   "source": [
    "total_data['label']  = total_data['ratings'].apply(lambda x : 1 if x>=4 else 0)"
   ]
  },
  {
   "cell_type": "code",
   "execution_count": 14,
   "metadata": {},
   "outputs": [
    {
     "data": {
      "text/plain": [
       "(200000, 199908)"
      ]
     },
     "execution_count": 14,
     "metadata": {},
     "output_type": "execute_result"
    }
   ],
   "source": [
    "len(total_data),total_data['reviews'].nunique()"
   ]
  },
  {
   "cell_type": "markdown",
   "metadata": {},
   "source": [
    "- 중복 데이터가 92개 존재하므로 제거해준다."
   ]
  },
  {
   "cell_type": "code",
   "execution_count": 17,
   "metadata": {},
   "outputs": [],
   "source": [
    "total_data = total_data.drop_duplicates(subset=['reviews']).reset_index(drop = True)"
   ]
  },
  {
   "cell_type": "code",
   "execution_count": 20,
   "metadata": {},
   "outputs": [
    {
     "data": {
      "text/plain": [
       "ratings    0\n",
       "reviews    0\n",
       "label      0\n",
       "dtype: int64"
      ]
     },
     "execution_count": 20,
     "metadata": {},
     "output_type": "execute_result"
    }
   ],
   "source": [
    "total_data.isnull().sum()"
   ]
  },
  {
   "cell_type": "markdown",
   "metadata": {},
   "source": [
    "- 결측값은 존재하지 않는다."
   ]
  },
  {
   "cell_type": "markdown",
   "metadata": {},
   "source": [
    "## 2) 훈련 데이터와 테스트 데이터 분리하기"
   ]
  },
  {
   "cell_type": "code",
   "execution_count": 36,
   "metadata": {},
   "outputs": [],
   "source": [
    "X_train,X_test= train_test_split(total_data,test_size=0.25,stratify=total_data['label'],random_state=42)"
   ]
  },
  {
   "cell_type": "markdown",
   "metadata": {},
   "source": [
    "## 3) 레이블 분포 확인하기"
   ]
  },
  {
   "cell_type": "code",
   "execution_count": 39,
   "metadata": {},
   "outputs": [
    {
     "data": {
      "image/png": "[encoded data removed]",
      "text/plain": [
       "<Figure size 432x288 with 1 Axes>"
      ]
     },
     "metadata": {
      "needs_background": "light"
     },
     "output_type": "display_data"
    }
   ],
   "source": [
    "total_data['label'].value_counts(normalize = True).plot.bar()\n",
    "plt.show()"
   ]
  },
  {
   "cell_type": "code",
   "execution_count": 40,
   "metadata": {},
   "outputs": [
    {
     "data": {
      "text/plain": [
       "0    74966\n",
       "1    74965\n",
       "Name: label, dtype: int64"
      ]
     },
     "execution_count": 40,
     "metadata": {},
     "output_type": "execute_result"
    }
   ],
   "source": [
    "X_train['label'].value_counts()"
   ]
  },
  {
   "cell_type": "code",
   "execution_count": 41,
   "metadata": {},
   "outputs": [
    {
     "data": {
      "text/plain": [
       "0    24989\n",
       "1    24988\n",
       "Name: label, dtype: int64"
      ]
     },
     "execution_count": 41,
     "metadata": {},
     "output_type": "execute_result"
    }
   ],
   "source": [
    "X_test['label'].value_counts()"
   ]
  },
  {
   "cell_type": "markdown",
   "metadata": {},
   "source": [
    "- train & test 레이블 분포가 고르게 잘 나누어졌다."
   ]
  },
  {
   "cell_type": "markdown",
   "metadata": {},
   "source": [
    "## 4) 데이터 정제하기"
   ]
  },
  {
   "cell_type": "markdown",
   "metadata": {},
   "source": [
    "- 정규표현식을 통해 한글, 띄어쓰기를 제외하고 제거"
   ]
  },
  {
   "cell_type": "code",
   "execution_count": 45,
   "metadata": {},
   "outputs": [
    {
     "name": "stderr",
     "output_type": "stream",
     "text": [
      "C:\\Users\\qhadk\\AppData\\Local\\Continuum\\anaconda3\\lib\\site-packages\\ipykernel_launcher.py:1: FutureWarning: The default value of regex will change from True to False in a future version.\n",
      "  \"\"\"Entry point for launching an IPython kernel.\n",
      "C:\\Users\\qhadk\\AppData\\Local\\Continuum\\anaconda3\\lib\\site-packages\\ipykernel_launcher.py:1: SettingWithCopyWarning: \n",
      "A value is trying to be set on a copy of a slice from a DataFrame.\n",
      "Try using .loc[row_indexer,col_indexer] = value instead\n",
      "\n",
      "See the caveats in the documentation: https://pandas.pydata.org/pandas-docs/stable/user_guide/indexing.html#returning-a-view-versus-a-copy\n",
      "  \"\"\"Entry point for launching an IPython kernel.\n"
     ]
    }
   ],
   "source": [
    "X_train['reviews'] = X_train['reviews'].str.replace('[^ ㄱ-ㅎㅏ-ㅣ가-힣]','')"
   ]
  },
  {
   "cell_type": "code",
   "execution_count": 48,
   "metadata": {},
   "outputs": [
    {
     "name": "stderr",
     "output_type": "stream",
     "text": [
      "C:\\Users\\qhadk\\AppData\\Local\\Continuum\\anaconda3\\lib\\site-packages\\pandas\\core\\series.py:4485: SettingWithCopyWarning: \n",
      "A value is trying to be set on a copy of a slice from a DataFrame\n",
      "\n",
      "See the caveats in the documentation: https://pandas.pydata.org/pandas-docs/stable/user_guide/indexing.html#returning-a-view-versus-a-copy\n",
      "  method=method,\n"
     ]
    }
   ],
   "source": [
    "X_train['reviews'].replace('',np.nan,inplace = True)"
   ]
  },
  {
   "cell_type": "code",
   "execution_count": 52,
   "metadata": {},
   "outputs": [
    {
     "data": {
      "text/plain": [
       "ratings    0\n",
       "reviews    0\n",
       "label      0\n",
       "dtype: int64"
      ]
     },
     "execution_count": 52,
     "metadata": {},
     "output_type": "execute_result"
    }
   ],
   "source": [
    "X_train.isnull().sum()"
   ]
  },
  {
   "cell_type": "code",
   "execution_count": 63,
   "metadata": {},
   "outputs": [],
   "source": [
    "X_train = X_train.reset_index(drop = True)"
   ]
  },
  {
   "cell_type": "code",
   "execution_count": 64,
   "metadata": {},
   "outputs": [
    {
     "data": {
      "text/plain": [
       "(149931, 3)"
      ]
     },
     "execution_count": 64,
     "metadata": {},
     "output_type": "execute_result"
    }
   ],
   "source": [
    "X_train.shape"
   ]
  },
  {
   "cell_type": "markdown",
   "metadata": {},
   "source": [
    "- 결측값은 존재하지 않았다.\n",
    "- test 데이터도 적용"
   ]
  },
  {
   "cell_type": "code",
   "execution_count": 56,
   "metadata": {},
   "outputs": [
    {
     "name": "stderr",
     "output_type": "stream",
     "text": [
      "C:\\Users\\qhadk\\AppData\\Local\\Continuum\\anaconda3\\lib\\site-packages\\ipykernel_launcher.py:1: FutureWarning: The default value of regex will change from True to False in a future version.\n",
      "  \"\"\"Entry point for launching an IPython kernel.\n",
      "C:\\Users\\qhadk\\AppData\\Local\\Continuum\\anaconda3\\lib\\site-packages\\ipykernel_launcher.py:1: SettingWithCopyWarning: \n",
      "A value is trying to be set on a copy of a slice from a DataFrame.\n",
      "Try using .loc[row_indexer,col_indexer] = value instead\n",
      "\n",
      "See the caveats in the documentation: https://pandas.pydata.org/pandas-docs/stable/user_guide/indexing.html#returning-a-view-versus-a-copy\n",
      "  \"\"\"Entry point for launching an IPython kernel.\n",
      "C:\\Users\\qhadk\\AppData\\Local\\Continuum\\anaconda3\\lib\\site-packages\\pandas\\core\\series.py:4485: SettingWithCopyWarning: \n",
      "A value is trying to be set on a copy of a slice from a DataFrame\n",
      "\n",
      "See the caveats in the documentation: https://pandas.pydata.org/pandas-docs/stable/user_guide/indexing.html#returning-a-view-versus-a-copy\n",
      "  method=method,\n"
     ]
    }
   ],
   "source": [
    "X_test['reviews'] = X_test['reviews'].str.replace('[^ ㄱ-ㅎㅏ-ㅣ가-힣]','')\n",
    "X_test['reviews'].replace('',np.nan,inplace = True)"
   ]
  },
  {
   "cell_type": "code",
   "execution_count": 57,
   "metadata": {},
   "outputs": [
    {
     "data": {
      "text/plain": [
       "ratings    0\n",
       "reviews    0\n",
       "label      0\n",
       "dtype: int64"
      ]
     },
     "execution_count": 57,
     "metadata": {},
     "output_type": "execute_result"
    }
   ],
   "source": [
    "X_test.isnull().sum()"
   ]
  },
  {
   "cell_type": "markdown",
   "metadata": {},
   "source": [
    "- X_test에도 결측값은 존재하지 않았다."
   ]
  },
  {
   "cell_type": "code",
   "execution_count": 59,
   "metadata": {},
   "outputs": [],
   "source": [
    "X_test =X_test.reset_index(drop = True)"
   ]
  },
  {
   "cell_type": "code",
   "execution_count": 61,
   "metadata": {},
   "outputs": [
    {
     "data": {
      "text/plain": [
       "(49977, 3)"
      ]
     },
     "execution_count": 61,
     "metadata": {},
     "output_type": "execute_result"
    }
   ],
   "source": [
    "X_test.shape"
   ]
  },
  {
   "cell_type": "markdown",
   "metadata": {},
   "source": [
    "## 5) 토큰화"
   ]
  },
  {
   "cell_type": "code",
   "execution_count": 80,
   "metadata": {},
   "outputs": [],
   "source": [
    "okt = Okt()\n",
    "stopwords = ['도', '는', '다', '의', '가', '이', '은', '한', '에', '하', '고', '을', '를', '인', '듯', '과', '와', '네', '들', '듯', '지', '임', '게']"
   ]
  },
  {
   "cell_type": "code",
   "execution_count": 83,
   "metadata": {},
   "outputs": [],
   "source": [
    "X_train['tokenizer'] = X_train['reviews'].apply(okt.morphs)\n",
    "X_train['tokenizer'] = X_train['tokenizer'].apply(lambda x: [item for item in x if item not in stopwords])\n",
    "X_test['tokenizer'] = X_test['reviews'].apply(okt.morphs)\n",
    "X_test['tokenizer'] = X_test['tokenizer'].apply(lambda x: [item for item in x if item not in stopwords])"
   ]
  },
  {
   "cell_type": "code",
   "execution_count": 84,
   "metadata": {},
   "outputs": [
    {
     "data": {
      "text/html": [
       "<div>\n",
       "<style scoped>\n",
       "    .dataframe tbody tr th:only-of-type {\n",
       "        vertical-align: middle;\n",
       "    }\n",
       "\n",
       "    .dataframe tbody tr th {\n",
       "        vertical-align: top;\n",
       "    }\n",
       "\n",
       "    .dataframe thead th {\n",
       "        text-align: right;\n",
       "    }\n",
       "</style>\n",
       "<table border=\"1\" class=\"dataframe\">\n",
       "  <thead>\n",
       "    <tr style=\"text-align: right;\">\n",
       "      <th></th>\n",
       "      <th>ratings</th>\n",
       "      <th>reviews</th>\n",
       "      <th>label</th>\n",
       "      <th>tokenizer</th>\n",
       "    </tr>\n",
       "  </thead>\n",
       "  <tbody>\n",
       "    <tr>\n",
       "      <th>0</th>\n",
       "      <td>2</td>\n",
       "      <td>택배사 좀 바꾸셔야겠어요당일 발송제품이 주일만에 오네요 지역도 서울인데</td>\n",
       "      <td>0</td>\n",
       "      <td>[택배, 사, 좀, 바꾸셔야겠어요, 당일, 발송, 제품, 주일, 만에, 오네요, 지...</td>\n",
       "    </tr>\n",
       "    <tr>\n",
       "      <th>1</th>\n",
       "      <td>5</td>\n",
       "      <td>아이가 사달라고해서 생선으로 구입했습니다 근뎅뭔 맛인지는ㅡㅡㅋㅋ</td>\n",
       "      <td>1</td>\n",
       "      <td>[아이, 사, 달라, 고해, 서, 생선, 으로, 구입, 했습니다, 근, 뎅, 뭔, ...</td>\n",
       "    </tr>\n",
       "    <tr>\n",
       "      <th>2</th>\n",
       "      <td>5</td>\n",
       "      <td>이유식용으로 구매했어요 딱 생각했던 사이즈에요 평소에 작은 사이즈 도마가 편해서 자...</td>\n",
       "      <td>1</td>\n",
       "      <td>[이유, 식용, 으로, 구매, 했어요, 딱, 생각, 했던, 사이즈, 에요, 평소, ...</td>\n",
       "    </tr>\n",
       "    <tr>\n",
       "      <th>3</th>\n",
       "      <td>2</td>\n",
       "      <td>배송이 이렇게 왔네요ㄷㄷ 다시 펴지지도 않는다는점 구매평도 남겼지만 반품귀찮아 그냥...</td>\n",
       "      <td>0</td>\n",
       "      <td>[배송, 이렇게, 왔네요, ㄷㄷ, 다시, 펴지지도, 않는다는, 점, 구, 매, 평,...</td>\n",
       "    </tr>\n",
       "    <tr>\n",
       "      <th>4</th>\n",
       "      <td>1</td>\n",
       "      <td>고객을 생각하지도 않는 업체인것 같네요 과실로 인해서 고객이 불편을 느끼는데 사과한...</td>\n",
       "      <td>0</td>\n",
       "      <td>[고객, 생각, 하지도, 않는, 업체, 것, 같네요, 과실, 로, 인해서, 고객, ...</td>\n",
       "    </tr>\n",
       "  </tbody>\n",
       "</table>\n",
       "</div>"
      ],
      "text/plain": [
       "   ratings                                            reviews  label  \\\n",
       "0        2            택배사 좀 바꾸셔야겠어요당일 발송제품이 주일만에 오네요 지역도 서울인데      0   \n",
       "1        5                아이가 사달라고해서 생선으로 구입했습니다 근뎅뭔 맛인지는ㅡㅡㅋㅋ      1   \n",
       "2        5  이유식용으로 구매했어요 딱 생각했던 사이즈에요 평소에 작은 사이즈 도마가 편해서 자...      1   \n",
       "3        2  배송이 이렇게 왔네요ㄷㄷ 다시 펴지지도 않는다는점 구매평도 남겼지만 반품귀찮아 그냥...      0   \n",
       "4        1  고객을 생각하지도 않는 업체인것 같네요 과실로 인해서 고객이 불편을 느끼는데 사과한...      0   \n",
       "\n",
       "                                           tokenizer  \n",
       "0  [택배, 사, 좀, 바꾸셔야겠어요, 당일, 발송, 제품, 주일, 만에, 오네요, 지...  \n",
       "1  [아이, 사, 달라, 고해, 서, 생선, 으로, 구입, 했습니다, 근, 뎅, 뭔, ...  \n",
       "2  [이유, 식용, 으로, 구매, 했어요, 딱, 생각, 했던, 사이즈, 에요, 평소, ...  \n",
       "3  [배송, 이렇게, 왔네요, ㄷㄷ, 다시, 펴지지도, 않는다는, 점, 구, 매, 평,...  \n",
       "4  [고객, 생각, 하지도, 않는, 업체, 것, 같네요, 과실, 로, 인해서, 고객, ...  "
      ]
     },
     "execution_count": 84,
     "metadata": {},
     "output_type": "execute_result"
    }
   ],
   "source": [
    "X_train.head()"
   ]
  },
  {
   "cell_type": "code",
   "execution_count": 85,
   "metadata": {},
   "outputs": [
    {
     "data": {
      "text/html": [
       "<div>\n",
       "<style scoped>\n",
       "    .dataframe tbody tr th:only-of-type {\n",
       "        vertical-align: middle;\n",
       "    }\n",
       "\n",
       "    .dataframe tbody tr th {\n",
       "        vertical-align: top;\n",
       "    }\n",
       "\n",
       "    .dataframe thead th {\n",
       "        text-align: right;\n",
       "    }\n",
       "</style>\n",
       "<table border=\"1\" class=\"dataframe\">\n",
       "  <thead>\n",
       "    <tr style=\"text-align: right;\">\n",
       "      <th></th>\n",
       "      <th>ratings</th>\n",
       "      <th>reviews</th>\n",
       "      <th>label</th>\n",
       "      <th>tokenizer</th>\n",
       "    </tr>\n",
       "  </thead>\n",
       "  <tbody>\n",
       "    <tr>\n",
       "      <th>0</th>\n",
       "      <td>5</td>\n",
       "      <td>간편한거찾다가 사봤어요</td>\n",
       "      <td>1</td>\n",
       "      <td>[간편한거, 찾다가, 사봤어요]</td>\n",
       "    </tr>\n",
       "    <tr>\n",
       "      <th>1</th>\n",
       "      <td>5</td>\n",
       "      <td>항상 쓰던거라 주문합니다</td>\n",
       "      <td>1</td>\n",
       "      <td>[항상, 쓰던거라, 주문, 합니다]</td>\n",
       "    </tr>\n",
       "    <tr>\n",
       "      <th>2</th>\n",
       "      <td>5</td>\n",
       "      <td>맘에 들어요 서비스로 주신 머리핀도 이쁘네요</td>\n",
       "      <td>1</td>\n",
       "      <td>[맘, 들어요, 서비스, 로, 주신, 머리핀, 이쁘네요]</td>\n",
       "    </tr>\n",
       "    <tr>\n",
       "      <th>3</th>\n",
       "      <td>1</td>\n",
       "      <td>간단히 말해서 정품이 아닌거 같네요 음질 모노밖에 안됩니다 그냥 삼성사이트에서 제값...</td>\n",
       "      <td>0</td>\n",
       "      <td>[간단히, 말, 해서, 정품, 아닌거, 같네요, 음질, 모노, 밖에, 안됩니다, 그...</td>\n",
       "    </tr>\n",
       "    <tr>\n",
       "      <th>4</th>\n",
       "      <td>2</td>\n",
       "      <td>저만그럴수있지만 앞뒤구분이 너무 힘들고 수분기는 앞뒤를 피부를 닦을정도는 아니예요 ...</td>\n",
       "      <td>0</td>\n",
       "      <td>[저, 만, 그럴수있지만, 앞뒤, 구분, 너무, 힘들고, 수, 분기, 앞뒤, 피부,...</td>\n",
       "    </tr>\n",
       "  </tbody>\n",
       "</table>\n",
       "</div>"
      ],
      "text/plain": [
       "   ratings                                            reviews  label  \\\n",
       "0        5                                       간편한거찾다가 사봤어요      1   \n",
       "1        5                                      항상 쓰던거라 주문합니다      1   \n",
       "2        5                           맘에 들어요 서비스로 주신 머리핀도 이쁘네요      1   \n",
       "3        1  간단히 말해서 정품이 아닌거 같네요 음질 모노밖에 안됩니다 그냥 삼성사이트에서 제값...      0   \n",
       "4        2  저만그럴수있지만 앞뒤구분이 너무 힘들고 수분기는 앞뒤를 피부를 닦을정도는 아니예요 ...      0   \n",
       "\n",
       "                                           tokenizer  \n",
       "0                                  [간편한거, 찾다가, 사봤어요]  \n",
       "1                                [항상, 쓰던거라, 주문, 합니다]  \n",
       "2                    [맘, 들어요, 서비스, 로, 주신, 머리핀, 이쁘네요]  \n",
       "3  [간단히, 말, 해서, 정품, 아닌거, 같네요, 음질, 모노, 밖에, 안됩니다, 그...  \n",
       "4  [저, 만, 그럴수있지만, 앞뒤, 구분, 너무, 힘들고, 수, 분기, 앞뒤, 피부,...  "
      ]
     },
     "execution_count": 85,
     "metadata": {},
     "output_type": "execute_result"
    }
   ],
   "source": [
    "X_test.head()"
   ]
  },
  {
   "cell_type": "markdown",
   "metadata": {},
   "source": [
    "## 6) 단어와 길이 분포 확인하기"
   ]
  },
  {
   "cell_type": "markdown",
   "metadata": {},
   "source": [
    "### Train data의 긍부정 단어들의 빈도수와 길이 파악"
   ]
  },
  {
   "cell_type": "code",
   "execution_count": 93,
   "metadata": {},
   "outputs": [],
   "source": [
    "negative_words = np.hstack(X_train.loc[X_train['label']==0]['tokenizer'].values)\n",
    "positive_words = np.hstack(X_train.loc[X_train['label']==1]['tokenizer'].values)"
   ]
  },
  {
   "cell_type": "code",
   "execution_count": 97,
   "metadata": {},
   "outputs": [],
   "source": [
    "negative_count = Counter(negative_words)\n",
    "positive_count = Counter(positive_words)"
   ]
  },
  {
   "cell_type": "code",
   "execution_count": 102,
   "metadata": {
    "scrolled": true
   },
   "outputs": [
    {
     "data": {
      "text/plain": [
       "[('너무', 13063),\n",
       " ('요', 11842),\n",
       " ('안', 11741),\n",
       " ('배송', 9154),\n",
       " ('그냥', 8522),\n",
       " ('잘', 7776),\n",
       " ('로', 5749),\n",
       " ('했는데', 5680),\n",
       " ('별로', 5582),\n",
       " ('못', 5101),\n",
       " ('제품', 5007),\n",
       " ('으로', 4994),\n",
       " ('좀', 4921),\n",
       " ('생각', 4918),\n",
       " ('ㅠㅠ', 4869),\n",
       " ('사용', 4841),\n",
       " ('하고', 4714),\n",
       " ('보다', 4634),\n",
       " ('구매', 4576),\n",
       " ('맛', 3984)]"
      ]
     },
     "execution_count": 102,
     "metadata": {},
     "output_type": "execute_result"
    }
   ],
   "source": [
    "negative_count.most_common(20)"
   ]
  },
  {
   "cell_type": "markdown",
   "metadata": {},
   "source": [
    "- 못,별로, ㅠㅠ 보다 등 부정적인 단어들이 주로 사용"
   ]
  },
  {
   "cell_type": "code",
   "execution_count": 103,
   "metadata": {},
   "outputs": [
    {
     "data": {
      "text/plain": [
       "[('잘', 15300),\n",
       " ('좋아요', 14303),\n",
       " ('배송', 12248),\n",
       " ('너무', 9122),\n",
       " ('재구매', 8665),\n",
       " ('구매', 7111),\n",
       " ('요', 6642),\n",
       " ('사용', 5418),\n",
       " ('가격', 5053),\n",
       " ('으로', 4430),\n",
       " ('로', 4416),\n",
       " ('같아요', 4414),\n",
       " ('좋네요', 4203),\n",
       " ('보다', 3999),\n",
       " ('빠르고', 3938),\n",
       " ('제품', 3937),\n",
       " ('주문', 3782),\n",
       " ('입니다', 3722),\n",
       " ('생각', 3500),\n",
       " ('더', 3341)]"
      ]
     },
     "execution_count": 103,
     "metadata": {},
     "output_type": "execute_result"
    }
   ],
   "source": [
    "positive_count.most_common(20)"
   ]
  },
  {
   "cell_type": "markdown",
   "metadata": {},
   "source": [
    "- 잘, 좋아요, 재구매, 좋네요, 더 등 긍정적인 단어들이 주로 사용"
   ]
  },
  {
   "cell_type": "code",
   "execution_count": 129,
   "metadata": {},
   "outputs": [
    {
     "data": {
      "text/plain": [
       "14.10734199503775"
      ]
     },
     "execution_count": 129,
     "metadata": {},
     "output_type": "execute_result"
    }
   ],
   "source": [
    "np.mean(X_train.loc[X_train['label']==0]['tokenizer'].map(lambda x : len(x)).values)"
   ]
  },
  {
   "cell_type": "code",
   "execution_count": 130,
   "metadata": {},
   "outputs": [
    {
     "name": "stdout",
     "output_type": "stream",
     "text": [
      "Negative의 평균 : 14.10734199503775\n",
      "Positive의 평균 : 10.780444207296739\n"
     ]
    },
    {
     "data": {
      "text/plain": [
       "<Figure size 432x288 with 0 Axes>"
      ]
     },
     "metadata": {},
     "output_type": "display_data"
    },
    {
     "data": {
      "image/png": "[encoded data removed]",
      "text/plain": [
       "<Figure size 1152x432 with 2 Axes>"
      ]
     },
     "metadata": {
      "needs_background": "light"
     },
     "output_type": "display_data"
    }
   ],
   "source": [
    "title_list =['Negative','Positive']\n",
    "\n",
    "import seaborn as sns\n",
    "\n",
    "i = 0\n",
    "plt.figure()\n",
    "fig,ax = plt.subplots(1,2,figsize = (16,6))\n",
    "for value in X_train['label'].unique() :\n",
    "    i+=1\n",
    "    plt.subplot(1,2,i)\n",
    "    plt.title(f'{title_list[value]} Reviews')\n",
    "    df = X_train.loc[X_train['label']==value]['tokenizer'].map(lambda x : len(x)).values\n",
    "    plt.hist(df,bins=50)\n",
    "    locs,labels = plt.xticks()\n",
    "    plt.subplots_adjust(hspace =.6, top = 1)\n",
    "    plt.tick_params(axis = 'both',which = 'major',labelsize = 12)\n",
    "    print(f\"{title_list[value]}의 평균 : {np.mean(df)}\")\n",
    "plt.show()\n"
   ]
  },
  {
   "cell_type": "markdown",
   "metadata": {},
   "source": [
    "- 부정리뷰가 긍정리뷰보다 평균적으로 길게 쓰임을 알 수 있다."
   ]
  },
  {
   "cell_type": "code",
   "execution_count": 132,
   "metadata": {},
   "outputs": [],
   "source": [
    "X_tr = X_train['tokenizer'].values\n",
    "y_tr = X_train['label'].values\n",
    "\n",
    "X_te = X_test['tokenizer'].values\n",
    "y_te = X_test['label'].values"
   ]
  },
  {
   "cell_type": "markdown",
   "metadata": {},
   "source": [
    "## 7) 정수 인코딩"
   ]
  },
  {
   "cell_type": "code",
   "execution_count": 134,
   "metadata": {},
   "outputs": [],
   "source": [
    "tokenizer = Tokenizer()\n",
    "tokenizer.fit_on_texts(X_tr)"
   ]
  },
  {
   "cell_type": "code",
   "execution_count": 136,
   "metadata": {},
   "outputs": [
    {
     "name": "stdout",
     "output_type": "stream",
     "text": [
      "단어 집합(vocabulary)의 크기 : 94707\n",
      "등장 빈도가 1번 이하인 희귀 단어의 수: 52660\n",
      "단어 집합에서 희귀 단어의 비율: 55.603070522770224\n",
      "전체 등장 빈도에서 희귀 단어 등장 빈도 비율: 2.822492251009928\n"
     ]
    }
   ],
   "source": [
    "threshold = 2\n",
    "total_cnt = len(tokenizer.word_index)\n",
    "rare_cnt = 0\n",
    "total_freq = 0\n",
    "rare_freq = 0\n",
    "\n",
    "for key, value in tokenizer.word_counts.items():\n",
    "    total_freq = total_freq + value\n",
    "\n",
    "    if(value < threshold):\n",
    "        rare_cnt = rare_cnt + 1\n",
    "        rare_freq = rare_freq + value\n",
    "\n",
    "print('단어 집합(vocabulary)의 크기 :',total_cnt)\n",
    "print('등장 빈도가 %s번 이하인 희귀 단어의 수: %s'%(threshold - 1, rare_cnt))\n",
    "print(\"단어 집합에서 희귀 단어의 비율:\", (rare_cnt / total_cnt)*100)\n",
    "print(\"전체 등장 빈도에서 희귀 단어 등장 빈도 비율:\", (rare_freq / total_freq)*100)"
   ]
  },
  {
   "cell_type": "code",
   "execution_count": 137,
   "metadata": {},
   "outputs": [
    {
     "name": "stdout",
     "output_type": "stream",
     "text": [
      "단어 집합의 크기 : 42049\n"
     ]
    }
   ],
   "source": [
    "vocab_size = total_cnt - rare_cnt + 2\n",
    "print('단어 집합의 크기 :',vocab_size)"
   ]
  },
  {
   "cell_type": "code",
   "execution_count": 139,
   "metadata": {},
   "outputs": [],
   "source": [
    "tokenizer = Tokenizer(vocab_size, oov_token = 'OOV') \n",
    "tokenizer.fit_on_texts(X_tr)\n",
    "X_tr = tokenizer.texts_to_sequences(X_tr)\n",
    "X_te = tokenizer.texts_to_sequences(X_te)"
   ]
  },
  {
   "cell_type": "markdown",
   "metadata": {},
   "source": [
    "- 정수 인코딩 과정에서 이보다 큰 숫자가 부여된 단어들은 OOV로 변환"
   ]
  },
  {
   "cell_type": "markdown",
   "metadata": {},
   "source": [
    "## 8) 패딩"
   ]
  },
  {
   "cell_type": "code",
   "execution_count": 142,
   "metadata": {},
   "outputs": [
    {
     "name": "stdout",
     "output_type": "stream",
     "text": [
      "리뷰의 최대 길이 : 61\n",
      "리뷰의 평균 길이 : 2.6678938978596822e-05\n"
     ]
    },
    {
     "data": {
      "image/png": "[encoded data removed]",
      "text/plain": [
       "<Figure size 432x288 with 1 Axes>"
      ]
     },
     "metadata": {
      "needs_background": "light"
     },
     "output_type": "display_data"
    }
   ],
   "source": [
    "print('리뷰의 최대 길이 :',max(len(l) for l in X_tr))\n",
    "print('리뷰의 평균 길이 :',sum(map(len, X_train))/len(X_tr))\n",
    "plt.hist([len(s) for s in X_tr], bins=50)\n",
    "plt.xlabel('length of samples')\n",
    "plt.ylabel('number of samples')\n",
    "plt.show()"
   ]
  },
  {
   "cell_type": "code",
   "execution_count": 144,
   "metadata": {},
   "outputs": [],
   "source": [
    "def below_threshold_len(max_len, nested_list):\n",
    "  cnt = 0\n",
    "  for s in nested_list:\n",
    "    if(len(s) <= max_len):\n",
    "        cnt = cnt + 1\n",
    "  print('전체 샘플 중 길이가 %s 이하인 샘플의 비율: %s'%(max_len, (cnt / len(nested_list))*100))"
   ]
  },
  {
   "cell_type": "code",
   "execution_count": 145,
   "metadata": {},
   "outputs": [
    {
     "name": "stdout",
     "output_type": "stream",
     "text": [
      "전체 샘플 중 길이가 80 이하인 샘플의 비율: 100.0\n"
     ]
    }
   ],
   "source": [
    "max_len = 80\n",
    "below_threshold_len(max_len, X_tr)"
   ]
  },
  {
   "cell_type": "code",
   "execution_count": 146,
   "metadata": {},
   "outputs": [],
   "source": [
    "X_train = pad_sequences(X_tr, maxlen = max_len)\n",
    "X_test = pad_sequences(X_te, maxlen = max_len)"
   ]
  },
  {
   "cell_type": "code",
   "execution_count": 147,
   "metadata": {},
   "outputs": [
    {
     "data": {
      "text/plain": [
       "array([[   0,    0,    0, ..., 4338, 7656,   52],\n",
       "       [   0,    0,    0, ...,   24,  864,    1],\n",
       "       [   0,    0,    0, ...,  208, 5409,    6],\n",
       "       ...,\n",
       "       [   0,    0,    0, ...,   16,  102,  921],\n",
       "       [   0,    0,    0, ..., 4293, 1232,   39],\n",
       "       [   0,    0,    0, ...,   10,   19,  168]])"
      ]
     },
     "execution_count": 147,
     "metadata": {},
     "output_type": "execute_result"
    }
   ],
   "source": [
    "X_train"
   ]
  },
  {
   "cell_type": "markdown",
   "metadata": {},
   "source": [
    "# 3. GRU로 네이버 쇼핑 리뷰 감성 분류하기"
   ]
  },
  {
   "cell_type": "code",
   "execution_count": 148,
   "metadata": {},
   "outputs": [],
   "source": [
    "from tensorflow.keras.layers import Embedding, Dense, GRU\n",
    "from tensorflow.keras.models import Sequential\n",
    "from tensorflow.keras.models import load_model\n",
    "from tensorflow.keras.callbacks import EarlyStopping, ModelCheckpoint"
   ]
  },
  {
   "cell_type": "code",
   "execution_count": 150,
   "metadata": {},
   "outputs": [],
   "source": [
    "model = Sequential()\n",
    "model.add(Embedding(vocab_size, 100))\n",
    "model.add(GRU(128))\n",
    "model.add(Dense(1, activation='sigmoid'))"
   ]
  },
  {
   "cell_type": "code",
   "execution_count": 151,
   "metadata": {},
   "outputs": [],
   "source": [
    "es = EarlyStopping(monitor='val_loss', mode='min', verbose=1, patience=4)\n",
    "mc = ModelCheckpoint('best_model.h5', monitor='val_acc', mode='max', verbose=1, save_best_only=True)"
   ]
  },
  {
   "cell_type": "code",
   "execution_count": 153,
   "metadata": {
    "scrolled": true
   },
   "outputs": [
    {
     "name": "stdout",
     "output_type": "stream",
     "text": [
      "Epoch 1/15\n",
      "2000/2000 [==============================] - 45s 20ms/step - loss: 0.2777 - acc: 0.8948 - val_loss: 0.2441 - val_acc: 0.9070\n",
      "\n",
      "Epoch 00001: val_acc improved from -inf to 0.90699, saving model to best_model.h5\n",
      "Epoch 2/15\n",
      "2000/2000 [==============================] - 41s 21ms/step - loss: 0.2193 - acc: 0.9202 - val_loss: 0.2392 - val_acc: 0.9106\n",
      "\n",
      "Epoch 00002: val_acc improved from 0.90699 to 0.91063, saving model to best_model.h5\n",
      "Epoch 3/15\n",
      "2000/2000 [==============================] - 42s 21ms/step - loss: 0.1998 - acc: 0.9293 - val_loss: 0.2302 - val_acc: 0.9155\n",
      "\n",
      "Epoch 00003: val_acc improved from 0.91063 to 0.91550, saving model to best_model.h5\n",
      "Epoch 4/15\n",
      "2000/2000 [==============================] - 43s 22ms/step - loss: 0.1845 - acc: 0.9347 - val_loss: 0.2248 - val_acc: 0.9171\n",
      "\n",
      "Epoch 00004: val_acc improved from 0.91550 to 0.91713, saving model to best_model.h5\n",
      "Epoch 5/15\n",
      "2000/2000 [==============================] - 44s 22ms/step - loss: 0.1728 - acc: 0.9398 - val_loss: 0.2314 - val_acc: 0.9162\n",
      "\n",
      "Epoch 00005: val_acc did not improve from 0.91713\n",
      "Epoch 6/15\n",
      "2000/2000 [==============================] - 44s 22ms/step - loss: 0.1622 - acc: 0.9438 - val_loss: 0.2326 - val_acc: 0.9169\n",
      "\n",
      "Epoch 00006: val_acc did not improve from 0.91713\n",
      "Epoch 7/15\n",
      "2000/2000 [==============================] - 43s 21ms/step - loss: 0.1517 - acc: 0.9479 - val_loss: 0.2410 - val_acc: 0.9146\n",
      "\n",
      "Epoch 00007: val_acc did not improve from 0.91713\n",
      "Epoch 8/15\n",
      "2000/2000 [==============================] - 45s 22ms/step - loss: 0.1412 - acc: 0.9518 - val_loss: 0.2399 - val_acc: 0.9141\n",
      "\n",
      "Epoch 00008: val_acc did not improve from 0.91713\n",
      "Epoch 00008: early stopping\n"
     ]
    }
   ],
   "source": [
    "model.compile(optimizer='rmsprop', loss='binary_crossentropy', metrics=['acc'])\n",
    "history = model.fit(X_train, y_tr, epochs=15, callbacks=[es, mc], batch_size=60, validation_split=0.2)"
   ]
  },
  {
   "cell_type": "code",
   "execution_count": 154,
   "metadata": {},
   "outputs": [
    {
     "name": "stdout",
     "output_type": "stream",
     "text": [
      "1562/1562 [==============================] - 7s 5ms/step - loss: 0.2192 - acc: 0.9195\n",
      "\n",
      " 테스트 정확도: 0.9195\n"
     ]
    }
   ],
   "source": [
    "loaded_model = load_model('best_model.h5')\n",
    "print(\"\\n 테스트 정확도: %.4f\" % (loaded_model.evaluate(X_test, y_te)[1]))"
   ]
  },
  {
   "cell_type": "markdown",
   "metadata": {},
   "source": [
    "# 4. 리뷰 예측해보기"
   ]
  },
  {
   "cell_type": "code",
   "execution_count": 157,
   "metadata": {},
   "outputs": [],
   "source": [
    "def sentiment_predict(new_sentence):\n",
    "    new_sentence = okt.morphs(new_sentence) # 토큰화\n",
    "    new_sentence = [word for word in new_sentence if not word in stopwords] # 불용어 제거\n",
    "    encoded = tokenizer.texts_to_sequences([new_sentence]) # 정수 인코딩\n",
    "    pad_new = pad_sequences(encoded, maxlen = max_len) # 패딩\n",
    "    score = float(loaded_model.predict(pad_new)) # 예측\n",
    "    if(score > 0.5):\n",
    "        print(\"{:.2f}% 확률로 긍정 리뷰입니다.\".format(score * 100))\n",
    "    else:\n",
    "        print(\"{:.2f}% 확률로 부정 리뷰입니다.\".format((1 - score) * 100))"
   ]
  },
  {
   "cell_type": "code",
   "execution_count": 158,
   "metadata": {},
   "outputs": [
    {
     "name": "stdout",
     "output_type": "stream",
     "text": [
      "97.39% 확률로 긍정 리뷰입니다.\n"
     ]
    }
   ],
   "source": [
    "sentiment_predict('이 상품 진짜 좋아요... 저는 강추합니다. 대박')"
   ]
  },
  {
   "cell_type": "code",
   "execution_count": 159,
   "metadata": {},
   "outputs": [
    {
     "name": "stdout",
     "output_type": "stream",
     "text": [
      "98.87% 확률로 부정 리뷰입니다.\n"
     ]
    }
   ],
   "source": [
    "sentiment_predict('진짜 배송도 늦고 개짜증나네요. 뭐 이런 걸 상품이라고 만듬?')"
   ]
  }
 ],
 "metadata": {
  "kernelspec": {
   "display_name": "Python 3",
   "language": "python",
   "name": "python3"
  },
  "language_info": {
   "codemirror_mode": {
    "name": "ipython",
    "version": 3
   },
   "file_extension": ".py",
   "mimetype": "text/x-python",
   "name": "python",
   "nbconvert_exporter": "python",
   "pygments_lexer": "ipython3",
   "version": "3.7.7"
  }
 },
 "nbformat": 4,
 "nbformat_minor": 4
}
